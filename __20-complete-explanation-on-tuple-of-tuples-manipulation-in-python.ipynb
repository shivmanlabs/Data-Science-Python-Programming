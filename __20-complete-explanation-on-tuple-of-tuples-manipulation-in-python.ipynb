{
 "cells": [
  {
   "cell_type": "markdown",
   "metadata": {},
   "source": [
    "# 20. Complete Explanation on Tuple of Tuples in Python"
   ]
  },
  {
   "cell_type": "markdown",
   "metadata": {},
   "source": [
    "Website Link: https://www.shivmanlabs.com/post/20-complete-explanation-on-tuple-of-tuples-manipulation-in-python"
   ]
  },
  {
   "cell_type": "markdown",
   "metadata": {},
   "source": [
    "## 20.1. How to Create Tuple of Tuples in Python?\n",
    "\n",
    "### Syntax:\n",
    "T = (t1, t2, t3)\n",
    "\n",
    "\n",
    "### Example:\n",
    "\n",
    "Let's create three different tuples. \n",
    "The prog_tuple is the tuple of programming languages used in Data Science. i.e., ('R', 'Python', 'SAS')\n",
    "\n",
    "The stats_tuple is the tuple of statistical tools used in Data Science. i.e., ('SPSS', 'Excel', 'Python', 'R')\n",
    "\n",
    "The viz_tuple is the tuple of Visualization tools used in Data Science. i.e., ('Tableau', 'PowerBI', 'Python')\n",
    "\n",
    "The Let's Create Data Science Tuple (ds_tuple). The Data Science Tuple contains the Tuples of prog_tuple, stats_tuple, and viz_tuple."
   ]
  },
  {
   "cell_type": "code",
   "execution_count": 1,
   "metadata": {},
   "outputs": [
    {
     "name": "stdout",
     "output_type": "stream",
     "text": [
      "prog_tuple : ('R', 'Python', 'SAS')\n",
      "stats_tuple: ('SPSS', 'Excel', 'Python', 'R')\n",
      "viz_tuple  : ('Tableau', 'PowerBI', 'Python')\n",
      "ds_tuple   : (('R', 'Python', 'SAS'), ('SPSS', 'Excel', 'Python', 'R'), ('Tableau', 'PowerBI', 'Python'))\n"
     ]
    }
   ],
   "source": [
    "#Programming Languages Tuple\n",
    "prog_tuple = ('R', 'Python', 'SAS')\n",
    "\n",
    "#Statistical Tools Tuple\n",
    "stats_tuple = ('SPSS', 'Excel', 'Python', 'R')\n",
    "\n",
    "#Visualization Tools Tuple\n",
    "viz_tuple = ('Tableau', 'PowerBI', 'Python')\n",
    "\n",
    "#Data Science Tuple of Tuples\n",
    "ds_tuple = (prog_tuple, stats_tuple, viz_tuple)\n",
    "\n",
    "#Let's Print the Tuples\n",
    "print('prog_tuple :', prog_tuple)\n",
    "print('stats_tuple:', stats_tuple)\n",
    "print('viz_tuple  :', viz_tuple)\n",
    "print('ds_tuple   :', ds_tuple)"
   ]
  },
  {
   "cell_type": "markdown",
   "metadata": {},
   "source": [
    "### Level-I Indexing:\n",
    "\n",
    "Syntax:\n",
    "\n",
    "T[i]\n",
    "\n",
    "It returns the Item on the Index of the Tuple."
   ]
  },
  {
   "cell_type": "code",
   "execution_count": 2,
   "metadata": {},
   "outputs": [
    {
     "name": "stdout",
     "output_type": "stream",
     "text": [
      "ds_tuple   : (('R', 'Python', 'SAS'), ('SPSS', 'Excel', 'Python', 'R'), ('Tableau', 'PowerBI', 'Python'))\n",
      "prog_tuple : ('R', 'Python', 'SAS')\n",
      "stats_tuple: ('SPSS', 'Excel', 'Python', 'R')\n",
      "viz_tuple  : ('Tableau', 'PowerBI', 'Python')\n"
     ]
    }
   ],
   "source": [
    "#Level-I Indexing\n",
    "print('ds_tuple   :', ds_tuple)\n",
    "print('prog_tuple :', ds_tuple[0])\n",
    "print('stats_tuple:', ds_tuple[1])\n",
    "print('viz_tuple  :', ds_tuple[2])"
   ]
  },
  {
   "cell_type": "markdown",
   "metadata": {},
   "source": [
    "#### Level-II Indexing\n",
    "\n",
    "Syntax:\n",
    "\n",
    "T[I][I_n]\n",
    "\n",
    "It returns the Item in the Item Inside the Tuple\n",
    "\n",
    "Python Code:\n"
   ]
  },
  {
   "cell_type": "code",
   "execution_count": 3,
   "metadata": {},
   "outputs": [
    {
     "name": "stdout",
     "output_type": "stream",
     "text": [
      "The First  Item of prog_tuple  : R\n",
      "The Second Item of prog_tuple  : Python\n",
      "The Third  Item of prog_tuple  : SAS\n",
      "The First  Item of stats_tuple : SPSS\n",
      "The Second Item of stats_tuple : Excel\n",
      "The Third  Item of stats_tuple : Python\n",
      "The Fourth Item of stats_tuple : R\n",
      "The First  Item of viz_tuple   : Tableau\n",
      "The Second Item of viz_tuple   : PowerBI\n",
      "The Third  Item of viz_tuple   : Python\n"
     ]
    }
   ],
   "source": [
    "print(\"The First  Item of prog_tuple  :\", ds_tuple[0][0])\n",
    "print(\"The Second Item of prog_tuple  :\", ds_tuple[0][1])\n",
    "print(\"The Third  Item of prog_tuple  :\", ds_tuple[0][2])\n",
    "print(\"The First  Item of stats_tuple :\", ds_tuple[1][0])\n",
    "print(\"The Second Item of stats_tuple :\", ds_tuple[1][1])\n",
    "print(\"The Third  Item of stats_tuple :\", ds_tuple[1][2])\n",
    "print(\"The Fourth Item of stats_tuple :\", ds_tuple[1][3])\n",
    "print(\"The First  Item of viz_tuple   :\", ds_tuple[2][0])\n",
    "print(\"The Second Item of viz_tuple   :\", ds_tuple[2][1])\n",
    "print(\"The Third  Item of viz_tuple   :\", ds_tuple[2][2])"
   ]
  },
  {
   "cell_type": "markdown",
   "metadata": {},
   "source": [
    "## 20.3. Tuple of Tuples Slicing:\n",
    "\n",
    "Level-I Slicing:\n",
    "\n",
    "### Syntax:\n",
    "T[i_s : i_e + 1]\n",
    "\n",
    "\n",
    "### Example:"
   ]
  },
  {
   "cell_type": "code",
   "execution_count": 7,
   "metadata": {},
   "outputs": [
    {
     "name": "stdout",
     "output_type": "stream",
     "text": [
      "Slicing prog and stats Tuple: (('R', 'Python', 'SAS'), ('SPSS', 'Excel', 'Python', 'R'))\n",
      "Slicing stats and viz  Tuple: (('SPSS', 'Excel', 'Python', 'R'), ('Tableau', 'PowerBI', 'Python'))\n",
      "Slicing viz and prog   Tuple: (('R', 'Python', 'SAS'), ('Tableau', 'PowerBI', 'Python'))\n"
     ]
    }
   ],
   "source": [
    "print(\"Slicing prog and stats Tuple:\", ds_tuple[:2])\n",
    "print(\"Slicing stats and viz  Tuple:\", ds_tuple[1:3])\n",
    "print(\"Slicing viz and prog   Tuple:\", (ds_tuple[0],ds_tuple[2]))"
   ]
  },
  {
   "cell_type": "markdown",
   "metadata": {},
   "source": [
    "## Level-II Slicing:\n"
   ]
  },
  {
   "cell_type": "markdown",
   "metadata": {},
   "source": [
    "Let's slice the First two Items of the prog_tuple, the Middle two Items of the stats_tuple, and the Last two items of the viz_tuple.\n"
   ]
  },
  {
   "cell_type": "code",
   "execution_count": 14,
   "metadata": {},
   "outputs": [
    {
     "name": "stdout",
     "output_type": "stream",
     "text": [
      "Slicing the  First Two Items in the  prog_Tuple : ('R', 'Python')\n",
      "Slicing the Middle Two Items in the stats_Tuple : ('Excel', 'Python')\n",
      "Slicing the   Last Two Items in the stats_Tuple : ('PowerBI', 'Python')\n"
     ]
    }
   ],
   "source": [
    "print(\"Slicing the  First Two Items in the  prog_Tuple :\", ds_tuple[0][0:2])\n",
    "print(\"Slicing the Middle Two Items in the stats_Tuple :\", ds_tuple[1][1:3])\n",
    "print(\"Slicing the   Last Two Items in the stats_Tuple :\", ds_tuple[2][1:3])"
   ]
  },
  {
   "cell_type": "code",
   "execution_count": 16,
   "metadata": {},
   "outputs": [
    {
     "name": "stdout",
     "output_type": "stream",
     "text": [
      "Before Deleting: (('R', 'Python', 'SAS'), ('SPSS', 'Excel', 'Python', 'R'), ('Tableau', 'PowerBI', 'Python'))\n"
     ]
    },
    {
     "ename": "NameError",
     "evalue": "name 'ds_tuple' is not defined",
     "output_type": "error",
     "traceback": [
      "\u001b[1;31m---------------------------------------------------------------------------\u001b[0m",
      "\u001b[1;31mNameError\u001b[0m                                 Traceback (most recent call last)",
      "\u001b[1;32m<ipython-input-16-74c18b5bc3aa>\u001b[0m in \u001b[0;36m<module>\u001b[1;34m\u001b[0m\n\u001b[0;32m      2\u001b[0m \u001b[1;31m#Let's delete the ds_tuple\u001b[0m\u001b[1;33m\u001b[0m\u001b[1;33m\u001b[0m\u001b[1;33m\u001b[0m\u001b[0m\n\u001b[0;32m      3\u001b[0m \u001b[1;32mdel\u001b[0m \u001b[0mds_tuple\u001b[0m\u001b[1;33m\u001b[0m\u001b[1;33m\u001b[0m\u001b[0m\n\u001b[1;32m----> 4\u001b[1;33m \u001b[0mprint\u001b[0m\u001b[1;33m(\u001b[0m\u001b[1;34m\"After  Deleting:\"\u001b[0m\u001b[1;33m,\u001b[0m \u001b[0mds_tuple\u001b[0m\u001b[1;33m)\u001b[0m\u001b[1;33m\u001b[0m\u001b[1;33m\u001b[0m\u001b[0m\n\u001b[0m",
      "\u001b[1;31mNameError\u001b[0m: name 'ds_tuple' is not defined"
     ]
    }
   ],
   "source": [
    "print(\"Before Deleting:\", ds_tuple)\n",
    "#Let's delete the ds_tuple\n",
    "del ds_tuple\n",
    "print(\"After  Deleting:\", ds_tuple)"
   ]
  },
  {
   "cell_type": "code",
   "execution_count": null,
   "metadata": {},
   "outputs": [],
   "source": []
  }
 ],
 "metadata": {
  "kernelspec": {
   "display_name": "Python 3",
   "language": "python",
   "name": "python3"
  },
  "language_info": {
   "codemirror_mode": {
    "name": "ipython",
    "version": 3
   },
   "file_extension": ".py",
   "mimetype": "text/x-python",
   "name": "python",
   "nbconvert_exporter": "python",
   "pygments_lexer": "ipython3",
   "version": "3.8.5"
  }
 },
 "nbformat": 4,
 "nbformat_minor": 4
}
