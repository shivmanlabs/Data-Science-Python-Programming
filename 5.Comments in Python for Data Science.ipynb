{
 "cells": [
  {
   "cell_type": "markdown",
   "metadata": {},
   "source": [
    "# 5.Comments in Python for Data Science"
   ]
  },
  {
   "cell_type": "markdown",
   "metadata": {},
   "source": [
    "## 5.1. Why Comments are Important in programming?"
   ]
  },
  {
   "cell_type": "markdown",
   "metadata": {},
   "source": [
    "Let's work with an example to know the importance of Comments in programming languages."
   ]
  },
  {
   "cell_type": "code",
   "execution_count": 8,
   "metadata": {},
   "outputs": [
    {
     "data": {
      "text/plain": [
       "23.781212841854934"
      ]
     },
     "execution_count": 8,
     "metadata": {},
     "output_type": "execute_result"
    }
   ],
   "source": [
    "#Program without Comment line\n",
    "h = 1.74\n",
    "w = 72\n",
    "b = w/(h**2)\n",
    "b"
   ]
  },
  {
   "cell_type": "markdown",
   "metadata": {},
   "source": [
    "#What can you understand from the above program?\n",
    "In the above program, There are three Variables. i.e., h, w, and b. Where, b = w / (h^2).  But, What exactly the program conveys?\n",
    "\n",
    "We have to find an answer to few more questions to know about the program. \n",
    "What is h?\n",
    "What is w?\n",
    "What is b?"
   ]
  },
  {
   "cell_type": "markdown",
   "metadata": {},
   "source": [
    "### Now, Look at the same program with the command lines in it."
   ]
  },
  {
   "cell_type": "code",
   "execution_count": 9,
   "metadata": {},
   "outputs": [
    {
     "data": {
      "text/plain": [
       "23.781212841854934"
      ]
     },
     "execution_count": 9,
     "metadata": {},
     "output_type": "execute_result"
    }
   ],
   "source": [
    "#Program to Calculate Body Mass Index of a person\n",
    "#Let h be the height in meters.\n",
    "h = 1.74\n",
    "#Let w be the weight of the person in kg.\n",
    "w = 72\n",
    "#Let b be the body mass index of the person.\n",
    "b = w/(h**2)  \n",
    "b"
   ]
  },
  {
   "cell_type": "markdown",
   "metadata": {},
   "source": [
    "#Now, It is easy to understand the above program. It is the reason why the comment is one of the most important aspects of programming. It helps to write the program effectively and also easy to understand."
   ]
  },
  {
   "cell_type": "markdown",
   "metadata": {},
   "source": [
    "## 5.2. How to Write Comment in Python?\n",
    "The Single-line Comment should start with the Symbol Hash(#). Python will not consider anything after # as a code."
   ]
  },
  {
   "cell_type": "code",
   "execution_count": 15,
   "metadata": {},
   "outputs": [
    {
     "name": "stdout",
     "output_type": "stream",
     "text": [
      "1.74\n"
     ]
    }
   ],
   "source": [
    "#Here in this program, the Comment is in a separate lin#e\n",
    "#Let h be the height in meters.\n",
    "h = 1.74\n",
    "print(h)"
   ]
  },
  {
   "cell_type": "code",
   "execution_count": 16,
   "metadata": {},
   "outputs": [
    {
     "name": "stdout",
     "output_type": "stream",
     "text": [
      "72\n"
     ]
    }
   ],
   "source": [
    "#Let w be the weight of the person in kg.\n",
    "w = 72 #Let w be the weight of the person in kg.\n",
    "print(w)"
   ]
  },
  {
   "cell_type": "markdown",
   "metadata": {},
   "source": [
    "## 5.3. How to Write Multi-line Comment in Python?\n",
    "In python, there are two ways to write a Multi-line Comment."
   ]
  },
  {
   "cell_type": "markdown",
   "metadata": {},
   "source": [
    "### Method-1:\n",
    "Using #Symbol Separately in each line."
   ]
  },
  {
   "cell_type": "code",
   "execution_count": 19,
   "metadata": {},
   "outputs": [],
   "source": [
    "#Firt Line\n",
    "#Second Line\n",
    "#Third Line"
   ]
  },
  {
   "cell_type": "markdown",
   "metadata": {},
   "source": [
    "### Method-2:\n",
    "To use Triple quotes to write Multi-line comments. In this method, we are writing a piece of string but not assigning it to a Variable. Hence, python will print it in output. But, It has nothing to do with the code. Therefore, we can use this method as a way to write Multi-line comments.\n"
   ]
  },
  {
   "cell_type": "code",
   "execution_count": 20,
   "metadata": {},
   "outputs": [
    {
     "data": {
      "text/plain": [
       "' First Line\\nSecond Line\\nThird Line'"
      ]
     },
     "execution_count": 20,
     "metadata": {},
     "output_type": "execute_result"
    }
   ],
   "source": [
    "\"\"\" First Line\n",
    "Second Line\n",
    "Third Line\"\"\""
   ]
  },
  {
   "cell_type": "code",
   "execution_count": null,
   "metadata": {},
   "outputs": [],
   "source": []
  }
 ],
 "metadata": {
  "kernelspec": {
   "display_name": "Python 3",
   "language": "python",
   "name": "python3"
  },
  "language_info": {
   "codemirror_mode": {
    "name": "ipython",
    "version": 3
   },
   "file_extension": ".py",
   "mimetype": "text/x-python",
   "name": "python",
   "nbconvert_exporter": "python",
   "pygments_lexer": "ipython3",
   "version": "3.8.5"
  }
 },
 "nbformat": 4,
 "nbformat_minor": 4
}
