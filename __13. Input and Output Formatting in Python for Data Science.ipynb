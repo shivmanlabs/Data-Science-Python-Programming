{
 "cells": [
  {
   "cell_type": "markdown",
   "metadata": {},
   "source": [
    "# 13. Output Formatting in Python for Data Science\n"
   ]
  },
  {
   "cell_type": "markdown",
   "metadata": {},
   "source": [
    "## 13.1. Introduction:\n",
    "In Python, There are various methods to format the Output. For Example: Let's initialize two Variables. i.e., Variable(a) and Variable(b). Then let's assign values 10 and 15 to them. "
   ]
  },
  {
   "cell_type": "code",
   "execution_count": 82,
   "metadata": {},
   "outputs": [],
   "source": [
    "#Let's assing value 10 to Variable a:\n",
    "a = 10\n",
    "#Let's assing value 15 to Variable b:\n",
    "b = 15"
   ]
  },
  {
   "cell_type": "markdown",
   "metadata": {},
   "source": [
    "There are different methods to print the value of the Variable(a) in the Output. Let's work with all of them with the example below."
   ]
  },
  {
   "cell_type": "markdown",
   "metadata": {},
   "source": [
    "## 13.2. Printing Output using Variable name:\n",
    "It is one of the simplest ways to print the value of the Variable. Just type the Variable name and run the Output. It will print the value of the Variable in the Output. 13.2. "
   ]
  },
  {
   "cell_type": "markdown",
   "metadata": {},
   "source": [
    "Type (a) and run the Output. It will print the value of (a) in the Output. i.e., 10."
   ]
  },
  {
   "cell_type": "code",
   "execution_count": 4,
   "metadata": {},
   "outputs": [
    {
     "data": {
      "text/plain": [
       "10"
      ]
     },
     "execution_count": 4,
     "metadata": {},
     "output_type": "execute_result"
    }
   ],
   "source": [
    "#Variables\n",
    "a = 10\n",
    "b = 15\n",
    "#Let' Print Variabe a using its Variable Name:\n",
    "a"
   ]
  },
  {
   "cell_type": "markdown",
   "metadata": {},
   "source": [
    "Similarly, Type (b) and run the Output. It will print the value of (b) in the Output. i.e., 15. "
   ]
  },
  {
   "cell_type": "code",
   "execution_count": 5,
   "metadata": {},
   "outputs": [
    {
     "data": {
      "text/plain": [
       "15"
      ]
     },
     "execution_count": 5,
     "metadata": {},
     "output_type": "execute_result"
    }
   ],
   "source": [
    "#Let's Print Variabe b using its Variable Name:\n",
    "b"
   ]
  },
  {
   "cell_type": "markdown",
   "metadata": {},
   "source": [
    "## 13.3. Printing Output using print() function:\n",
    "It is the most common method to print the Output of the Variables.\n",
    "\n",
    "For Example:\n",
    "Type, print(a) and print(b) and run the Output. It will print the values of Variable(a) and Variable(b) in the Output."
   ]
  },
  {
   "cell_type": "code",
   "execution_count": 6,
   "metadata": {},
   "outputs": [
    {
     "name": "stdout",
     "output_type": "stream",
     "text": [
      "10\n",
      "15\n"
     ]
    }
   ],
   "source": [
    "#Value\n",
    "a = 10\n",
    "b = 15\n",
    "#Printing the Variable(a) and Variable(b) using print() function\n",
    "print(a)\n",
    "print(b)"
   ]
  },
  {
   "cell_type": "markdown",
   "metadata": {},
   "source": [
    "Now Let's print the value of the Variables with some string."
   ]
  },
  {
   "cell_type": "code",
   "execution_count": 9,
   "metadata": {},
   "outputs": [
    {
     "name": "stdout",
     "output_type": "stream",
     "text": [
      "The Value of a is 10\n",
      "The Value of b is 15\n"
     ]
    }
   ],
   "source": [
    "#Value\n",
    "a = 10\n",
    "b = 15\n",
    "#Printing Values with String\n",
    "print(\"The Value of a is\",a)\n",
    "print(\"The Value of b is\",b)"
   ]
  },
  {
   "cell_type": "markdown",
   "metadata": {},
   "source": [
    "## 13.4. Printing Output using Modulo(%) Operator in print() function:\n",
    "The Modulo(%) Operator allows users to print the values anywhere inside the String in the Output. It helps to format the Output."
   ]
  },
  {
   "cell_type": "code",
   "execution_count": 29,
   "metadata": {},
   "outputs": [
    {
     "name": "stdout",
     "output_type": "stream",
     "text": [
      "The Value of a is 10 and The Value of b is 15\n"
     ]
    }
   ],
   "source": [
    "#Value\n",
    "a = 10\n",
    "b = 15\n",
    "#Printing the Values inside the String using print() function\n",
    "print(\"The Value of a is %d and The Value of b is %d\" %(a,b))"
   ]
  },
  {
   "cell_type": "markdown",
   "metadata": {},
   "source": [
    "Similarly, We can print string values and float values using %d and %f."
   ]
  },
  {
   "cell_type": "code",
   "execution_count": 31,
   "metadata": {},
   "outputs": [
    {
     "name": "stdout",
     "output_type": "stream",
     "text": [
      "The name is Shivman Labs\n"
     ]
    }
   ],
   "source": [
    "#Printing String Value \n",
    "s = \"Shivman Labs\"\n",
    "print(\"The name is %s\" %s)"
   ]
  },
  {
   "cell_type": "code",
   "execution_count": 32,
   "metadata": {},
   "outputs": [
    {
     "name": "stdout",
     "output_type": "stream",
     "text": [
      "The Float Vale us 5.100090\n"
     ]
    }
   ],
   "source": [
    "#Printing Floating Value\n",
    "f = 5.10009\n",
    "print(\"The Float Value is %f\" %f)"
   ]
  },
  {
   "cell_type": "code",
   "execution_count": 83,
   "metadata": {},
   "outputs": [
    {
     "name": "stdout",
     "output_type": "stream",
     "text": [
      "The Float Value is 5.10\n",
      "The Float Value is 5.100\n"
     ]
    }
   ],
   "source": [
    "#Printing Floating Value by adjusting its decimal Value.\n",
    "f = 5.10009\n",
    "print(\"The Float Value is %.2f\" %f)\n",
    "print(\"The Float Value is %.3f\" %f)"
   ]
  },
  {
   "cell_type": "markdown",
   "metadata": {},
   "source": [
    "## 13.5. Printing Output using str():\n",
    "The str() function converts the value of the Variable in the String format. Then, It prints the Output of the Variable in a way that humans can understand. It is the Output that displays for the user end."
   ]
  },
  {
   "cell_type": "code",
   "execution_count": 40,
   "metadata": {},
   "outputs": [
    {
     "data": {
      "text/plain": [
       "'10'"
      ]
     },
     "execution_count": 40,
     "metadata": {},
     "output_type": "execute_result"
    }
   ],
   "source": [
    "#Values \n",
    "a = 10\n",
    "b = 15\n",
    "\n",
    "#Printing Variable a using str(a)\n",
    "str(a)"
   ]
  },
  {
   "cell_type": "code",
   "execution_count": 43,
   "metadata": {},
   "outputs": [
    {
     "data": {
      "text/plain": [
       "'10'"
      ]
     },
     "execution_count": 43,
     "metadata": {},
     "output_type": "execute_result"
    }
   ],
   "source": [
    "#Another Method to print it\n",
    "a.__str__()"
   ]
  },
  {
   "cell_type": "markdown",
   "metadata": {},
   "source": [
    "## 13.5. Printing Output using repr():\n",
    "The repr() function is similar to the str() function. but, It prints the value in the format that the interpreter understands. The repr() function helps developers to develop the program."
   ]
  },
  {
   "cell_type": "code",
   "execution_count": 45,
   "metadata": {},
   "outputs": [
    {
     "data": {
      "text/plain": [
       "'15'"
      ]
     },
     "execution_count": 45,
     "metadata": {},
     "output_type": "execute_result"
    }
   ],
   "source": [
    "#Values \n",
    "a = 10\n",
    "b = 15\n",
    "\n",
    "#Printing Variable b using repr(b)\n",
    "repr(b)"
   ]
  },
  {
   "cell_type": "code",
   "execution_count": 46,
   "metadata": {},
   "outputs": [
    {
     "data": {
      "text/plain": [
       "'15'"
      ]
     },
     "execution_count": 46,
     "metadata": {},
     "output_type": "execute_result"
    }
   ],
   "source": [
    "#Another Method to print it\n",
    "b.__repr__()"
   ]
  },
  {
   "cell_type": "markdown",
   "metadata": {},
   "source": [
    "## 13.6. Difference between str and repr:\n",
    "As we have discussed earlier, str() prints the Output of the Variable in a way that humans can understand. repr() prints the value in the format that the interpreter understands.\n",
    "For Example:"
   ]
  },
  {
   "cell_type": "code",
   "execution_count": 50,
   "metadata": {},
   "outputs": [
    {
     "name": "stdout",
     "output_type": "stream",
     "text": [
      "First line \n",
      " Second line \n",
      " Third line\n"
     ]
    }
   ],
   "source": [
    "s = \"First line \\n Second line \\n Third line\"\n",
    "#Let's Print s using str():\n",
    "print(str(s)) #It is the End Output for Human to Understand"
   ]
  },
  {
   "cell_type": "code",
   "execution_count": 52,
   "metadata": {},
   "outputs": [
    {
     "name": "stdout",
     "output_type": "stream",
     "text": [
      "'First line \\n Second line \\n Third line'\n"
     ]
    }
   ],
   "source": [
    "s = \"First line \\n Second line \\n Third line\"\n",
    "#Let's Print s using repr():\n",
    "print(repr(s)) #It is the Representation of the String and helps developers to develop it."
   ]
  },
  {
   "cell_type": "markdown",
   "metadata": {},
   "source": [
    "### Note:- All the Methods We have used above give you little to no control to format the Output. We will learn two more methods that help to control to format the Output. They are the Formatted String Literals and String Format Method. We will discuss them in detail."
   ]
  },
  {
   "cell_type": "markdown",
   "metadata": {},
   "source": [
    "## 13.7. Printing Output using Formatted String Literals:\n",
    "Begin the print statement using lower case(f) or upper case (F). \n",
    "Follow It with one of the Required Quotes.\n",
    "Then write the expression using the curly braces({expression}) inside the Quotes.\n",
    "These are the steps to print the Output using Formatted String Literals."
   ]
  },
  {
   "cell_type": "code",
   "execution_count": 54,
   "metadata": {},
   "outputs": [
    {
     "data": {
      "text/plain": [
       "'The Value of a is 10 and the Value of b is 15'"
      ]
     },
     "execution_count": 54,
     "metadata": {},
     "output_type": "execute_result"
    }
   ],
   "source": [
    "#Values \n",
    "a = 10\n",
    "b = 15\n",
    "\n",
    "#Let's print the value of a and b using Formatted String Literals\n",
    "f\"The Value of a is {a} and the Value of b is {b}\""
   ]
  },
  {
   "cell_type": "markdown",
   "metadata": {},
   "source": [
    "## 13.8. Printing Output using String Format Method:\n",
    "It is similar to Formatted String Literals. But Instead of using lower case(f) or upper case(F) at the beginning, we use (.format()) at the end of the print statement."
   ]
  },
  {
   "cell_type": "code",
   "execution_count": 55,
   "metadata": {},
   "outputs": [
    {
     "data": {
      "text/plain": [
       "'The Value of a is 10 and the Value of b is 15'"
      ]
     },
     "execution_count": 55,
     "metadata": {},
     "output_type": "execute_result"
    }
   ],
   "source": [
    "#Values\n",
    "a = 10\n",
    "b = 15\n",
    "\n",
    "#Let's print the value of a and b using Formatted String Literals\n",
    "\"The Value of a is {} and the Value of b is {}\".format(a,b)"
   ]
  },
  {
   "cell_type": "code",
   "execution_count": 84,
   "metadata": {},
   "outputs": [
    {
     "data": {
      "text/plain": [
       "'The Value of c is 20 and the Value of d is 30'"
      ]
     },
     "execution_count": 84,
     "metadata": {},
     "output_type": "execute_result"
    }
   ],
   "source": [
    "#Another way to print String Format Method:\n",
    "\"The Value of c is {c} and the Value of d is {d}\".format(c=20,d=30)"
   ]
  },
  {
   "cell_type": "markdown",
   "metadata": {},
   "source": [
    "### 13.9. String Formatting using Formatted String Literals:"
   ]
  },
  {
   "cell_type": "markdown",
   "metadata": {},
   "source": [
    "##### Formatting the Decimal Point in the Floating-point Value using String Literals."
   ]
  },
  {
   "cell_type": "code",
   "execution_count": 63,
   "metadata": {},
   "outputs": [
    {
     "data": {
      "text/plain": [
       "'The Value of f is 1.32'"
      ]
     },
     "execution_count": 63,
     "metadata": {},
     "output_type": "execute_result"
    }
   ],
   "source": [
    "f = 1.318945\n",
    "f\"The Value of f is {f:1.2f}\""
   ]
  },
  {
   "cell_type": "markdown",
   "metadata": {},
   "source": [
    "##### Line Spacing using String Literals."
   ]
  },
  {
   "cell_type": "code",
   "execution_count": 66,
   "metadata": {},
   "outputs": [
    {
     "name": "stdout",
     "output_type": "stream",
     "text": [
      "The Name_1 is Shivman and the Number_ is 10\n",
      "The Name_1 is Labs and the Number_ is 15\n"
     ]
    }
   ],
   "source": [
    "#Values\n",
    "name_1 = \"Shivman\" \n",
    "number_1 = \"10\"\n",
    "name_2 = \"Labs\"\n",
    "number_2 = \"15\"\n",
    "\n",
    "#Let's Print it\n",
    "print(f\"The Name_1 is {name_1} and the Number_ is {number_1}\")\n",
    "print(f\"The Name_1 is {name_2} and the Number_ is {number_2}\")"
   ]
  },
  {
   "cell_type": "code",
   "execution_count": 68,
   "metadata": {},
   "outputs": [
    {
     "name": "stdout",
     "output_type": "stream",
     "text": [
      "The Name_1 is Shivman  and the Number_ is 10 \n",
      "The Name_1 is Labs     and the Number_ is 15 \n"
     ]
    }
   ],
   "source": [
    "#Values\n",
    "name_1 = \"Shivman\" \n",
    "number_1 = \"10\"\n",
    "name_2 = \"Labs\"\n",
    "number_2 = \"15\"\n",
    "\n",
    "#Let's Print it\n",
    "print(f\"The Name_1 is {name_1:8} and the Number_ is {number_1:3}\")\n",
    "print(f\"The Name_1 is {name_2:8} and the Number_ is {number_2:3}\")"
   ]
  },
  {
   "cell_type": "code",
   "execution_count": 72,
   "metadata": {},
   "outputs": [
    {
     "name": "stdout",
     "output_type": "stream",
     "text": [
      "The Name_1 is Shivman  and the Number_ is 10 \n",
      "The Name_1 is Labs     and the Number_ is 15 \n"
     ]
    }
   ],
   "source": [
    "# 13.10. String Formatting using String Format Method:\n",
    "#Values\n",
    "name_1 = \"Shivman\" \n",
    "number_1 = \"10\"\n",
    "name_2 = \"Labs\"\n",
    "number_2 = \"15\"\n",
    "\n",
    "#Let's Print it\n",
    "print(\"The Name_1 is {n_1:8} and the Number_ is {no_1:3}\".format(n_1=name_1,no_1=number_1))\n",
    "print(\"The Name_1 is {n_2:8} and the Number_ is {no_2:3}\".format(n_2=name_2,no_2=number_2))"
   ]
  },
  {
   "cell_type": "markdown",
   "metadata": {},
   "source": [
    "## 13.11. Manual String Formatting:\n",
    "String Operations like left justification, Right Justification, and zero-fill helps to align the Output."
   ]
  },
  {
   "cell_type": "code",
   "execution_count": 77,
   "metadata": {},
   "outputs": [
    {
     "name": "stdout",
     "output_type": "stream",
     "text": [
      "The First Name  is Shivman  and the Number is  10\n",
      "The Second Name is Labs     and the Number is  15\n"
     ]
    }
   ],
   "source": [
    "#String Formatting using Left Justification and Right Justification\n",
    "#Values\n",
    "name_1 = \"Shivman\" \n",
    "number_1 = \"10\"\n",
    "name_2 = \"Labs\"\n",
    "number_2 = \"15\"\n",
    "\n",
    "#Let's Print it\n",
    "print(\"The First Name  is %s and the Number is %s\" %(name_1.ljust(8),number_1.rjust(3)))\n",
    "print(\"The Second Name is %s and the Number is %s\" %(name_2.ljust(8),number_2.rjust(3)))"
   ]
  },
  {
   "cell_type": "code",
   "execution_count": 81,
   "metadata": {},
   "outputs": [
    {
     "name": "stdout",
     "output_type": "stream",
     "text": [
      "The First Number: 0010\n",
      "The First Number: 0150\n"
     ]
    }
   ],
   "source": [
    "#String Formatting using Zero Fill\n",
    "number_1 = \"10\"\n",
    "number_2 = \"150\"\n",
    "\n",
    "#Let's Print it\n",
    "print(\"The First Number: %s\"%(number_1.zfill(4)))\n",
    "print(\"The First Number: %s\"%(number_2.zfill(4)))\n"
   ]
  },
  {
   "cell_type": "code",
   "execution_count": null,
   "metadata": {},
   "outputs": [],
   "source": []
  }
 ],
 "metadata": {
  "kernelspec": {
   "display_name": "Python 3",
   "language": "python",
   "name": "python3"
  },
  "language_info": {
   "codemirror_mode": {
    "name": "ipython",
    "version": 3
   },
   "file_extension": ".py",
   "mimetype": "text/x-python",
   "name": "python",
   "nbconvert_exporter": "python",
   "pygments_lexer": "ipython3",
   "version": "3.8.5"
  }
 },
 "nbformat": 4,
 "nbformat_minor": 4
}
