{
 "cells": [
  {
   "cell_type": "markdown",
   "metadata": {},
   "source": [
    "# 11. String Operation in Python for Data Science | PART-III\n"
   ]
  },
  {
   "cell_type": "markdown",
   "metadata": {},
   "source": [
    "## 11.1. Forward Index, s.index(c)\n",
    "It returns the Index of the First Instance of the Character(c) in the String."
   ]
  },
  {
   "cell_type": "code",
   "execution_count": 2,
   "metadata": {},
   "outputs": [
    {
     "name": "stdout",
     "output_type": "stream",
     "text": [
      "s: Shivman Labs\n",
      "Index of a: 5\n"
     ]
    }
   ],
   "source": [
    "#String\n",
    "s = \"Shivman Labs\"\n",
    "print('s:',s)\n",
    "#Index\n",
    "print('Index of a:',s.index('a'))"
   ]
  },
  {
   "cell_type": "markdown",
   "metadata": {},
   "source": [
    "## 11.2. Reverse Index, s.rindex(c)\n",
    "It returns the Index of the Lass Instance of the Character(c) in the String."
   ]
  },
  {
   "cell_type": "code",
   "execution_count": 3,
   "metadata": {},
   "outputs": [
    {
     "name": "stdout",
     "output_type": "stream",
     "text": [
      "s: Shivman Labs\n",
      "Index of a: 9\n"
     ]
    }
   ],
   "source": [
    "#Reverse Index\n",
    "s = \"Shivman Labs\"\n",
    "print('s:',s)\n",
    "#Reverse Index\n",
    "print('Index of a:',s.rindex('a'))"
   ]
  },
  {
   "cell_type": "markdown",
   "metadata": {},
   "source": [
    "## 11.3. Forward Index,s.find(x)\n",
    "It is similar to Index. It also returns the Index of the First Instance of the Character(c) in the String."
   ]
  },
  {
   "cell_type": "code",
   "execution_count": 4,
   "metadata": {},
   "outputs": [
    {
     "name": "stdout",
     "output_type": "stream",
     "text": [
      "s: Shivman Labs\n",
      "Index of a: 5\n"
     ]
    }
   ],
   "source": [
    "#Forward Index using find()\n",
    "s = \"Shivman Labs\"\n",
    "print('s:',s)\n",
    "print('Index of a:',s.find('a'))"
   ]
  },
  {
   "cell_type": "markdown",
   "metadata": {},
   "source": [
    "## 11.4. Reverse Index,s.rfind()\n",
    "It is similar to Reverse Index. It also returns the Index of the Last Instance of the Character(c) in the String."
   ]
  },
  {
   "cell_type": "code",
   "execution_count": 5,
   "metadata": {},
   "outputs": [
    {
     "name": "stdout",
     "output_type": "stream",
     "text": [
      "s: Shivman Labs\n",
      "Index of a: 9\n"
     ]
    }
   ],
   "source": [
    "#Reverse Index using rfind()\n",
    "s = \"Shivman Labs\"\n",
    "print('s:',s)\n",
    "print('Index of a:',s.rfind('a'))"
   ]
  },
  {
   "cell_type": "markdown",
   "metadata": {},
   "source": [
    "## 11.5. Detailed Example in the Forward and Reverse Index"
   ]
  },
  {
   "cell_type": "code",
   "execution_count": 6,
   "metadata": {},
   "outputs": [
    {
     "name": "stdout",
     "output_type": "stream",
     "text": [
      "s: Data Science Free Courses\n"
     ]
    }
   ],
   "source": [
    "s = \"Data Science Free Courses\"\n",
    "print(\"s:\",s)"
   ]
  },
  {
   "cell_type": "code",
   "execution_count": 7,
   "metadata": {},
   "outputs": [
    {
     "data": {
      "text/plain": [
       "8"
      ]
     },
     "execution_count": 7,
     "metadata": {},
     "output_type": "execute_result"
    }
   ],
   "source": [
    "#We Need to Find the Index of e in Fr'e'e\n",
    "#Forward index\n",
    "s.index('e') #First instance of e in the String s"
   ]
  },
  {
   "cell_type": "code",
   "execution_count": 8,
   "metadata": {},
   "outputs": [
    {
     "data": {
      "text/plain": [
       "11"
      ]
     },
     "execution_count": 8,
     "metadata": {},
     "output_type": "execute_result"
    }
   ],
   "source": [
    "#To find Next Instance of e\n",
    "s.index('e',9) #e in Scienc'e'"
   ]
  },
  {
   "cell_type": "code",
   "execution_count": 9,
   "metadata": {},
   "outputs": [
    {
     "data": {
      "text/plain": [
       "15"
      ]
     },
     "execution_count": 9,
     "metadata": {},
     "output_type": "execute_result"
    }
   ],
   "source": [
    "#To finde Next Instance of e\n",
    "s.index('e',12) #e in Fr'e'e"
   ]
  },
  {
   "cell_type": "code",
   "execution_count": 10,
   "metadata": {},
   "outputs": [
    {
     "data": {
      "text/plain": [
       "16"
      ]
     },
     "execution_count": 10,
     "metadata": {},
     "output_type": "execute_result"
    }
   ],
   "source": [
    "#To finde Next Instance of e\n",
    "s.index('e',16) #e in Fre'e'"
   ]
  },
  {
   "cell_type": "code",
   "execution_count": 11,
   "metadata": {},
   "outputs": [
    {
     "data": {
      "text/plain": [
       "15"
      ]
     },
     "execution_count": 11,
     "metadata": {},
     "output_type": "execute_result"
    }
   ],
   "source": [
    "#We can also assign the range of Starting and Ending index to find a character in the String.\n",
    "#To find 'e' in fr'e'e\n",
    "s.index('e',12,16)"
   ]
  },
  {
   "cell_type": "code",
   "execution_count": 12,
   "metadata": {},
   "outputs": [
    {
     "name": "stdout",
     "output_type": "stream",
     "text": [
      "String = Data Science Free Courses\n",
      "Data Science Free Cours'e's: 23\n",
      "Data Science Fre'e' Courses: 16\n",
      "Data Science Fr'e'e Courses: 15\n",
      "Data Scienc'e' Free Courses: 11\n",
      "Data Sci'e'nce Free Courses: 8\n"
     ]
    }
   ],
   "source": [
    "#Similarly We can find Reverse Index\n",
    "print(\"String =\",s)\n",
    "print(\"Data Science Free Cours'e's:\",s.rindex('e')) \n",
    "print(\"Data Science Fre'e' Courses:\",s.rindex('e',0,23)) \n",
    "print(\"Data Science Fr'e'e Courses:\",s.rindex('e',0,16)) \n",
    "print(\"Data Scienc'e' Free Courses:\",s.rindex('e',0,15)) \n",
    "print(\"Data Sci'e'nce Free Courses:\",s.rindex('e',0,11))\n",
    "#print(\"Data Sci'e'nce Free Courses:\",s.rindex('e',0,8))"
   ]
  },
  {
   "cell_type": "markdown",
   "metadata": {},
   "source": [
    "## 11.6. String Split\n",
    "It Splits all the words in the String into items of the List."
   ]
  },
  {
   "cell_type": "code",
   "execution_count": 13,
   "metadata": {},
   "outputs": [
    {
     "data": {
      "text/plain": [
       "['Shivman', 'Labs']"
      ]
     },
     "execution_count": 13,
     "metadata": {},
     "output_type": "execute_result"
    }
   ],
   "source": [
    "s = \"Shivman Labs\"\n",
    "s.split()"
   ]
  },
  {
   "cell_type": "markdown",
   "metadata": {},
   "source": [
    "## 11.7. String Split Lines\n",
    "It Splits all the Lines in the String into items of the List."
   ]
  },
  {
   "cell_type": "code",
   "execution_count": 14,
   "metadata": {},
   "outputs": [
    {
     "data": {
      "text/plain": [
       "['First Line', 'Second Line', 'Third Line']"
      ]
     },
     "execution_count": 14,
     "metadata": {},
     "output_type": "execute_result"
    }
   ],
   "source": [
    "s = \"\"\"First Line\n",
    "Second Line\n",
    "Third Line\"\"\"\n",
    "s.splitlines()"
   ]
  },
  {
   "cell_type": "markdown",
   "metadata": {},
   "source": [
    "## 11.8. String Partition\n",
    "It returns the String in Three Parts using the separator given. "
   ]
  },
  {
   "cell_type": "code",
   "execution_count": 19,
   "metadata": {},
   "outputs": [
    {
     "data": {
      "text/plain": [
       "('Shivman', '-', 'Labs')"
      ]
     },
     "execution_count": 19,
     "metadata": {},
     "output_type": "execute_result"
    }
   ],
   "source": [
    "s = \"Shivman-Labs\"\n",
    "s.partition('-')"
   ]
  },
  {
   "cell_type": "markdown",
   "metadata": {},
   "source": [
    "## 11.9. String Reverse Partition\n",
    "It is the reverse of String Partition."
   ]
  },
  {
   "cell_type": "code",
   "execution_count": 20,
   "metadata": {},
   "outputs": [
    {
     "data": {
      "text/plain": [
       "('Shivman', '-', 'Labs')"
      ]
     },
     "execution_count": 20,
     "metadata": {},
     "output_type": "execute_result"
    }
   ],
   "source": [
    "#Reverse Partition\n",
    "s = \"Shivman-Labs\"\n",
    "s.rpartition('-')"
   ]
  },
  {
   "cell_type": "code",
   "execution_count": null,
   "metadata": {},
   "outputs": [],
   "source": []
  }
 ],
 "metadata": {
  "kernelspec": {
   "display_name": "Python 3",
   "language": "python",
   "name": "python3"
  },
  "language_info": {
   "codemirror_mode": {
    "name": "ipython",
    "version": 3
   },
   "file_extension": ".py",
   "mimetype": "text/x-python",
   "name": "python",
   "nbconvert_exporter": "python",
   "pygments_lexer": "ipython3",
   "version": "3.8.5"
  }
 },
 "nbformat": 4,
 "nbformat_minor": 4
}
