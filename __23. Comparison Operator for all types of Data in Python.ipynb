{
 "cells": [
  {
   "cell_type": "markdown",
   "metadata": {},
   "source": [
    "# 22. Comparison Operator for all types of Data in Python\n",
    "\n",
    "In this Comparison Operator for all types of Data blog post, we will learn the following concepts."
   ]
  },
  {
   "cell_type": "markdown",
   "metadata": {},
   "source": [
    "## 23.1. Equal to\n",
    "\n",
    "### Operator: ==\n",
    "\n",
    "The \"equal to, ==\" Operator returns True if the values of the Left are equal to the Right-hand side. Else, it returns False."
   ]
  },
  {
   "cell_type": "code",
   "execution_count": 28,
   "metadata": {},
   "outputs": [
    {
     "name": "stdout",
     "output_type": "stream",
     "text": [
      "Integer           : 10==10           => True\n",
      "Integer           : 20==10           => False\n",
      "Float             : 10.0==10.0       => True\n",
      "Float & Integer   : 10.0==10         => True\n",
      "Complex           : 10+5j==10+5j     => True\n",
      "Integer & Complex : 10==10+0j        => True\n",
      "Float & Complex   : 10.0==10+0j      => True\n",
      "Boolean           : True == True     => True\n",
      "Boolean & Integer : True == 1        => True\n",
      "Boolean & Float   : True == 1.0      => True\n",
      "String            : 'text' == 'text' => True\n",
      "List              : [1,2,3]==[1,2,3] => True\n",
      "Tuple             : (1,2,3)==(1,2,3) => True\n",
      "Dictionary        : d1==d2           => True\n"
     ]
    }
   ],
   "source": [
    "#Integer\n",
    "print(\"Integer           : 10==10           =>\", 10 == 10)\n",
    "print(\"Integer           : 20==10           =>\", 20 == 10)\n",
    "print(\"Float             : 10.0==10.0       =>\", 10 == 10.0)\n",
    "print(\"Float & Integer   : 10.0==10         =>\", 10.0 == 10)\n",
    "print(\"Complex           : 10+5j==10+5j     =>\", 10+5j == 10+5j)\n",
    "print(\"Integer & Complex : 10==10+0j        =>\", 10 == 10+0j)\n",
    "print(\"Float & Complex   : 10.0==10+0j      =>\", 10.0 == 10+0j)\n",
    "print(\"Boolean           : True == True     =>\", True == True)\n",
    "print(\"Boolean & Integer : True == 1        =>\", True == 1)\n",
    "print(\"Boolean & Float   : True == 1.0      =>\", True == 1.0)\n",
    "print(\"String            : 'text' == 'text' =>\", 'text' == 'text')\n",
    "print(\"List              : [1,2,3]==[1,2,3] =>\", [1,2,3]==[1,2,3])\n",
    "print(\"Tuple             : (1,2,3)==(1,2,3) =>\", (1,2,3)==(1,2,3))\n",
    "#Dictionary\n",
    "d1 = {'a':10}\n",
    "d2 = {'a':10}\n",
    "print(\"Dictionary        : d1==d2           =>\", d1==d2)"
   ]
  },
  {
   "cell_type": "markdown",
   "metadata": {},
   "source": [
    "## 23.2. Not Equal to\n",
    "\n",
    "Operator: !=\n",
    "\n",
    "It returns True if the values of the Left are not equal to the values on the right-hand side. Else, it returns True"
   ]
  },
  {
   "cell_type": "code",
   "execution_count": 18,
   "metadata": {},
   "outputs": [
    {
     "name": "stdout",
     "output_type": "stream",
     "text": [
      "integer         : 10!=10             => False\n",
      "Float           : 10.5 != 10.0       => True\n",
      "String          : 'Text' != 'text'   => True\n",
      "Boolean          : True != False     => True\n",
      "Float & Integer : 10.0!=10           => False\n"
     ]
    }
   ],
   "source": [
    "#Not Equal to\n",
    "print('integer         : 10!=10             =>', 10 != 10)\n",
    "print('Float           : 10.5 != 10.0       =>', 10.5 != 10.0)\n",
    "print(\"String          : 'Text' != 'text'   =>\", 'Text' != 'text' )\n",
    "print(\"Boolean          : True != False     =>\", True != False)\n",
    "print(\"Float & Integer : 10.0!=10           =>\", 10.0 != 10)"
   ]
  },
  {
   "cell_type": "markdown",
   "metadata": {},
   "source": [
    "## 23.3. Greater Than\n",
    "\n",
    "Operator: >\n",
    "\n",
    "It returns True if the values on the Left of the Operator are Greater than the Right. Else, it returns False"
   ]
  },
  {
   "cell_type": "code",
   "execution_count": 14,
   "metadata": {},
   "outputs": [
    {
     "name": "stdout",
     "output_type": "stream",
     "text": [
      "Integer           : 20>10            => True\n",
      "Integer           : 20>40            => False\n",
      "Float             : 20.0>10.0        => True\n",
      "Boolean           : True > False     => True\n",
      "Boolean & Integer : True > 0         => True\n"
     ]
    }
   ],
   "source": [
    "#Greater Than\n",
    "print(\"Integer           : 20>10            =>\", 20 > 10)\n",
    "print(\"Integer           : 20>40            =>\", 20 > 40)\n",
    "print(\"Float             : 20.0>10.0        =>\", 20.0 > 10.0)\n",
    "print(\"Boolean           : True > False     =>\", True > False)\n",
    "print(\"Boolean & Integer : True > 0         =>\", True > 0)"
   ]
  },
  {
   "cell_type": "markdown",
   "metadata": {},
   "source": [
    "## 23.4. Less Than\n",
    "\n",
    "Operator: <\n",
    "\n",
    "It returns True if the values on the Left of the Operator are Less than the Right. Else, it returns False."
   ]
  },
  {
   "cell_type": "code",
   "execution_count": 15,
   "metadata": {},
   "outputs": [
    {
     "name": "stdout",
     "output_type": "stream",
     "text": [
      "Integer           : 20<10            => False\n",
      "Integer           : 20<40            => True\n",
      "Float             : 20.0<10.0        => False\n",
      "Boolean           : True < False     => False\n",
      "Boolean & Integer : True < 0         => False\n"
     ]
    }
   ],
   "source": [
    "#Less Than\n",
    "print(\"Integer           : 20<10            =>\", 20 < 10)\n",
    "print(\"Integer           : 20<40            =>\", 20 < 40)\n",
    "print(\"Float             : 20.0<10.0        =>\", 20.0 < 10.0)\n",
    "print(\"Boolean           : True < False     =>\", True < False)\n",
    "print(\"Boolean & Integer : True < 0         =>\", True < 0)"
   ]
  },
  {
   "cell_type": "markdown",
   "metadata": {},
   "source": [
    "## 23.5. Greater Than Equal to\n",
    "\n",
    "Operator: >=\n",
    "\n",
    "It returns True if the values on the Left are Greater than or Equal to the values on the Right. Else, it returns False."
   ]
  },
  {
   "cell_type": "code",
   "execution_count": 16,
   "metadata": {},
   "outputs": [
    {
     "name": "stdout",
     "output_type": "stream",
     "text": [
      "Integer           : 20>=10           => True\n",
      "Integer           : 40>=40           => True\n",
      "Float             : 20.0>=40.0       => False\n",
      "Boolean           : True >= 1        => True\n"
     ]
    }
   ],
   "source": [
    "#Greater Than Equal to\n",
    "print(\"Integer           : 20>=10           =>\", 20 >= 10)\n",
    "print(\"Integer           : 40>=40           =>\", 40 >= 40)\n",
    "print(\"Float             : 20.0>=40.0       =>\", 20.0 >= 40.0)\n",
    "print(\"Boolean           : True >= 1        =>\", True >= 1)"
   ]
  },
  {
   "cell_type": "markdown",
   "metadata": {},
   "source": [
    "## 23.6. Less Than Equal to\n",
    "\n",
    "Operator:\n",
    "\n",
    "It returns True if the values on the Left are Less than or Equal to the values on the Right. Else, it returns False"
   ]
  },
  {
   "cell_type": "code",
   "execution_count": 17,
   "metadata": {},
   "outputs": [
    {
     "name": "stdout",
     "output_type": "stream",
     "text": [
      "Integer           : 20<=10           => False\n",
      "Integer           : 40<=40           => True\n",
      "Float             : 20.0<=40.0       => True\n",
      "Boolean           : True <= 0        => True\n"
     ]
    }
   ],
   "source": [
    "#Less Than Equal to\n",
    "print(\"Integer           : 20<=10           =>\", 20 <= 10)\n",
    "print(\"Integer           : 40<=40           =>\", 40 <= 40)\n",
    "print(\"Float             : 20.0<=40.0       =>\", 20.0 <= 40.0)\n",
    "print(\"Boolean           : True <= 0        =>\", True >= 0)"
   ]
  },
  {
   "cell_type": "code",
   "execution_count": null,
   "metadata": {},
   "outputs": [],
   "source": []
  }
 ],
 "metadata": {
  "kernelspec": {
   "display_name": "Python 3",
   "language": "python",
   "name": "python3"
  },
  "language_info": {
   "codemirror_mode": {
    "name": "ipython",
    "version": 3
   },
   "file_extension": ".py",
   "mimetype": "text/x-python",
   "name": "python",
   "nbconvert_exporter": "python",
   "pygments_lexer": "ipython3",
   "version": "3.8.5"
  }
 },
 "nbformat": 4,
 "nbformat_minor": 4
}
