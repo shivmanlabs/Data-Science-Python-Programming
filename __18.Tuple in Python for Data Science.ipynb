{
 "cells": [
  {
   "cell_type": "markdown",
   "metadata": {},
   "source": [
    "# 18. Tuple in Python for Data Science"
   ]
  },
  {
   "cell_type": "markdown",
   "metadata": {},
   "source": [
    "### Blog link: https://www.shivmanlabs.com/post/tuples-in-python-for-data-science"
   ]
  },
  {
   "cell_type": "markdown",
   "metadata": {},
   "source": [
    "## 18.1. What is a Tuple?\n",
    "Except for the Fact that the Tuple is an Immutable object, It is similar to the List. In Python, The parenthesis() represents Tuple. The Comma(,) separates all the Items in the Tuple. It can also store Items of either the same or different data types. It can also store duplicate Items."
   ]
  },
  {
   "cell_type": "markdown",
   "metadata": {},
   "source": [
    "### Syntax:\n",
    "#Tuple Syntax\n",
    "\n",
    "t = (I_1, I_2,.... I_n)\n",
    "\n",
    "#t = Tuple Name\n",
    "\n",
    "#I = Item"
   ]
  },
  {
   "cell_type": "markdown",
   "metadata": {},
   "source": [
    "### Example: Tuple with Items of the Different Data Types\n",
    "\n",
    "Python Code:"
   ]
  },
  {
   "cell_type": "code",
   "execution_count": 1,
   "metadata": {},
   "outputs": [
    {
     "name": "stdout",
     "output_type": "stream",
     "text": [
      "The Values in the tuple t      : (10, 10.5, True, [1, 2, 3])\n",
      "The data type of the tuple t is: <class 'tuple'>\n"
     ]
    }
   ],
   "source": [
    "t = (10, 10.5, True, [1,2,3]) #Integer, Float, Boolean, List\n",
    "print(\"The Values in the tuple t      :\",t)\n",
    "print(\"The data type of the tuple t is:\", type(t))"
   ]
  },
  {
   "cell_type": "markdown",
   "metadata": {},
   "source": [
    "In the above example, The Tuple \"t\" contains Items with different data types like an Integer, Float, Boolean, and List.  Hence Like a List, The Tuple can store Items of different data Types. `"
   ]
  },
  {
   "cell_type": "markdown",
   "metadata": {},
   "source": [
    "## 18.2. Tuple Indexing\n",
    "Like a List, Tuple also Indexes Items in two ways.\n",
    "\n",
    "Forward Indexing\n",
    "\n",
    "Reverse Indexing\n",
    "\n",
    "## Example:\n",
    "\n",
    "Let's create a Tuple (analytics) and store the different types of Analytics.  There are four main types of Analytics. They are, \n",
    "Descriptive Analytics\n",
    "\n",
    "Predictive Analytics\n",
    "\n",
    "Diagnostic Analytics\n",
    "\n",
    "Prescriptive Analytics\n",
    "\n",
    "## Python Code:"
   ]
  },
  {
   "cell_type": "code",
   "execution_count": 2,
   "metadata": {},
   "outputs": [
    {
     "name": "stdout",
     "output_type": "stream",
     "text": [
      "analytics: ('Descriptive Analytics', 'Predictive Analytics', 'Diagnostic Analytics', 'Prescriptive Analytics')\n",
      "\n",
      "The Data Type of analytics: <class 'tuple'>\n"
     ]
    }
   ],
   "source": [
    "#Analytics Tuple\n",
    "analytics = ('Descriptive Analytics', 'Predictive Analytics',\n",
    "             'Diagnostic Analytics', 'Prescriptive Analytics')\n",
    "print(\"analytics:\",analytics)\n",
    "print(\"\\nThe Data Type of analytics:\",type(analytics))"
   ]
  },
  {
   "cell_type": "markdown",
   "metadata": {},
   "source": [
    "## 18.3. Forward Indexing \n",
    "In Python, the Forward Index starts from 0 and will end at n-1. The n is the length of the Tuple. The Python code to calculate the Length of the Tuple is"
   ]
  },
  {
   "cell_type": "code",
   "execution_count": 3,
   "metadata": {},
   "outputs": [
    {
     "data": {
      "text/plain": [
       "4"
      ]
     },
     "execution_count": 3,
     "metadata": {},
     "output_type": "execute_result"
    }
   ],
   "source": [
    "#Lenght of the Tuple\n",
    "len(analytics)"
   ]
  },
  {
   "cell_type": "markdown",
   "metadata": {},
   "source": [
    "The Index of the First Item is 0, and the Index of the Last Item is n-1. i.e., 4 - 1 = 3. Hence, The Index of the Analytics Tuples Items must be 0,1,2,3."
   ]
  },
  {
   "cell_type": "markdown",
   "metadata": {},
   "source": [
    "### Syntax: Forward Indexing"
   ]
  },
  {
   "cell_type": "markdown",
   "metadata": {},
   "source": [
    "#Forward Indexing\n",
    "\n",
    "t[i]\n",
    "\n",
    "#t = Tuple Name\n",
    "\n",
    "#i = Index of the Tuple Item"
   ]
  },
  {
   "cell_type": "code",
   "execution_count": 4,
   "metadata": {},
   "outputs": [
    {
     "name": "stdout",
     "output_type": "stream",
     "text": [
      "The First Item of the Tuple   : Descriptive Analytics\n",
      "The Second Item of the Tuple  : Predictive Analytics\n",
      "The Third Item of the Tuple   : Diagnostic Analytics\n",
      "The Fourth Item of the Tuple  : Prescriptive Analytics\n"
     ]
    }
   ],
   "source": [
    "print(\"The First Item of the Tuple   :\",analytics[0])\n",
    "print(\"The Second Item of the Tuple  :\",analytics[1])\n",
    "print(\"The Third Item of the Tuple   :\",analytics[2])\n",
    "print(\"The Fourth Item of the Tuple  :\",analytics[3])"
   ]
  },
  {
   "cell_type": "markdown",
   "metadata": {},
   "source": [
    "## 18.4. Reverse Indexing\n",
    "\n",
    "In Python, the Reverse Index Starts from -n and will end at -1. The Index of the Last item in the Tuple is 0. The Index of the First Item is -n. i.e., -4. Hence the Reverse Index of the Analytics Tuple is -4,-3,-2,-1"
   ]
  },
  {
   "cell_type": "markdown",
   "metadata": {},
   "source": [
    "### Syntax: Reverse Indexing"
   ]
  },
  {
   "cell_type": "markdown",
   "metadata": {},
   "source": [
    "#Reverse Indexing\n",
    "\n",
    "t[i_r]\n",
    "\n",
    "#t = Tuple\n",
    "\n",
    "#i_r = Reverse Index"
   ]
  },
  {
   "cell_type": "code",
   "execution_count": 5,
   "metadata": {},
   "outputs": [
    {
     "name": "stdout",
     "output_type": "stream",
     "text": [
      "The First Item of the Tuple   : Descriptive Analytics\n",
      "The Second Item of the Tuple  : Predictive Analytics\n",
      "The Third Item of the Tuple   : Diagnostic Analytics\n",
      "The Fourth Item of the Tuple  : Prescriptive Analytics\n"
     ]
    }
   ],
   "source": [
    "#Reverse Indexing\n",
    "print(\"The First Item of the Tuple   :\",analytics[-4])\n",
    "print(\"The Second Item of the Tuple  :\",analytics[-3])\n",
    "print(\"The Third Item of the Tuple   :\",analytics[-2])\n",
    "print(\"The Fourth Item of the Tuple  :\",analytics[-1])"
   ]
  },
  {
   "cell_type": "markdown",
   "metadata": {},
   "source": [
    "## Tuple Slicing:\n",
    "\n",
    "## 18.5. Slicing Using Forward Index:\n",
    "\n",
    "### Syntax:"
   ]
  },
  {
   "cell_type": "markdown",
   "metadata": {},
   "source": [
    "#Slicing using Forward Index\n",
    "t[i_s : i_e + 1]\n",
    "\n",
    "#t = Tuple\n",
    "\n",
    "#i_s = Index of Starting Item to Slice\n",
    "\n",
    "#i_e = Index of the Last Item to Slice\n",
    "\n",
    "#i_e + 1 = Add 1 with the Index of the Last Item to Slicem"
   ]
  },
  {
   "cell_type": "markdown",
   "metadata": {},
   "source": [
    "### Example:\n",
    "Let's Slice the First three Items of the Analytics Tuple."
   ]
  },
  {
   "cell_type": "markdown",
   "metadata": {},
   "source": [
    "The Index of the First Item (i_s) = 0\n",
    "\n",
    "The Index of the Third Item(i_e) = 2\n",
    "\n",
    "i_e + 1 = 3\n",
    "\n",
    "\n",
    "Therefore Python code to Slice the First Three Items in Analytics Tuple is analytics[0:3]"
   ]
  },
  {
   "cell_type": "code",
   "execution_count": 8,
   "metadata": {},
   "outputs": [
    {
     "data": {
      "text/plain": [
       "('Descriptive Analytics', 'Predictive Analytics', 'Diagnostic Analytics')"
      ]
     },
     "execution_count": 8,
     "metadata": {},
     "output_type": "execute_result"
    }
   ],
   "source": [
    "#Let's Slice the First Three Item in The Tuple\n",
    "analytics[0:3]"
   ]
  },
  {
   "cell_type": "markdown",
   "metadata": {},
   "source": [
    "\n",
    "Let's work with some more Scenarios. "
   ]
  },
  {
   "cell_type": "code",
   "execution_count": 9,
   "metadata": {},
   "outputs": [
    {
     "name": "stdout",
     "output_type": "stream",
     "text": [
      "The First Two Items in the Tuple : ('Descriptive Analytics', 'Predictive Analytics')\n",
      "The Middle Two Items in the Tuple: ('Predictive Analytics', 'Diagnostic Analytics')\n",
      "The Last Two Items in the Tuple  : ('Diagnostic Analytics', 'Prescriptive Analytics')\n"
     ]
    }
   ],
   "source": [
    "#Let's Slice First Two Items in the Tuple\n",
    "print(\"The First Two Items in the Tuple :\",analytics[:2]) \n",
    "print(\"The Middle Two Items in the Tuple:\",analytics[1:3]) \n",
    "print(\"The Last Two Items in the Tuple  :\",analytics[2:])"
   ]
  },
  {
   "cell_type": "markdown",
   "metadata": {},
   "source": [
    "## 18.6. Slicing Using Reverse Index:\n",
    "\n",
    "### Syntax:"
   ]
  },
  {
   "cell_type": "markdown",
   "metadata": {},
   "source": [
    "#Slicing using Forward Index\n",
    "\n",
    "t[i_rs : i_re + 1]\n",
    "\n",
    "#t = Tuple\n",
    "\n",
    "#i_rs = Reverse Index of Starting Item to Slice\n",
    "\n",
    "#i_re = Reverse Index of the Last Item to Slice\n",
    "\n",
    "#i_re + 1 = Add 1 with the Reverse Index of the Last Item to Slice"
   ]
  },
  {
   "cell_type": "markdown",
   "metadata": {},
   "source": [
    "### Example:\n",
    "Let's Slice the First three Items of the Analytics Tuple."
   ]
  },
  {
   "cell_type": "markdown",
   "metadata": {},
   "source": [
    "The Reverse Index of the First Item (i_s) = -4\n",
    "\n",
    "The Reverse Index of the Third Item(i_e) = -2\n",
    "\n",
    "i_e + 1 = -2+1 => -1\n",
    "\n",
    "\n",
    "Therefore Python code to Slice the First Three Items using Reverse Index in Analytics Tuple is analytics[-4:-1"
   ]
  },
  {
   "cell_type": "code",
   "execution_count": 13,
   "metadata": {},
   "outputs": [
    {
     "data": {
      "text/plain": [
       "('Descriptive Analytics', 'Predictive Analytics', 'Diagnostic Analytics')"
      ]
     },
     "execution_count": 13,
     "metadata": {},
     "output_type": "execute_result"
    }
   ],
   "source": [
    "#Let's Slice the First Three Item in The Tuple\n",
    "analytics[-4:-1]"
   ]
  },
  {
   "cell_type": "markdown",
   "metadata": {},
   "source": [
    "Let's work with some more Scenarios."
   ]
  },
  {
   "cell_type": "code",
   "execution_count": 14,
   "metadata": {},
   "outputs": [
    {
     "name": "stdout",
     "output_type": "stream",
     "text": [
      "The First Two Items in the Tuple : ('Descriptive Analytics', 'Predictive Analytics')\n",
      "The Middle Two Items in the Tuple: ('Predictive Analytics', 'Diagnostic Analytics')\n",
      "The Last Two Items in the Tuple  : ('Diagnostic Analytics', 'Prescriptive Analytics')\n"
     ]
    }
   ],
   "source": [
    "#Let's Slice First Two Items in the Tuple\n",
    "print(\"The First Two Items in the Tuple :\",analytics[:-2]) \n",
    "print(\"The Middle Two Items in the Tuple:\",analytics[-3:-1]) \n",
    "print(\"The Last Two Items in the Tuple  :\",analytics[-2:])"
   ]
  },
  {
   "cell_type": "markdown",
   "metadata": {},
   "source": [
    "## 18.6. A tuple is an Immutable Object.\n",
    "After Creating a Tuple, We cannot change Its Values.\n",
    "\n",
    "\n",
    "### 1) Let's try to add an Item to Analytics Tuple."
   ]
  },
  {
   "cell_type": "code",
   "execution_count": 15,
   "metadata": {},
   "outputs": [
    {
     "ename": "TypeError",
     "evalue": "can only concatenate tuple (not \"str\") to tuple",
     "output_type": "error",
     "traceback": [
      "\u001b[1;31m---------------------------------------------------------------------------\u001b[0m",
      "\u001b[1;31mTypeError\u001b[0m                                 Traceback (most recent call last)",
      "\u001b[1;32m<ipython-input-15-86317ad8a4b5>\u001b[0m in \u001b[0;36m<module>\u001b[1;34m\u001b[0m\n\u001b[1;32m----> 1\u001b[1;33m \u001b[0manalytics\u001b[0m \u001b[1;33m+\u001b[0m \u001b[1;34m\"Congitive Analytics\"\u001b[0m\u001b[1;33m\u001b[0m\u001b[1;33m\u001b[0m\u001b[0m\n\u001b[0m",
      "\u001b[1;31mTypeError\u001b[0m: can only concatenate tuple (not \"str\") to tuple"
     ]
    }
   ],
   "source": [
    "analytics + \"Congitive Analytics\""
   ]
  },
  {
   "cell_type": "markdown",
   "metadata": {},
   "source": [
    "### 2) Let's try to change the Value in the Analytics Tuple."
   ]
  },
  {
   "cell_type": "code",
   "execution_count": 16,
   "metadata": {},
   "outputs": [
    {
     "ename": "TypeError",
     "evalue": "'tuple' object does not support item assignment",
     "output_type": "error",
     "traceback": [
      "\u001b[1;31m---------------------------------------------------------------------------\u001b[0m",
      "\u001b[1;31mTypeError\u001b[0m                                 Traceback (most recent call last)",
      "\u001b[1;32m<ipython-input-16-4e3a3fb7e6ab>\u001b[0m in \u001b[0;36m<module>\u001b[1;34m\u001b[0m\n\u001b[0;32m      1\u001b[0m \u001b[1;31m#Changing an Item in the Tuple\u001b[0m\u001b[1;33m\u001b[0m\u001b[1;33m\u001b[0m\u001b[1;33m\u001b[0m\u001b[0m\n\u001b[1;32m----> 2\u001b[1;33m \u001b[0manalytics\u001b[0m\u001b[1;33m[\u001b[0m\u001b[1;36m2\u001b[0m\u001b[1;33m]\u001b[0m \u001b[1;33m=\u001b[0m \u001b[1;34m\"Cognitive Analytics\"\u001b[0m\u001b[1;33m\u001b[0m\u001b[1;33m\u001b[0m\u001b[0m\n\u001b[0m",
      "\u001b[1;31mTypeError\u001b[0m: 'tuple' object does not support item assignment"
     ]
    }
   ],
   "source": [
    "#Changing an Item in the Tuple\n",
    "analytics[2] = \"Cognitive Analytics\""
   ]
  },
  {
   "cell_type": "markdown",
   "metadata": {},
   "source": [
    "### 3) Let's try to delete an Item in the Analytics Tuple"
   ]
  },
  {
   "cell_type": "code",
   "execution_count": 17,
   "metadata": {},
   "outputs": [
    {
     "ename": "TypeError",
     "evalue": "'tuple' object doesn't support item deletion",
     "output_type": "error",
     "traceback": [
      "\u001b[1;31m---------------------------------------------------------------------------\u001b[0m",
      "\u001b[1;31mTypeError\u001b[0m                                 Traceback (most recent call last)",
      "\u001b[1;32m<ipython-input-17-3b57fdcd24da>\u001b[0m in \u001b[0;36m<module>\u001b[1;34m\u001b[0m\n\u001b[0;32m      1\u001b[0m \u001b[1;31m#Deleting an Item in the Tuple\u001b[0m\u001b[1;33m\u001b[0m\u001b[1;33m\u001b[0m\u001b[1;33m\u001b[0m\u001b[0m\n\u001b[1;32m----> 2\u001b[1;33m \u001b[1;32mdel\u001b[0m \u001b[0manalytics\u001b[0m\u001b[1;33m[\u001b[0m\u001b[1;36m2\u001b[0m\u001b[1;33m]\u001b[0m\u001b[1;33m\u001b[0m\u001b[1;33m\u001b[0m\u001b[0m\n\u001b[0m",
      "\u001b[1;31mTypeError\u001b[0m: 'tuple' object doesn't support item deletion"
     ]
    }
   ],
   "source": [
    "#Deleting an Item in the Tuple\n",
    "del analytics[2]"
   ]
  },
  {
   "cell_type": "markdown",
   "metadata": {},
   "source": [
    "## 4) Difference Between List and Tuple.\n",
    "\n",
    "1. As we discussed before, Tuple is an Immutable Object. But, a List is a mutable Object. \n",
    "\n",
    "2. The storage space of Tuple is Less than the List."
   ]
  },
  {
   "cell_type": "code",
   "execution_count": 18,
   "metadata": {},
   "outputs": [
    {
     "name": "stdout",
     "output_type": "stream",
     "text": [
      "Tuple,t: 72\n",
      "List, t: 88\n"
     ]
    }
   ],
   "source": [
    "#Tuple\n",
    "t = ('Descriptive Analytics', 'Predictive Analytics', \n",
    "     'Diagnostic Analytics', 'Prescriptive Analytics')\n",
    "#List\n",
    "L = ['Descriptive Analytics', 'Predictive Analytics', \n",
    "     'Diagnostic Analytics', 'Prescriptive Analytics']\n",
    "\n",
    "#Storage Size\n",
    "\n",
    "import sys\n",
    "\n",
    "print(\"Tuple,t:\",sys.getsizeof(t))\n",
    "print(\"List, t:\",sys.getsizeof(L))"
   ]
  },
  {
   "cell_type": "markdown",
   "metadata": {},
   "source": [
    "We can notice that the size of the List is greater than the Tuple.\n",
    "\n",
    "\n",
    "3. The Tuple is more secured than List because it is an Immutable Object. \n",
    "\n",
    "4. Getting Values from the Tuple is faster than the List. \n",
    "\n",
    "\n",
    "These are some of the differences between the List and the Tuple"
   ]
  },
  {
   "cell_type": "markdown",
   "metadata": {},
   "source": [
    "### Conclusion\n",
    "\n",
    "These are the ways to Create, Index, and Slice Tuple in Python. In our Next blog, Let's discuss some of the Tuple Operations"
   ]
  },
  {
   "cell_type": "code",
   "execution_count": null,
   "metadata": {},
   "outputs": [],
   "source": []
  }
 ],
 "metadata": {
  "kernelspec": {
   "display_name": "Python 3",
   "language": "python",
   "name": "python3"
  },
  "language_info": {
   "codemirror_mode": {
    "name": "ipython",
    "version": 3
   },
   "file_extension": ".py",
   "mimetype": "text/x-python",
   "name": "python",
   "nbconvert_exporter": "python",
   "pygments_lexer": "ipython3",
   "version": "3.8.5"
  }
 },
 "nbformat": 4,
 "nbformat_minor": 4
}
