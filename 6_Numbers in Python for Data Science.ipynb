{
 "cells": [
  {
   "cell_type": "markdown",
   "metadata": {},
   "source": [
    "# 6.Numbers in Python for Data Science"
   ]
  },
  {
   "cell_type": "markdown",
   "metadata": {},
   "source": [
    "## Integer\n",
    "6.1. Introduction\n",
    "Python is one of the great tools to work with Numbers. i.e., Numerical Data. There are various packages/libraries like pandas, NumPy, SciPY, statistics which allows users to work with Numerical data. It is the reason why Data Scientists prefer to work with Python."
   ]
  },
  {
   "cell_type": "markdown",
   "metadata": {},
   "source": [
    "## 6.2. Types of Numerical Data\n",
    "In Python, There are three types of Numerical Data. \n",
    "Integer\n",
    "Float\n",
    "Complex"
   ]
  },
  {
   "cell_type": "markdown",
   "metadata": {},
   "source": [
    "## 6.3. Integer\n",
    "Integer can store numbers without a decimal point. There are three types of Integer.\n",
    "Positive Integer\n",
    "Negative Integer\n",
    "Zero"
   ]
  },
  {
   "cell_type": "markdown",
   "metadata": {},
   "source": [
    "## Positive Integer"
   ]
  },
  {
   "cell_type": "code",
   "execution_count": 4,
   "metadata": {},
   "outputs": [
    {
     "name": "stdout",
     "output_type": "stream",
     "text": [
      "The Value of x is 100\n",
      "The Data Type of x is <class 'int'>\n"
     ]
    }
   ],
   "source": [
    "#Postive Integer\n",
    "x = 100 \n",
    "print(\"The Value of x is\",x)\n",
    "print(\"The Data Type of x is\",type(x))"
   ]
  },
  {
   "cell_type": "markdown",
   "metadata": {},
   "source": [
    "## Negative Integer"
   ]
  },
  {
   "cell_type": "code",
   "execution_count": 5,
   "metadata": {},
   "outputs": [
    {
     "name": "stdout",
     "output_type": "stream",
     "text": [
      "The Value of y is -500\n",
      "The Data Type of y is <class 'int'>\n"
     ]
    }
   ],
   "source": [
    "#Negative Integer\n",
    "y = -500\n",
    "print(\"The Value of y is\",y)\n",
    "print(\"The Data Type of y is\",type(y))"
   ]
  },
  {
   "cell_type": "code",
   "execution_count": 3,
   "metadata": {},
   "outputs": [
    {
     "name": "stdout",
     "output_type": "stream",
     "text": [
      "The Value of z is 0\n",
      "The Data Type of z is <class 'int'>\n"
     ]
    }
   ],
   "source": [
    "#Zero\n",
    "z = 0\n",
    "print(\"The Value of z is\",z)\n",
    "print(\"The Data Type of z is\",type(z))"
   ]
  },
  {
   "cell_type": "markdown",
   "metadata": {},
   "source": [
    "## Float\n",
    "6.4. Float\n",
    "Float is similar to Integer but, it can only store numbers with a decimal point."
   ]
  },
  {
   "cell_type": "code",
   "execution_count": 22,
   "metadata": {},
   "outputs": [
    {
     "name": "stdout",
     "output_type": "stream",
     "text": [
      "The Value of x is 100.5 Data type of x: <class 'float'>\n",
      "The Value of y is -9.05 Data type of y: <class 'float'>\n",
      "The Value of z is 0.0 Data type of z: <class 'float'>\n"
     ]
    }
   ],
   "source": [
    "x = 100.5 #Postive \n",
    "y = -9.05 #Negative\n",
    "z = 0.0 #Zero\n",
    "print(\"The Value of x is\",x,\"Data type of x:\",type(x))\n",
    "print(\"The Value of y is\",y,\"Data type of y:\",type(y))\n",
    "print(\"The Value of z is\",z,\"Data type of z:\",type(z))"
   ]
  },
  {
   "cell_type": "markdown",
   "metadata": {},
   "source": [
    "## Complex\n",
    "6.5. Complex Numbers\n",
    "It holds complex Value."
   ]
  },
  {
   "cell_type": "code",
   "execution_count": 24,
   "metadata": {},
   "outputs": [
    {
     "name": "stdout",
     "output_type": "stream",
     "text": [
      "The Value of x is (3+4j) Data type of x: <class 'complex'>\n",
      "The Value of y is (3+5j) Data type of y: <class 'complex'>\n"
     ]
    }
   ],
   "source": [
    "#Complex Numbers\n",
    "x = 3 + 4j \n",
    "y = 3 + 5j\n",
    "print(\"The Value of x is\",x,\"Data type of x:\",type(x))\n",
    "print(\"The Value of y is\",y,\"Data type of y:\",type(y))"
   ]
  },
  {
   "cell_type": "code",
   "execution_count": 25,
   "metadata": {},
   "outputs": [
    {
     "name": "stdout",
     "output_type": "stream",
     "text": [
      "(6+9j)\n"
     ]
    }
   ],
   "source": [
    "#Complex Addition\n",
    "print(x+y)"
   ]
  },
  {
   "cell_type": "code",
   "execution_count": null,
   "metadata": {},
   "outputs": [],
   "source": []
  }
 ],
 "metadata": {
  "kernelspec": {
   "display_name": "Python 3",
   "language": "python",
   "name": "python3"
  },
  "language_info": {
   "codemirror_mode": {
    "name": "ipython",
    "version": 3
   },
   "file_extension": ".py",
   "mimetype": "text/x-python",
   "name": "python",
   "nbconvert_exporter": "python",
   "pygments_lexer": "ipython3",
   "version": "3.8.5"
  }
 },
 "nbformat": 4,
 "nbformat_minor": 4
}
