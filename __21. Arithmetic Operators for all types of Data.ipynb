{
 "cells": [
  {
   "cell_type": "markdown",
   "metadata": {},
   "source": [
    "# 21. Arithmetic Operators for all types of Data"
   ]
  },
  {
   "cell_type": "markdown",
   "metadata": {},
   "source": [
    "## 21.1. Addition Operator"
   ]
  },
  {
   "cell_type": "markdown",
   "metadata": {},
   "source": [
    "### Case-1: Addition\n",
    "\n",
    "The Addition Operator(+) is used to add Integer, Float, Complex, and Boolean Values."
   ]
  },
  {
   "cell_type": "code",
   "execution_count": 4,
   "metadata": {},
   "outputs": [
    {
     "name": "stdout",
     "output_type": "stream",
     "text": [
      "Integer => 3 + 5 =>  8\n",
      "Float   => 3.5 + 5.5 => 9.0\n",
      "Complex => (3 + 4j) + (5+6j) => (8+10j)\n",
      "Boolean => True + False => 1\n",
      "Boolean => False + False=> 0\n",
      "Boolean => True + True  => 2\n"
     ]
    }
   ],
   "source": [
    "#Adding an Integer Values\n",
    "print(\"Integer => 3 + 5 => \", 3 + 5)\n",
    "\n",
    "#Adding Floating Point Values\n",
    "print(\"Float   => 3.5 + 5.5 =>\", 3.5 + 5.5)\n",
    "\n",
    "#Adding Complex Values\n",
    "print(\"Complex => (3 + 4j) + (5+6j) =>\", (3 + 4j) + (5+6j))\n",
    "\n",
    "#Adding Boolean Values\n",
    "print(\"Boolean => True + False =>\", True + False) #True = 1, False = 0\n",
    "print(\"Boolean => False + False=>\", False + False) #False = 0, False = 0\n",
    "print(\"Boolean => True + True  =>\", True + True) #True = 1, True = 1"
   ]
  },
  {
   "cell_type": "markdown",
   "metadata": {},
   "source": [
    "### Case-2: Concatenation\n",
    "\n",
    "The Addition Operator(+) also concatenates the values of String, List, and Tuple."
   ]
  },
  {
   "cell_type": "code",
   "execution_count": 2,
   "metadata": {},
   "outputs": [
    {
     "name": "stdout",
     "output_type": "stream",
     "text": [
      "String  => 'Shivman' + 'Labs' => ShivmanLabs\n",
      "List   => [1,2,3] + [4,5,6] => [1, 2, 3, 4, 5, 6]\n",
      "Tuple  => (1,2,3) + (4,5,6) => (1, 2, 3, 4, 5, 6)\n"
     ]
    }
   ],
   "source": [
    "#Concatenating String Values\n",
    "print(\"String  => 'Shivman' + 'Labs' =>\", 'Shivman' + 'Labs')\n",
    "\n",
    "#Concatenating List \n",
    "print(\"List   => [1,2,3] + [4,5,6] =>\",  [1,2,3] + [4,5,6]) \n",
    "\n",
    "#Concatenating Tuples\n",
    "print(\"Tuple  => (1,2,3) + (4,5,6) =>\", (1,2,3) + (4,5,6)) "
   ]
  },
  {
   "cell_type": "markdown",
   "metadata": {},
   "source": [
    "## 21.2. Subtraction Operator"
   ]
  },
  {
   "cell_type": "markdown",
   "metadata": {},
   "source": [
    "The Subtraction Operator(-) Subtracts the Integer, Float, Boolean, and Complex values."
   ]
  },
  {
   "cell_type": "code",
   "execution_count": 5,
   "metadata": {},
   "outputs": [
    {
     "name": "stdout",
     "output_type": "stream",
     "text": [
      "Integer => 5 - 3 =>  2\n",
      "Float   => 6.5 - 5.5 => 1.0\n",
      "Complex => (3 + 4j) - (5+6j) => (-2-2j)\n",
      "Boolean => False - True => -1\n",
      "Boolean => False - False=> 0\n",
      "Boolean => True - False  => 1\n"
     ]
    }
   ],
   "source": [
    "#Subtraction Operator\n",
    "#Let's Subtract Values of Different Data Types\n",
    "\n",
    "#Subtracting Integers\n",
    "print(\"Integer => 5 - 3 => \", 5 - 3)\n",
    "\n",
    "#Subtracting Floating Point Values\n",
    "print(\"Float   => 6.5 - 5.5 =>\", 6.5 - 5.5)\n",
    "\n",
    "#Subtracting Complex Values\n",
    "print(\"Complex => (3 + 4j) - (5+6j) =>\", (3 + 4j) - (5+6j))\n",
    "\n",
    "#Subtracting Boolean Values\n",
    "print(\"Boolean => False - True =>\", False - True) #True = 0, False = 1\n",
    "print(\"Boolean => False - False=>\", False - False) #False = 0, False = 0\n",
    "print(\"Boolean => True - False  =>\", True - False) #True = 1, True = 0"
   ]
  },
  {
   "cell_type": "markdown",
   "metadata": {},
   "source": [
    "## 21.3. Multipication Operator\n",
    "\n",
    "### Case-1: Multiplication\n",
    "It Multiplies the Values of an Integer, Float, Complex, and Boolean.\n"
   ]
  },
  {
   "cell_type": "code",
   "execution_count": 10,
   "metadata": {},
   "outputs": [
    {
     "name": "stdout",
     "output_type": "stream",
     "text": [
      "Integer => 5 * 3 =>  15\n",
      "Float   => 6.5 * 5.5 => 35.75\n",
      "Complex => (3 + 4j) * (5+6j) => (-9+38j)\n",
      "Boolean => False * True => 0\n",
      "Boolean => False * False=> 0\n",
      "Boolean => True * True  => 1\n"
     ]
    }
   ],
   "source": [
    "#Multiplication Operator\n",
    "#Let's Multiply Values of Different Data Types\n",
    "\n",
    "#Multiplying Integers\n",
    "print(\"Integer => 5 * 3 => \", 5 * 3)\n",
    "\n",
    "#Multiplying Floating Point Values\n",
    "print(\"Float   => 6.5 * 5.5 =>\", 6.5 * 5.5)\n",
    "\n",
    "#Multiplying Complex Values\n",
    "print(\"Complex => (3 + 4j) * (5+6j) =>\", (3 + 4j) * (5+6j))\n",
    "\n",
    "#Multiplying Boolean Values\n",
    "print(\"Boolean => False * True =>\", False * True) #True = 0, False = 1\n",
    "print(\"Boolean => False * False=>\", False * False) #False = 0, False = 0\n",
    "print(\"Boolean => True * True  =>\", True * True) #True = 1, True = 1"
   ]
  },
  {
   "cell_type": "markdown",
   "metadata": {},
   "source": [
    "### Case-2: Repetition\n",
    "It repeats the Values of String, Tuple, and List for 'n' number of times."
   ]
  },
  {
   "cell_type": "code",
   "execution_count": 6,
   "metadata": {},
   "outputs": [
    {
     "name": "stdout",
     "output_type": "stream",
     "text": [
      "String  => 'Shivman Labs * 2' => Shivman LabsShivman Labs\n",
      "List    => [1,2,3] * 3 => [1, 2, 3, 1, 2, 3, 1, 2, 3]\n",
      "Tuple   => (1,2,3) * 3 => (1, 2, 3, 1, 2, 3, 1, 2, 3)\n"
     ]
    }
   ],
   "source": [
    "#Multiplying String Values : Repeats the String for 'n' numer of Times\n",
    "print(\"String  => 'Shivman Labs * 2' =>\", 'Shivman Labs' * 2)\n",
    "\n",
    "#Multiplying List : Repeates the Item of the List 'n' number of Times\n",
    "print(\"List    => [1,2,3] * 3 =>\",  [1,2,3] * 3) \n",
    "\n",
    "#Multiplying Tuple : Repeates the Item of the Tuple 'n' number of Times\n",
    "print(\"Tuple   => (1,2,3) * 3 =>\", (1,2,3) * 3) "
   ]
  },
  {
   "cell_type": "markdown",
   "metadata": {},
   "source": [
    "# 21.4. Division Operator"
   ]
  },
  {
   "cell_type": "code",
   "execution_count": 54,
   "metadata": {},
   "outputs": [
    {
     "name": "stdout",
     "output_type": "stream",
     "text": [
      "Integer => 5 / 3 =>  1.6666666666666667\n",
      "Float   => 6.5 / 5.5 => 1.1818181818181819\n",
      "Complex => (3 + 4j) * (5+6j) => (0.6393442622950819+0.03278688524590165j)\n",
      "Boolean => False / True => 0.0\n",
      "Boolean => True / True  => 1.0\n"
     ]
    }
   ],
   "source": [
    "#Division Operator\n",
    "#Let's Divide Values of Different Data Types\n",
    "\n",
    "#Dividing Integers\n",
    "print(\"Integer => 5 / 3 => \", 5 / 3)\n",
    "\n",
    "#Dividing Floating Point Values\n",
    "print(\"Float   => 6.5 / 5.5 =>\", 6.5 / 5.5)\n",
    "\n",
    "#Dividing Complex Values\n",
    "print(\"Complex => (3 + 4j) / (5+6j) =>\", (3 + 4j) / (5+6j))\n",
    "\n",
    "#Dividing Boolean Values\n",
    "print(\"Boolean => False / True =>\", False / True) #True = 0, False = 1\n",
    "print(\"Boolean => True / True  =>\", True / True) #True = 1, True = 1"
   ]
  },
  {
   "cell_type": "markdown",
   "metadata": {},
   "source": [
    "### NOTE:\n",
    "We cannot divide the values by zero. It will raise Zero Division Error.\n"
   ]
  },
  {
   "cell_type": "code",
   "execution_count": 13,
   "metadata": {},
   "outputs": [
    {
     "ename": "ZeroDivisionError",
     "evalue": "division by zero",
     "output_type": "error",
     "traceback": [
      "\u001b[1;31m---------------------------------------------------------------------------\u001b[0m",
      "\u001b[1;31mZeroDivisionError\u001b[0m                         Traceback (most recent call last)",
      "\u001b[1;32m<ipython-input-13-e1965806ec03>\u001b[0m in \u001b[0;36m<module>\u001b[1;34m\u001b[0m\n\u001b[1;32m----> 1\u001b[1;33m \u001b[1;36m3\u001b[0m \u001b[1;33m/\u001b[0m \u001b[1;36m0\u001b[0m\u001b[1;33m\u001b[0m\u001b[1;33m\u001b[0m\u001b[0m\n\u001b[0m",
      "\u001b[1;31mZeroDivisionError\u001b[0m: division by zero"
     ]
    }
   ],
   "source": [
    "3 / 0"
   ]
  },
  {
   "cell_type": "markdown",
   "metadata": {},
   "source": [
    "### 21.5. Floor Division Operator\n",
    "It divides the values of Integer, Float, and Boolean. But, It returns the Floor Value of it. For e.g., 5/2 => 2.5. It will return the Floor value of 2.5. i.,e 2."
   ]
  },
  {
   "cell_type": "code",
   "execution_count": 18,
   "metadata": {},
   "outputs": [
    {
     "name": "stdout",
     "output_type": "stream",
     "text": [
      "Integer => 5 // 2 =>  2\n",
      "Float   => 6.5 // 5.5 => 1.0\n",
      "Boolean => False // True => 0\n",
      "Boolean => True // True  => 1\n"
     ]
    }
   ],
   "source": [
    "#Division Operator\n",
    "#Let's Divide Values of Different Data Types\n",
    "\n",
    "#Dividing Integers\n",
    "print(\"Integer => 5 // 2 => \", 5 // 2)\n",
    "\n",
    "#Dividing Floating Point Values\n",
    "print(\"Float   => 6.5 // 5.5 =>\", 6.5 // 5.5)\n",
    "\n",
    "#Dividing Boolean Values\n",
    "print(\"Boolean => False // True =>\", False // True) #True = 0, False = 1\n",
    "print(\"Boolean => True // True  =>\", True // True) #True = 1, True = 1"
   ]
  },
  {
   "cell_type": "markdown",
   "metadata": {},
   "source": [
    "## 2.6. Modulo Operator\n",
    "It divides the values of Integer, Float, and Boolean. But, It returns the remainder value of the division. For e.g., 5/2 => 2.5. It will return the Reminder value of 2.5. i.e., 5."
   ]
  },
  {
   "cell_type": "code",
   "execution_count": 20,
   "metadata": {},
   "outputs": [
    {
     "name": "stdout",
     "output_type": "stream",
     "text": [
      "Integer => 5 % 2 =>  1\n",
      "Float   => 6.5 % 5.5 => 1.0\n",
      "Boolean => False % True => 0\n",
      "Boolean => True % True  => 0\n"
     ]
    }
   ],
   "source": [
    "#Division Operator\n",
    "#Let's Divide Values of Different Data Types\n",
    "\n",
    "#Dividing Integers\n",
    "print(\"Integer => 5 % 2 => \", 5 % 2)\n",
    "\n",
    "#Dividing Floating Point Values\n",
    "print(\"Float   => 6.5 % 5.5 =>\", 6.5 % 5.5)\n",
    "\n",
    "#Dividing Boolean Values\n",
    "print(\"Boolean => False % True =>\", False % True) #True = 0, False = 1\n",
    "print(\"Boolean => True % True  =>\", True % True) #True = 1, True = 1"
   ]
  },
  {
   "cell_type": "markdown",
   "metadata": {},
   "source": [
    "## 2.7. Exponential Operator\n",
    "It returns the value to the power of n. For e.g., 2 ** 3 will return 2x2x2 = 8."
   ]
  },
  {
   "cell_type": "code",
   "execution_count": 25,
   "metadata": {},
   "outputs": [
    {
     "name": "stdout",
     "output_type": "stream",
     "text": [
      "Integer => 2 ** 3 =>  8\n",
      "Float   => 6.5 ** 5.5 => 29581.72269156884\n"
     ]
    }
   ],
   "source": [
    "#Exponential Operator\n",
    "#Let's Divide Values of Different Data Types\n",
    "\n",
    "#Integers\n",
    "print(\"Integer => 2 ** 3 => \", 2 ** 3)\n",
    "\n",
    "#Floating Point Values\n",
    "print(\"Float   => 6.5 ** 5.5 =>\", 6.5 ** 5.5)"
   ]
  },
  {
   "cell_type": "code",
   "execution_count": null,
   "metadata": {},
   "outputs": [],
   "source": []
  }
 ],
 "metadata": {
  "kernelspec": {
   "display_name": "Python 3",
   "language": "python",
   "name": "python3"
  },
  "language_info": {
   "codemirror_mode": {
    "name": "ipython",
    "version": 3
   },
   "file_extension": ".py",
   "mimetype": "text/x-python",
   "name": "python",
   "nbconvert_exporter": "python",
   "pygments_lexer": "ipython3",
   "version": "3.8.5"
  }
 },
 "nbformat": 4,
 "nbformat_minor": 4
}
