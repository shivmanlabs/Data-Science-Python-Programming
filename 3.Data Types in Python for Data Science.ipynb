{
 "cells": [
  {
   "cell_type": "markdown",
   "metadata": {},
   "source": [
    "# 3.Data Types in Python for Data Science"
   ]
  },
  {
   "cell_type": "markdown",
   "metadata": {},
   "source": [
    "## 3.1. Data Types in Python"
   ]
  },
  {
   "cell_type": "markdown",
   "metadata": {},
   "source": [
    "There are various data types in python. They are\n",
    "1. Numerical \n",
    "2. String \n",
    "3. Sequence \n",
    "4. Dictionary \n",
    "5. Boolean \n",
    "6. Sets "
   ]
  },
  {
   "cell_type": "markdown",
   "metadata": {},
   "source": [
    "## 3.2 Numerical Data Type\n",
    "There are three types of Numerical Data. They are Integer, Float, and Complex Data. \n",
    "\n",
    "### 3.2.1. Integer\n",
    "Integer holds Number without any Decimal Point. That Number may be either positive or negative."
   ]
  },
  {
   "cell_type": "code",
   "execution_count": 9,
   "metadata": {},
   "outputs": [
    {
     "name": "stdout",
     "output_type": "stream",
     "text": [
      "The Value of a is 10 ,and Data Type of a is <class 'int'>\n",
      "The Value of b is -10 ,and Data Type of b is <class 'int'>\n",
      "The Value of c is 0 ,and Data Type of c is <class 'int'>\n"
     ]
    }
   ],
   "source": [
    "#Python code for Integer\n",
    "a = 10  #Positive Integer\n",
    "b = -10 #Negative Integer\n",
    "c = 0   #Zero\n",
    "#DataType\n",
    "print('The Value of a is',a, ',and Data Type of a is',type(a))\n",
    "print('The Value of b is',b, ',and Data Type of b is',type(b))\n",
    "print('The Value of c is',c, ',and Data Type of c is',type(c))"
   ]
  },
  {
   "cell_type": "markdown",
   "metadata": {},
   "source": [
    "### 2. Float\n",
    "Floating point holds Number with Decimal Point. That Number may be positive or Negative."
   ]
  },
  {
   "cell_type": "code",
   "execution_count": 8,
   "metadata": {},
   "outputs": [
    {
     "name": "stdout",
     "output_type": "stream",
     "text": [
      "The Value of a is 10.5 ,and Data Type of a is <class 'float'>\n",
      "The Value of b is -10.5 ,and Data Type of b is <class 'float'>\n",
      "The Value of c is 0.0 ,and Data Type of c is <class 'float'>\n"
     ]
    }
   ],
   "source": [
    "#Python Code for Float\n",
    "a = 10.5\n",
    "b = -10.5\n",
    "c = 0.0\n",
    "\n",
    "#DataType\n",
    "print('The Value of a is',a, ',and Data Type of a is',type(a))\n",
    "print('The Value of b is',b, ',and Data Type of b is',type(b))\n",
    "print('The Value of c is',c, ',and Data Type of c is',type(c))"
   ]
  },
  {
   "cell_type": "markdown",
   "metadata": {},
   "source": [
    "### 3. Complex\n",
    "Complex hold Complex Values.   That is a real number and an Imaginary number(j)\n",
    "\n",
    "Example\n",
    "x = 3 + 5j"
   ]
  },
  {
   "cell_type": "code",
   "execution_count": 10,
   "metadata": {},
   "outputs": [
    {
     "name": "stdout",
     "output_type": "stream",
     "text": [
      "The Value of a is (3+4j) ,and Data Type of a is <class 'complex'>\n",
      "The Value of b is (4+5j) ,and Data Type of b is <class 'complex'>\n"
     ]
    }
   ],
   "source": [
    "#Python Code for Complex Data\n",
    "a = 3 + 4j\n",
    "b = 4 + 5j\n",
    "\n",
    "#Data Type\n",
    "print('The Value of a is',a, ',and Data Type of a is',type(a))\n",
    "print('The Value of b is',b, ',and Data Type of b is',type(b))"
   ]
  },
  {
   "cell_type": "code",
   "execution_count": 11,
   "metadata": {},
   "outputs": [
    {
     "name": "stdout",
     "output_type": "stream",
     "text": [
      "(7+9j)\n"
     ]
    }
   ],
   "source": [
    "#Complex Addition\n",
    "print(a + b)"
   ]
  },
  {
   "cell_type": "markdown",
   "metadata": {},
   "source": [
    "## 3.3. String\n",
    "String holds a character or a sequence of character"
   ]
  },
  {
   "cell_type": "code",
   "execution_count": 12,
   "metadata": {},
   "outputs": [
    {
     "name": "stdout",
     "output_type": "stream",
     "text": [
      "The Value of a is s ,and Data Type of a is <class 'str'>\n",
      "The Value of b is Shivman Labs ,and Data Type of b is <class 'str'>\n"
     ]
    }
   ],
   "source": [
    "#Python Code for String \n",
    "a = 's'\n",
    "b = \"Shivman Labs\"\n",
    "\n",
    "#Data Type\n",
    "print('The Value of a is',a, ',and Data Type of a is',type(a))\n",
    "print('The Value of b is',b, ',and Data Type of b is',type(b))"
   ]
  },
  {
   "cell_type": "markdown",
   "metadata": {},
   "source": [
    "## 3.4. Sequence\n",
    "There are three types of Sequence Data. They are List, Tuple, and Range.\n",
    "\n",
    "### 1.List\n",
    "A list is a mutable object.   It can contain any number of items(i.e., Values). It is denoted by   \"Square brackets[ ]\"`2"
   ]
  },
  {
   "cell_type": "code",
   "execution_count": 13,
   "metadata": {},
   "outputs": [
    {
     "name": "stdout",
     "output_type": "stream",
     "text": [
      "The Value of X is [1, 'a', 1.5]\n",
      "The Datatype of X is <class 'list'>\n"
     ]
    }
   ],
   "source": [
    "#Python Code for List\n",
    "X = [1,'a',1.5]\n",
    "\n",
    "#Data Type\n",
    "print(\"The Value of X is\",X)\n",
    "print(\"The Datatype of X is\",type(X))"
   ]
  },
  {
   "cell_type": "markdown",
   "metadata": {},
   "source": [
    "### 2. Tuple\n",
    "A Tuple is an immutable object. It can contain any number of items(i.e., Values). It is denoted by \"parenthesis()\"\n"
   ]
  },
  {
   "cell_type": "code",
   "execution_count": 15,
   "metadata": {},
   "outputs": [
    {
     "name": "stdout",
     "output_type": "stream",
     "text": [
      "The Value of X is (1, 'a', 1.5)\n",
      "The Datatype of X is <class 'tuple'>\n"
     ]
    }
   ],
   "source": [
    "#Python Code for Tuple\n",
    "X = (1,'a',1.5)\n",
    "\n",
    "#Data Type\n",
    "print(\"The Value of X is\",X)\n",
    "print(\"The Datatype of X is\",type(X))"
   ]
  },
  {
   "cell_type": "markdown",
   "metadata": {},
   "source": [
    "### 3. Range\n",
    "The Range is the inbuilt funct`ion in python. It returns the sequence of numbers between two Integers"
   ]
  },
  {
   "cell_type": "code",
   "execution_count": 18,
   "metadata": {},
   "outputs": [
    {
     "name": "stdout",
     "output_type": "stream",
     "text": [
      "The Value of X is [2, 3, 4, 5]\n",
      "The Datatype of X is <class 'range'>\n"
     ]
    }
   ],
   "source": [
    "#Python code for Range\n",
    "X = range(2,6) #Start=2, #Stop=6\n",
    "\n",
    "#Data Type\n",
    "print(\"The Value of X is\",list(X))\n",
    "print(\"The Datatype of X is\",type(X))"
   ]
  },
  {
   "cell_type": "code",
   "execution_count": 19,
   "metadata": {},
   "outputs": [
    {
     "name": "stdout",
     "output_type": "stream",
     "text": [
      "The Value of Y is [2, 4, 6, 8]\n",
      "The Datatype of Y is <class 'range'>\n"
     ]
    }
   ],
   "source": [
    "Y = range(2,10,2) #Start=2, #Stop=6, #Step=2\n",
    "\n",
    "#Data Type\n",
    "print(\"The Value of Y is\",list(Y))\n",
    "print(\"The Datatype of Y is\",type(Y))"
   ]
  },
  {
   "cell_type": "markdown",
   "metadata": {},
   "source": [
    "## 3.5 Dictionary\n",
    "\n",
    "The Dictionary is used to store data in key: value pairs. The colon (:) separates the key and value inside the curly braces {key_1: value_1, key2: value_2}.\n"
   ]
  },
  {
   "cell_type": "code",
   "execution_count": 21,
   "metadata": {},
   "outputs": [
    {
     "name": "stdout",
     "output_type": "stream",
     "text": [
      "The Value of X is {'a': 10, 'b': 15}\n",
      "The Datatype of X is <class 'dict'>\n"
     ]
    }
   ],
   "source": [
    "#Python Code for Dictionary\n",
    "dict_X = {'a':10,'b':15}\n",
    "\n",
    "#Data Type\n",
    "print(\"The Value of X is\",dict_X)\n",
    "print(\"The Datatype of X is\",type(dict_X))"
   ]
  },
  {
   "cell_type": "code",
   "execution_count": 22,
   "metadata": {},
   "outputs": [
    {
     "name": "stdout",
     "output_type": "stream",
     "text": [
      "dict_keys(['a', 'b'])\n",
      "dict_values([10, 15])\n"
     ]
    }
   ],
   "source": [
    "#Keys\n",
    "print(dict_X.keys())\n",
    "\n",
    "#Values\n",
    "print(dict_X.values())"
   ]
  },
  {
   "cell_type": "code",
   "execution_count": 23,
   "metadata": {},
   "outputs": [
    {
     "name": "stdout",
     "output_type": "stream",
     "text": [
      "10\n",
      "15\n"
     ]
    }
   ],
   "source": [
    "#Value of X\n",
    "print(dict_X['a'])\n",
    "#Value of Y\n",
    "print(dict_X['b'])"
   ]
  },
  {
   "cell_type": "markdown",
   "metadata": {},
   "source": [
    "## 3.6 Boolean\n",
    "The Boolean contains two   values. i.e., True and False.\n",
    "\n",
    "Example\n",
    "a = True\n",
    "b = False"
   ]
  },
  {
   "cell_type": "code",
   "execution_count": 25,
   "metadata": {},
   "outputs": [
    {
     "name": "stdout",
     "output_type": "stream",
     "text": [
      "The Value of a is True ,and Data Type of a is <class 'bool'>\n",
      "The Value of b is False ,and Data Type of b is <class 'bool'>\n"
     ]
    }
   ],
   "source": [
    "#Python Code for Boolean\n",
    "a = True\n",
    "b = False\n",
    "\n",
    "#Values\n",
    "print('The Value of a is',a, ',and Data Type of a is',type(a))\n",
    "print('The Value of b is',b, ',and Data Type of b is',type(b))"
   ]
  },
  {
   "cell_type": "markdown",
   "metadata": {},
   "source": [
    "## 3.7 Sets\n",
    "A Set as a whole is a mutable object. It contains unique and unordered data items and eliminates all other duplicate items. The values of a Set cannot be indexed since it doesn't have any specific data order. It is denoted by curly braces.\n",
    "\n",
    "Example\n",
    "a = {'a','b','a'}"
   ]
  },
  {
   "cell_type": "code",
   "execution_count": 26,
   "metadata": {},
   "outputs": [
    {
     "name": "stdout",
     "output_type": "stream",
     "text": [
      "The Value of a is {'b', 'a'} ,and Data Type of a is <class 'set'>\n"
     ]
    }
   ],
   "source": [
    "#Python code for set\n",
    "a = {'a','b','a'}\n",
    "\n",
    "#Values\n",
    "print('The Value of a is',a, ',and Data Type of a is',type(a))"
   ]
  },
  {
   "cell_type": "markdown",
   "metadata": {},
   "source": [
    "### 3.7.1 Frozen Sets\n",
    "A Frozen Set is similar to a Set but, it is an immutable object. We cannot change, update, remove items in the set once it Created.\n",
    "\n",
    "Example"
   ]
  },
  {
   "cell_type": "code",
   "execution_count": 27,
   "metadata": {},
   "outputs": [
    {
     "name": "stdout",
     "output_type": "stream",
     "text": [
      "The Value of a is frozenset({'c', 'b', 'a'}) ,and Data Type of a is <class 'frozenset'>\n"
     ]
    }
   ],
   "source": [
    "#Python code for Frozen set\n",
    "a = frozenset(['a','b','c'])\n",
    "\n",
    "#Values\n",
    "print('The Value of a is',a, ',and Data Type of a is',type(a))"
   ]
  },
  {
   "cell_type": "code",
   "execution_count": null,
   "metadata": {},
   "outputs": [],
   "source": []
  }
 ],
 "metadata": {
  "kernelspec": {
   "display_name": "Python 3",
   "language": "python",
   "name": "python3"
  },
  "language_info": {
   "codemirror_mode": {
    "name": "ipython",
    "version": 3
   },
   "file_extension": ".py",
   "mimetype": "text/x-python",
   "name": "python",
   "nbconvert_exporter": "python",
   "pygments_lexer": "ipython3",
   "version": "3.8.5"
  }
 },
 "nbformat": 4,
 "nbformat_minor": 4
}
