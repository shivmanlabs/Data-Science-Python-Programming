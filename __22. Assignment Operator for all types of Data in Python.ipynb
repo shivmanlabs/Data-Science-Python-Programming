{
 "cells": [
  {
   "cell_type": "markdown",
   "metadata": {},
   "source": [
    "# 22. Assignment Operator for all types of Data in Python\n",
    "\n",
    "In this Assignment Operator for all types of Data blog post, we will learn the following concepts."
   ]
  },
  {
   "cell_type": "markdown",
   "metadata": {},
   "source": [
    "## 22.1. Assignment Operator"
   ]
  },
  {
   "cell_type": "markdown",
   "metadata": {},
   "source": [
    "The \"equal to, =\" Operator assigns the Values to the Variable. In python, We should declare the Variable name on the Left and the Values on the Right-hand side.\n",
    "\n",
    "Let's Assign different types of values to the Variables in the below python program."
   ]
  },
  {
   "cell_type": "code",
   "execution_count": 9,
   "metadata": {},
   "outputs": [
    {
     "name": "stdout",
     "output_type": "stream",
     "text": [
      "Integer: i= 10\n",
      "Float: f= 10.5\n",
      "Complex: c= (3+4j)\n",
      "Boolean: b= True\n",
      "String :s= Shivman Labs\n",
      "List :l= [1, 'a', True, 10.5]\n",
      "Tuple :t= (1, 'a', True, 10.5)\n",
      "Dictionary :d= {'l': [1, 'a', True, 10.5], 't': (1, 'a', True, 10.5)}\n",
      "Dictionary l :d['l']= [1, 'a', True, 10.5]\n",
      "Dictionary t :d['t']= (1, 'a', True, 10.5)\n"
     ]
    }
   ],
   "source": [
    "#Integer\n",
    "i = 10\n",
    "print(\"Integer: i=\",i)\n",
    "\n",
    "#Float\n",
    "f = 10.5\n",
    "print(\"Float: f=\",f)\n",
    "\n",
    "#Complex\n",
    "c = 3 + 4j\n",
    "print(\"Complex: c=\",c)\n",
    "\n",
    "#Boolean\n",
    "b = True\n",
    "print(\"Boolean: b=\",b)\n",
    "\n",
    "#String\n",
    "s = \"Shivman Labs\"\n",
    "print(\"String :s=\",s)\n",
    "\n",
    "#List\n",
    "l = [1,'a',True,10.5]\n",
    "print(\"List :l=\", l)\n",
    "\n",
    "#Tuple\n",
    "t = (1,'a',True,10.5)\n",
    "print(\"Tuple :t=\", t)\n",
    "\n",
    "#Dictionary\n",
    "d = {'l':[1,'a',True,10.5], 't':(1,'a',True,10.5)}\n",
    "print(\"Dictionary :d=\", d)\n",
    "print(\"Dictionary l :d['l']=\", d['l'])\n",
    "print(\"Dictionary t :d['t']=\", d['t'])"
   ]
  },
  {
   "cell_type": "markdown",
   "metadata": {},
   "source": [
    "## 22.2. Add and Assign Operator\n",
    "\n",
    "### Operator:\n",
    "i = 10\n",
    "i+=5\n",
    "\n",
    "The \"Add and Assign, i+=5\" Operator adds 5 with the already existing value of i. That is 10+5=15. \n",
    "\n",
    "### Case-1: Addition\n"
   ]
  },
  {
   "cell_type": "code",
   "execution_count": 2,
   "metadata": {},
   "outputs": [
    {
     "name": "stdout",
     "output_type": "stream",
     "text": [
      "Integer: i= 10\n",
      "i+=5 => 15\n",
      "\n",
      "Float: f= 10.5\n",
      "f+=5 => 15.5\n",
      "\n",
      "Complex: c= (3+4j)\n",
      "c+=5+2j => (8+6j)\n",
      "\n",
      "Boolean: b= True\n",
      "b+=True => 2\n"
     ]
    }
   ],
   "source": [
    "#Integer\n",
    "i = 10\n",
    "print(\"Integer: i=\",i)\n",
    "i+=5\n",
    "print(\"i+=5 =>\",i)\n",
    "\n",
    "#Float\n",
    "f = 10.5\n",
    "print(\"\\nFloat: f=\",f)\n",
    "f+=5 \n",
    "print(\"f+=5 =>\",f)\n",
    "\n",
    "#Complex\n",
    "c = 3 + 4j\n",
    "print(\"\\nComplex: c=\",c)\n",
    "c+= 5+2j\n",
    "print(\"c+=5+2j =>\",c)\n",
    "\n",
    "#Boolean\n",
    "b = True\n",
    "print(\"\\nBoolean: b=\",b)\n",
    "b+=True\n",
    "print(\"b+=True =>\",b)"
   ]
  },
  {
   "cell_type": "markdown",
   "metadata": {},
   "source": [
    "### Case-2: Concatenate and Assign\n",
    "The  \"Add and Assign, +=\" also concatenates the value of String, List, Tuple, and Sets."
   ]
  },
  {
   "cell_type": "code",
   "execution_count": 16,
   "metadata": {},
   "outputs": [
    {
     "name": "stdout",
     "output_type": "stream",
     "text": [
      "String: s= Shivman \n",
      "s += 'Labs' => Shivman Labs\n",
      "\n",
      "List: l= [1, 2, 3]\n",
      "l += [4,5] => [1, 2, 3, 4, 5]\n",
      "\n",
      "Tuple: t= (1, 2, 3)\n",
      "l += [4,5] => (1, 2, 3, 4, 5)\n"
     ]
    }
   ],
   "source": [
    "#String\n",
    "s = \"Shivman \"\n",
    "print(\"String: s=\",s)\n",
    "s += 'Labs'\n",
    "print(\"s += 'Labs' =>\",s)\n",
    "\n",
    "#List\n",
    "l = [1,2,3]\n",
    "print(\"\\nList: l=\",l)\n",
    "l += [4,5]\n",
    "print(\"l += [4,5] =>\", l)\n",
    "\n",
    "#Tuple\n",
    "t = (1,2,3)\n",
    "print(\"\\nTuple: t=\",t)\n",
    "t += (4,5)\n",
    "print(\"l += [4,5] =>\", t)"
   ]
  },
  {
   "cell_type": "markdown",
   "metadata": {},
   "source": [
    "## 22.2. Subtract and Assign Operator\n",
    "\n",
    "Operator:\n",
    "-=\n",
    "\n",
    "The \"Subtract and Assign, i-=5\" Operator subtracts 5 with the already existing value of i. That is 10-5=5. It subtracts and Assigns the Values of integer, float, complex, and Boolean.\n",
    "\n",
    "\"i-=5\" is equal to \"i=i-5\""
   ]
  },
  {
   "cell_type": "code",
   "execution_count": 18,
   "metadata": {},
   "outputs": [
    {
     "name": "stdout",
     "output_type": "stream",
     "text": [
      "Integer: i= 10\n",
      "i-=5 => 5\n",
      "\n",
      "Float: f= 10.5\n",
      "f-=5 => 5.5\n",
      "\n",
      "Complex: c= (3+4j)\n",
      "c-=5+2j => (-2+2j)\n",
      "\n",
      "Boolean: b= True\n",
      "b-=True => 0\n"
     ]
    }
   ],
   "source": [
    "#Integer\n",
    "i = 10\n",
    "print(\"Integer: i=\",i)\n",
    "i-=5\n",
    "print(\"i-=5 =>\",i)\n",
    "\n",
    "#Float\n",
    "f = 10.5\n",
    "print(\"\\nFloat: f=\",f)\n",
    "f-=5 \n",
    "print(\"f-=5 =>\",f)\n",
    "\n",
    "#Complex\n",
    "c = 3 + 4j\n",
    "print(\"\\nComplex: c=\",c)\n",
    "c-= 5+2j\n",
    "print(\"c-=5+2j =>\",c)\n",
    "\n",
    "#Boolean\n",
    "b = True\n",
    "print(\"\\nBoolean: b=\",b)\n",
    "b-=True\n",
    "print(\"b-=True =>\",b) #True=1"
   ]
  },
  {
   "cell_type": "markdown",
   "metadata": {},
   "source": [
    "## 22.4. Multiply and Assign Operator\n",
    "\n",
    "### Operator:\n",
    "*=\n",
    "\n",
    "### Case-1: Multiply and Assign\n",
    "\n",
    "\"i*=5\" is equal to \"i = i*5\".\n",
    "The \"Add and Assign, I*=5\" Operator Multiplies 5 with the already existing value of i. That is 10*5=50. It multiplies and assigns the values of Integer, float, complex, and Boolean values"
   ]
  },
  {
   "cell_type": "code",
   "execution_count": 21,
   "metadata": {},
   "outputs": [
    {
     "name": "stdout",
     "output_type": "stream",
     "text": [
      "Integer: i= 10\n",
      "i*=5 => 50\n",
      "\n",
      "Float: f= 10.5\n",
      "f*=5 => 52.5\n",
      "\n",
      "Complex: c= (3+4j)\n",
      "c*=5+2j => (7+26j)\n",
      "\n",
      "Boolean: b= True\n",
      "b*=True => 0\n"
     ]
    }
   ],
   "source": [
    "#Integer\n",
    "i = 10\n",
    "print(\"Integer: i=\",i)\n",
    "i*=5\n",
    "print(\"i*=5 =>\",i)\n",
    "\n",
    "#Float\n",
    "f = 10.5\n",
    "print(\"\\nFloat: f=\",f)\n",
    "f*=5 \n",
    "print(\"f*=5 =>\",f)\n",
    "\n",
    "#Complex\n",
    "c = 3 + 4j\n",
    "print(\"\\nComplex: c=\",c)\n",
    "c*= 5+2j\n",
    "print(\"c*=5+2j =>\",c)\n",
    "\n",
    "#Boolean\n",
    "b = True\n",
    "print(\"\\nBoolean: b=\",b)\n",
    "b*=False\n",
    "print(\"b*=True =>\",b) #True=1, #False=0"
   ]
  },
  {
   "cell_type": "markdown",
   "metadata": {},
   "source": [
    "### Case-2: Repeat and Assign\n",
    "It repeats the Values of String, Tuple, and List for 'n' number of times and assigns it to the Variable."
   ]
  },
  {
   "cell_type": "code",
   "execution_count": 22,
   "metadata": {},
   "outputs": [
    {
     "name": "stdout",
     "output_type": "stream",
     "text": [
      "String: s= Shivman Labs\n",
      "s *= 2 => Shivman LabsShivman Labs\n",
      "\n",
      "List: l= [1, 2, 3]\n",
      "l*=2 => [1, 2, 3, 1, 2, 3]\n",
      "\n",
      "Tuple: t= (1, 2, 3)\n",
      "l *= 2 => (1, 2, 3, 1, 2, 3)\n"
     ]
    }
   ],
   "source": [
    "#String\n",
    "s = \"Shivman Labs\"\n",
    "print(\"String: s=\",s)\n",
    "s *= 2\n",
    "print(\"s *= 2 =>\",s)\n",
    "\n",
    "#List\n",
    "l = [1,2,3]\n",
    "print(\"\\nList: l=\",l)\n",
    "l *=2\n",
    "print(\"l*=2 =>\", l)\n",
    "\n",
    "#Tuple\n",
    "t = (1,2,3)\n",
    "print(\"\\nTuple: t=\",t)\n",
    "t *= 2\n",
    "print(\"l *= 2 =>\", t)"
   ]
  },
  {
   "cell_type": "markdown",
   "metadata": {},
   "source": [
    "## 22.5. Divide and Assign Operator\n",
    "\n",
    "Operator:\n",
    "/=\n",
    "\n",
    "\"i/=5\" is equal to \"i = i/5\".\n",
    "The \"Divide and Assign, I/=5\" Operator Divides the value 5 with the already existing value of i. That is 10/5=2. It divides and assigns the values of Integer, float, complex, and Boolean values."
   ]
  },
  {
   "cell_type": "code",
   "execution_count": 23,
   "metadata": {},
   "outputs": [
    {
     "name": "stdout",
     "output_type": "stream",
     "text": [
      "Integer: i= 10\n",
      "i/=5 => 2.0\n",
      "\n",
      "Float: f= 10.5\n",
      "f/=5 => 2.1\n",
      "\n",
      "Complex: c= (3+4j)\n",
      "c/=5+2j => (0.793103448275862+0.48275862068965514j)\n",
      "\n",
      "Boolean: b= True\n",
      "b/=True => 1.0\n"
     ]
    }
   ],
   "source": [
    "#Integer\n",
    "i = 10\n",
    "print(\"Integer: i=\",i)\n",
    "i/=5\n",
    "print(\"i/=5 =>\",i)\n",
    "\n",
    "#Float\n",
    "f = 10.5\n",
    "print(\"\\nFloat: f=\",f)\n",
    "f/=5 \n",
    "print(\"f/=5 =>\",f)\n",
    "\n",
    "#Complex\n",
    "c = 3 + 4j\n",
    "print(\"\\nComplex: c=\",c)\n",
    "c/= 5+2j\n",
    "print(\"c/=5+2j =>\",c)\n",
    "\n",
    "#Boolean\n",
    "b = True\n",
    "print(\"\\nBoolean: b=\",b)\n",
    "b/=True\n",
    "print(\"b/=True =>\",b) #True=1"
   ]
  },
  {
   "cell_type": "code",
   "execution_count": 11,
   "metadata": {},
   "outputs": [
    {
     "name": "stdout",
     "output_type": "stream",
     "text": [
      "Integer: i= 10\n",
      "i/=6 => 1.6666666666666667\n",
      "i//=6 => 1\n",
      "\n",
      "Float: f= 10.5\n",
      "f/=5 => 2.1\n",
      "f//=5 => 2.0\n"
     ]
    }
   ],
   "source": [
    "#Integer\n",
    "i = 10\n",
    "print(\"Integer: i=\",i)\n",
    "i/=6\n",
    "print(\"i/=6 =>\",i)\n",
    "i=10\n",
    "i//=6\n",
    "print(\"i//=6 =>\",i)\n",
    "\n",
    "#Float\n",
    "f = 10.5\n",
    "print(\"\\nFloat: f=\",f)\n",
    "f/=5\n",
    "print(\"f/=5 =>\",f)\n",
    "f=10.5\n",
    "f//=5 \n",
    "print(\"f//=5 =>\",f)"
   ]
  },
  {
   "cell_type": "code",
   "execution_count": 9,
   "metadata": {},
   "outputs": [
    {
     "name": "stdout",
     "output_type": "stream",
     "text": [
      "Int: i= 10\n",
      "i%=6 => 4\n",
      "Float: f= 10.5\n",
      "f%=6 => 4.5\n"
     ]
    }
   ],
   "source": [
    "#Integer\n",
    "i = 10\n",
    "print(\"Int: i=\",i)\n",
    "i%=6\n",
    "print(\"i%=6 =>\",i)\n",
    "\n",
    "#Float\n",
    "f = 10.5\n",
    "print(\"Float: f=\",f)\n",
    "f%=6\n",
    "print(\"f%=6 =>\",f)"
   ]
  },
  {
   "cell_type": "code",
   "execution_count": 10,
   "metadata": {},
   "outputs": [
    {
     "name": "stdout",
     "output_type": "stream",
     "text": [
      "Int: i= 10\n",
      "i**=2 => 100\n",
      "Float: f= 10.5\n",
      "f**=2 => 110.25\n"
     ]
    }
   ],
   "source": [
    "#Integer\n",
    "i = 10\n",
    "print(\"Int: i=\",i)\n",
    "i**=2\n",
    "print(\"i**=2 =>\",i)\n",
    "\n",
    "#Float\n",
    "f = 10.5\n",
    "print(\"Float: f=\",f)\n",
    "f**=2\n",
    "print(\"f**=2 =>\",f)"
   ]
  },
  {
   "cell_type": "code",
   "execution_count": null,
   "metadata": {},
   "outputs": [],
   "source": []
  }
 ],
 "metadata": {
  "kernelspec": {
   "display_name": "Python 3",
   "language": "python",
   "name": "python3"
  },
  "language_info": {
   "codemirror_mode": {
    "name": "ipython",
    "version": 3
   },
   "file_extension": ".py",
   "mimetype": "text/x-python",
   "name": "python",
   "nbconvert_exporter": "python",
   "pygments_lexer": "ipython3",
   "version": "3.8.5"
  }
 },
 "nbformat": 4,
 "nbformat_minor": 4
}
