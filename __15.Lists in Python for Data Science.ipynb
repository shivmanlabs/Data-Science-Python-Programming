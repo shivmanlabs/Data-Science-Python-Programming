{
 "cells": [
  {
   "cell_type": "markdown",
   "metadata": {},
   "source": [
    "# 15.Lists in Python for Data Science"
   ]
  },
  {
   "cell_type": "markdown",
   "metadata": {},
   "source": [
    "## 15.1. What is a List?\n",
    "\n",
    "In Python, a List is a mutable object with an 'n' number of items. The Items can be either of the same or different data types. The comma (,) Separates each item in the List enclosed by the Square Braces [ ].\n"
   ]
  },
  {
   "cell_type": "markdown",
   "metadata": {},
   "source": [
    "### Example: Let's Write a Python Program to store five different colors in the List.\n",
    "\n",
    "Python Code:"
   ]
  },
  {
   "cell_type": "code",
   "execution_count": 10,
   "metadata": {},
   "outputs": [
    {
     "name": "stdout",
     "output_type": "stream",
     "text": [
      "Color List: ['Green', 'Red', 'Blue', 'Yellow', 'Orange']\n",
      "\n",
      "Data Type of the List: <class 'list'>\n"
     ]
    }
   ],
   "source": [
    "col_list = ['Green','Red','Blue','Yellow','Orange']\n",
    "print(\"Color List:\",col_list)\n",
    "print(\"\\nData Type of the List:\", type(col_list))"
   ]
  },
  {
   "cell_type": "markdown",
   "metadata": {},
   "source": [
    "## 15.2 Let's Write a List to store items of different data types."
   ]
  },
  {
   "cell_type": "code",
   "execution_count": 12,
   "metadata": {},
   "outputs": [
    {
     "name": "stdout",
     "output_type": "stream",
     "text": [
      "The Data Type of a: <class 'int'>\n",
      "The Data Type of b: <class 'float'>\n",
      "The Data Type of c: <class 'str'>\n",
      "The Data Type of d: <class 'bool'>\n",
      "\n",
      "The List is, [10, 10.5, 'text']\n",
      "The Data Tye of l: <class 'list'>\n"
     ]
    }
   ],
   "source": [
    "#Values\n",
    "a = 10\n",
    "b = 10.5\n",
    "c = 'text'\n",
    "d = True\n",
    "\n",
    "#Data Type\n",
    "print(\"The Data Type of a:\",type(a))\n",
    "print(\"The Data Type of b:\",type(b))\n",
    "print(\"The Data Type of c:\",type(c))\n",
    "print(\"The Data Type of d:\",type(d))\n",
    "\n",
    "#List\n",
    "l = [a,b,c]\n",
    "print(\"\\nThe List is,\",l)\n",
    "print(\"The Data Tye of l:\",type(l))"
   ]
  },
  {
   "cell_type": "markdown",
   "metadata": {},
   "source": [
    "## 15.3. List Indexing\n",
    "\n",
    "Python Indexes the Items in the List in two ways. \n",
    "Forward Index\n",
    "Reverse Index\n",
    "\n",
    "## 15.4. Forward Index\n",
    "\n",
    "The Forward Indexing is similar to String Indexing. It is also a Zero-Based Index. i.e., 0 is the Index of the first Item of the List, not 1. \n",
    "\n",
    "Example: There are five colors in the List in the Example Below. Let's find its Index.\n",
    "\n",
    "Here, The Total Number of Items in the List, n = 5. \n",
    "The Index of the Items of the List starts from 0. Therefore, The Index of these five Items must be 0 to n-1. i.e., 0,1,2,3,4."
   ]
  },
  {
   "cell_type": "markdown",
   "metadata": {},
   "source": [
    "### Python Program to find the Index of Each Index:\n",
    "\n",
    "Let's find the Index of Each Item in the Colors List in Python.\n"
   ]
  },
  {
   "cell_type": "code",
   "execution_count": 26,
   "metadata": {},
   "outputs": [
    {
     "name": "stdout",
     "output_type": "stream",
     "text": [
      "The Index Number of First item, Green : 0\n",
      "The Index Number of First item, Red   : 1\n",
      "The Index Number of First item, Blue  : 2\n",
      "The Index Number of First item, Yellow: 3\n",
      "The Index Number of First item, Orange: 4\n"
     ]
    }
   ],
   "source": [
    "col_list = ['Green','Red','Blue','Yellow','Orange']\n",
    "print(\"The Index Number of First item, Green :\",col_list.index('Green'))\n",
    "print(\"The Index Number of First item, Red   :\",col_list.index('Red'))\n",
    "print(\"The Index Number of First item, Blue  :\",col_list.index('Blue'))\n",
    "print(\"The Index Number of First item, Yellow:\",col_list.index('Yellow'))\n",
    "print(\"The Index Number of First item, Orange:\",col_list.index('Orange'))"
   ]
  },
  {
   "cell_type": "markdown",
   "metadata": {},
   "source": [
    "### Python Program to find the Item of the List using its Forward Index:"
   ]
  },
  {
   "cell_type": "code",
   "execution_count": 24,
   "metadata": {},
   "outputs": [
    {
     "name": "stdout",
     "output_type": "stream",
     "text": [
      "The First  Item is: Green\n",
      "The Second Item is: Red\n",
      "The Third  Item is: Blue\n",
      "The Fourth Item is: Yellow\n",
      "The Fifth  Item is: Orange\n"
     ]
    }
   ],
   "source": [
    "col_list = ['Green','Red','Blue','Yellow','Orange']\n",
    "print(\"The First  Item is:\", col_list[0])\n",
    "print(\"The Second Item is:\", col_list[1])\n",
    "print(\"The Third  Item is:\", col_list[2])\n",
    "print(\"The Fourth Item is:\", col_list[3])\n",
    "print(\"The Fifth  Item is:\", col_list[4])\n"
   ]
  },
  {
   "cell_type": "markdown",
   "metadata": {},
   "source": [
    "## 15.5. Reverse / Backward Index\n",
    "\n",
    "In Python, The Reverse Index of the Last Item of the List is -1. The Reverse Index of the Items of the List ranges from -n to -1. \n",
    "\n",
    "Example: There are five colors in the List in the Example Below. Let's find its Index.\n",
    "\n",
    "Here, The Total Number of Items in the List, n = 5. \n",
    "The Reverse Index of the List ranges from -n to -1. Here n=5. Therefore the Index of the Items are -5, -4, -3, -2, -1"
   ]
  },
  {
   "cell_type": "code",
   "execution_count": 25,
   "metadata": {},
   "outputs": [
    {
     "name": "stdout",
     "output_type": "stream",
     "text": [
      "The First  Item is: Green\n",
      "The Second Item is: Red\n",
      "The Third  Item is: Blue\n",
      "The Fourth Item is: Yellow\n",
      "The Fifth  Item is: Orange\n"
     ]
    }
   ],
   "source": [
    "col_list = ['Green','Red','Blue','Yellow','Orange']\n",
    "print(\"The First  Item is:\", col_list[-5])\n",
    "print(\"The Second Item is:\", col_list[-4])\n",
    "print(\"The Third  Item is:\", col_list[-3])\n",
    "print(\"The Fourth Item is:\", col_list[-2])\n",
    "print(\"The Fifth  Item is:\", col_list[-1])"
   ]
  },
  {
   "cell_type": "markdown",
   "metadata": {},
   "source": [
    "## 15.6. List Slicing"
   ]
  },
  {
   "cell_type": "markdown",
   "metadata": {},
   "source": [
    "### In Python, We can Slice the List using either Forward and Reverse Index. \n"
   ]
  },
  {
   "cell_type": "code",
   "execution_count": 28,
   "metadata": {},
   "outputs": [
    {
     "data": {
      "text/plain": [
       "['Green', 'Red', 'Blue']"
      ]
     },
     "execution_count": 28,
     "metadata": {},
     "output_type": "execute_result"
    }
   ],
   "source": [
    "col_list = ['Green','Red','Blue','Yellow','Orange']\n",
    "col_list[0:3]"
   ]
  },
  {
   "cell_type": "code",
   "execution_count": 29,
   "metadata": {},
   "outputs": [
    {
     "data": {
      "text/plain": [
       "['Green', 'Red', 'Blue']"
      ]
     },
     "execution_count": 29,
     "metadata": {},
     "output_type": "execute_result"
    }
   ],
   "source": [
    "col_list = ['Green','Red','Blue','Yellow','Orange']\n",
    "col_list[-5:-2]"
   ]
  },
  {
   "cell_type": "code",
   "execution_count": 30,
   "metadata": {},
   "outputs": [
    {
     "name": "stdout",
     "output_type": "stream",
     "text": [
      "['Green', 'Yellow', 'Blue', 'Yellow', 'Orange']\n"
     ]
    }
   ],
   "source": [
    "col_list = ['Green','Red','Blue','Yellow','Orange']\n",
    "col_list[1] = 'Yellow'\n",
    "print(col_list)"
   ]
  },
  {
   "cell_type": "code",
   "execution_count": null,
   "metadata": {},
   "outputs": [],
   "source": []
  }
 ],
 "metadata": {
  "kernelspec": {
   "display_name": "Python 3",
   "language": "python",
   "name": "python3"
  },
  "language_info": {
   "codemirror_mode": {
    "name": "ipython",
    "version": 3
   },
   "file_extension": ".py",
   "mimetype": "text/x-python",
   "name": "python",
   "nbconvert_exporter": "python",
   "pygments_lexer": "ipython3",
   "version": "3.8.5"
  }
 },
 "nbformat": 4,
 "nbformat_minor": 4
}
