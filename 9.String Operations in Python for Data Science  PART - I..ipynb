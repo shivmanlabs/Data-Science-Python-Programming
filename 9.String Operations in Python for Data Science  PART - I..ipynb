{
 "cells": [
  {
   "cell_type": "markdown",
   "metadata": {},
   "source": [
    "# String Operations in Python for Data Science | PART-I"
   ]
  },
  {
   "cell_type": "markdown",
   "metadata": {},
   "source": [
    "In this Notebook, We will learn some of the String Operations in Python. "
   ]
  },
  {
   "cell_type": "markdown",
   "metadata": {},
   "source": [
    "### 9.1. String Addition, + :\n",
    "In Python, the '+' Addition Operator is used to Add Strings."
   ]
  },
  {
   "cell_type": "code",
   "execution_count": 2,
   "metadata": {},
   "outputs": [
    {
     "name": "stdout",
     "output_type": "stream",
     "text": [
      "Shivman Labs\n"
     ]
    }
   ],
   "source": [
    "#String Addition\n",
    "s = \"Shivman\" + \" \" + \"Labs\"\n",
    "print(s)"
   ]
  },
  {
   "cell_type": "markdown",
   "metadata": {},
   "source": [
    "### 9.2. String Repeat, * :\n",
    "In Python, the '*' Multiplication Operator is used to Repeat Strings."
   ]
  },
  {
   "cell_type": "code",
   "execution_count": 19,
   "metadata": {},
   "outputs": [
    {
     "name": "stdout",
     "output_type": "stream",
     "text": [
      "'Shivman Labs' 'Shivman Labs' 'Shivman Labs' \n"
     ]
    }
   ],
   "source": [
    "#String Repeat\n",
    "s = (\"'Shivman Labs'\" + \" \") * 3\n",
    "print(s)"
   ]
  },
  {
   "cell_type": "markdown",
   "metadata": {},
   "source": [
    "### 9.3. String Length, len(s):\n",
    "The len(s) command Returns the Number of Characters in the String."
   ]
  },
  {
   "cell_type": "code",
   "execution_count": 20,
   "metadata": {},
   "outputs": [
    {
     "name": "stdout",
     "output_type": "stream",
     "text": [
      "12\n"
     ]
    }
   ],
   "source": [
    "#String Length\n",
    "s = \"Shivman Labs\"\n",
    "print(len(s))"
   ]
  },
  {
   "cell_type": "markdown",
   "metadata": {},
   "source": [
    "### 9.4. String Join, s.join(L):\n",
    "The String Join command joins the String(s) with the items in the List."
   ]
  },
  {
   "cell_type": "code",
   "execution_count": 7,
   "metadata": {},
   "outputs": [
    {
     "name": "stdout",
     "output_type": "stream",
     "text": [
      "IShivman Labs IIShivman Labs III\n"
     ]
    }
   ],
   "source": [
    "#String Join\n",
    "s = \"Shivman Labs \"\n",
    "s\n",
    "s1 = s.join(['I','II','III'])\n",
    "print(s1)"
   ]
  },
  {
   "cell_type": "markdown",
   "metadata": {},
   "source": [
    "### 9.5. String Replace, s.replace('c1', 'c2):\n",
    "It Replaces 'c1' with 'c2'. "
   ]
  },
  {
   "cell_type": "code",
   "execution_count": 9,
   "metadata": {},
   "outputs": [
    {
     "name": "stdout",
     "output_type": "stream",
     "text": [
      " s: Shivman labs\n",
      "s1: Shivman Labs\n"
     ]
    }
   ],
   "source": [
    "#Example_1:\n",
    "s = \"Shivman labs\"\n",
    "s1 = s.replace('l','L')\n",
    "print(' s:',s)\n",
    "#Let's Replace the letter l with Capitalized 'L'\n",
    "print('s1:',s1)"
   ]
  },
  {
   "cell_type": "markdown",
   "metadata": {},
   "source": [
    "Let's Look into Another Example. This time we are only replacing the first Character(c1) with c2."
   ]
  },
  {
   "cell_type": "code",
   "execution_count": 18,
   "metadata": {},
   "outputs": [
    {
     "name": "stdout",
     "output_type": "stream",
     "text": [
      " s: Shivman labs\n",
      "s1: ShivmAn lAbs\n",
      "s2: ShivmAn labs\n"
     ]
    }
   ],
   "source": [
    "#Example_2:\n",
    "s = \"Shivman labs\"\n",
    "s1 = s.replace('a','A')\n",
    "print(' s:',s)\n",
    "#Let's Replace the letter a with Capitalized 'A'\n",
    "print('s1:',s1) #Replace all the Instance of 'a' to 'A'\n",
    "#Inorder to Replace only a in Shivm'a'n\n",
    "s2 = s.replace('a','A',1) #Replaces Only First Instance of A\n",
    "print('s2:',s2)"
   ]
  },
  {
   "cell_type": "markdown",
   "metadata": {},
   "source": [
    "### 9.6. String Reverse:\n",
    "It Reverses all the Characters in the String."
   ]
  },
  {
   "cell_type": "code",
   "execution_count": 17,
   "metadata": {},
   "outputs": [
    {
     "data": {
      "text/plain": [
       "'sbaL namvihS'"
      ]
     },
     "execution_count": 17,
     "metadata": {},
     "output_type": "execute_result"
    }
   ],
   "source": [
    "#String Reverse\n",
    "s = \"Shivman Labs\"\n",
    "s[::-1]"
   ]
  },
  {
   "cell_type": "markdown",
   "metadata": {},
   "source": [
    "### 9.7. String Count, s.count(c):\n",
    "It Counts the total number of Character(c) in the String(s)\n"
   ]
  },
  {
   "cell_type": "code",
   "execution_count": 16,
   "metadata": {},
   "outputs": [
    {
     "data": {
      "text/plain": [
       "2"
      ]
     },
     "execution_count": 16,
     "metadata": {},
     "output_type": "execute_result"
    }
   ],
   "source": [
    "#String Count\n",
    "s = \"Shivman Labs\"\n",
    "s.count(\"a\")"
   ]
  },
  {
   "cell_type": "markdown",
   "metadata": {},
   "source": [
    "### 9.8. String Encode, s.encode():\n",
    "It Encodes the String in a Specific format."
   ]
  },
  {
   "cell_type": "code",
   "execution_count": 15,
   "metadata": {},
   "outputs": [
    {
     "data": {
      "text/plain": [
       "b'Shivman Labs'"
      ]
     },
     "execution_count": 15,
     "metadata": {},
     "output_type": "execute_result"
    }
   ],
   "source": [
    "#String Encode\n",
    "s = \"Shivman Labs\"\n",
    "s.encode('utf-8')"
   ]
  },
  {
   "cell_type": "markdown",
   "metadata": {},
   "source": [
    "### 9.9. Starts With, s.startswith(c):\n",
    "It returns true if the String(s) starts with the Character(c). Else, It returns False."
   ]
  },
  {
   "cell_type": "code",
   "execution_count": 14,
   "metadata": {},
   "outputs": [
    {
     "name": "stdout",
     "output_type": "stream",
     "text": [
      "s: Shivman Labs\n",
      "Starts with a: False\n",
      "Starts with S: True\n"
     ]
    }
   ],
   "source": [
    "#Starts with\n",
    "#Starts With - Returns True if the String Starts With a given Character\n",
    "s = \"Shivman Labs\"\n",
    "print('s:',s)\n",
    "print('Starts with a:',s.startswith('a'))\n",
    "print('Starts with S:',s.startswith('S'))"
   ]
  },
  {
   "cell_type": "markdown",
   "metadata": {},
   "source": [
    "### 9.10. Ends With, s.endswith(c):\n",
    "It returns true if the String(s) ends with the Character(c). Else, It returns False."
   ]
  },
  {
   "cell_type": "code",
   "execution_count": 13,
   "metadata": {},
   "outputs": [
    {
     "name": "stdout",
     "output_type": "stream",
     "text": [
      "s: Shivman Labs\n",
      "Starts with a: False\n",
      "Starts with s: True\n"
     ]
    }
   ],
   "source": [
    "#Ends With - Returns True if the String ends With a given Character\n",
    "s = \"Shivman Labs\"\n",
    "print('s:',s)\n",
    "print('Starts with a:',s.endswith('S'))\n",
    "print('Starts with s:',s.endswith('s'))"
   ]
  },
  {
   "cell_type": "markdown",
   "metadata": {},
   "source": [
    "### 9.11. Expand Tab, s.expandtab(l):\n",
    "It Expands the length of the Tab Space in String."
   ]
  },
  {
   "cell_type": "code",
   "execution_count": 12,
   "metadata": {},
   "outputs": [
    {
     "name": "stdout",
     "output_type": "stream",
     "text": [
      " 0 Space: Shivman Labs\n",
      " 8 Space: \tShivman Labs\n",
      "16 Space:                 Shivman Labs\n",
      "24 Space: \t\t\tShivman Labs\n"
     ]
    }
   ],
   "source": [
    "#Expands Tab\n",
    "#It returns a string with n number of spaces where /t is Assigned.\n",
    "#String\n",
    "s = \"Shivman Labs\" \n",
    "print(' 0 Space:',s)\n",
    "#/t 8 Spaces\n",
    "s1 = \"\\tShivman Labs\"\n",
    "print(' 8 Space:',s1)\n",
    "# 16 Spaces \n",
    "print('16 Space:',s1.expandtabs(16))\n",
    "# 24 Spaces\n",
    "s2 = \"\\t\\t\\tShivman Labs\"\n",
    "print('24 Space:',s2)"
   ]
  },
  {
   "cell_type": "markdown",
   "metadata": {},
   "source": [
    "### 9.12. Zero Fill, s.zerofill(l):\n",
    "It returns the String with length(l) by adding zeros on the left to make it to that length. "
   ]
  },
  {
   "cell_type": "code",
   "execution_count": 11,
   "metadata": {},
   "outputs": [
    {
     "data": {
      "text/plain": [
       "'000000000A'"
      ]
     },
     "execution_count": 11,
     "metadata": {},
     "output_type": "execute_result"
    }
   ],
   "source": [
    "#Zero Fill\n",
    "#It returns the String with n number of Zeros on the Left\n",
    "s = 'A'\n",
    "s.zfill(10)"
   ]
  },
  {
   "cell_type": "code",
   "execution_count": null,
   "metadata": {},
   "outputs": [],
   "source": []
  }
 ],
 "metadata": {
  "kernelspec": {
   "display_name": "Python 3",
   "language": "python",
   "name": "python3"
  },
  "language_info": {
   "codemirror_mode": {
    "name": "ipython",
    "version": 3
   },
   "file_extension": ".py",
   "mimetype": "text/x-python",
   "name": "python",
   "nbconvert_exporter": "python",
   "pygments_lexer": "ipython3",
   "version": "3.8.5"
  }
 },
 "nbformat": 4,
 "nbformat_minor": 4
}
