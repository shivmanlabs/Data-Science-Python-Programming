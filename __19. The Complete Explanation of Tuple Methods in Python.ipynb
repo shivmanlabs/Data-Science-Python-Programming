{
 "cells": [
  {
   "cell_type": "markdown",
   "metadata": {},
   "source": [
    "# 19. The Complete Explanation of Tuple Methods in Python"
   ]
  },
  {
   "cell_type": "markdown",
   "metadata": {},
   "source": [
    "##### Refer to Python for Data Science blog post to Learn more on Tuple, Tuple Indexing, and Tuple Slicing.\n",
    "https://www.shivmanlabs.com/post/tuples-in-python-for-data-science"
   ]
  },
  {
   "cell_type": "markdown",
   "metadata": {},
   "source": [
    "## 19.1. How to Create a Tuple?\n",
    "\n",
    "### Syntax"
   ]
  },
  {
   "cell_type": "markdown",
   "metadata": {},
   "source": [
    "#Tuple Syntax\n",
    "\n",
    "t = (I_1, I_2, ...,I_n)\n",
    "\n",
    "#t = Tuple Name\n",
    "\n",
    "#I = Item"
   ]
  },
  {
   "cell_type": "markdown",
   "metadata": {},
   "source": [
    "### 1. Let's Create a Tuple with no Items.\n",
    "\n",
    "Python Code:\n"
   ]
  },
  {
   "cell_type": "code",
   "execution_count": 44,
   "metadata": {},
   "outputs": [
    {
     "name": "stdout",
     "output_type": "stream",
     "text": [
      "Empty_tuple: ()\n",
      "The Data Type of the Empty Tuple is <class 'tuple'>\n"
     ]
    }
   ],
   "source": [
    "empty_tuple = ()\n",
    "print(\"Empty_tuple:\", empty_tuple)\n",
    "print(\"The Data Type of the Empty Tuple is\", type(empty_tuple))"
   ]
  },
  {
   "cell_type": "markdown",
   "metadata": {},
   "source": [
    "It is the way to create an Empty Tuple."
   ]
  },
  {
   "cell_type": "markdown",
   "metadata": {},
   "source": [
    "### 2) Let's Create a Tuple with only one Item."
   ]
  },
  {
   "cell_type": "code",
   "execution_count": 45,
   "metadata": {},
   "outputs": [
    {
     "name": "stdout",
     "output_type": "stream",
     "text": [
      "The Value of t1 is Shivman Labs The Data Type of t1 is <class 'str'>\n",
      "The Value of t2 is 10 The Data Type of t2 is <class 'int'>\n"
     ]
    }
   ],
   "source": [
    "t1 = (\"Shivman Labs\")\n",
    "t2 = (10)\n",
    "\n",
    "print(\"The Value of t1 is\", t1, \"The Data Type of t1 is\", type(t1))\n",
    "print(\"The Value of t2 is\", t2, \"The Data Type of t2 is\", type(t2))"
   ]
  },
  {
   "cell_type": "markdown",
   "metadata": {},
   "source": [
    "In the above Python program, We can notice that the data type of \"t1\" and \"t2\" is String and Integers. Let's see an example below to understand why python is not considering it as a Tuple. \n",
    "\n"
   ]
  },
  {
   "cell_type": "code",
   "execution_count": 46,
   "metadata": {},
   "outputs": [
    {
     "name": "stdout",
     "output_type": "stream",
     "text": [
      "17\n"
     ]
    }
   ],
   "source": [
    "a = 2 + (3 * 5)\n",
    "print(a)"
   ]
  },
  {
   "cell_type": "markdown",
   "metadata": {},
   "source": [
    "In the above Python Program. There is a mathematical Operation (2 + (3*5)). In case, If Python considers (3*5) as a Tuple. It cannot perform mathematical calculations because Tuple is an Immutable Object. Therefore, Python doesn't take a single Item Inside the Parenthesis() as a Tuple. We need to add a comma(,) at the end of the Item to make it a Tuple. \n"
   ]
  },
  {
   "cell_type": "code",
   "execution_count": 47,
   "metadata": {},
   "outputs": [
    {
     "name": "stdout",
     "output_type": "stream",
     "text": [
      "The Value of t1 is ('Shivman Labs',) The Data Type of t1 is <class 'tuple'>\n",
      "The Value of t2 is (10,) The Data Type of t2 is <class 'tuple'>\n"
     ]
    }
   ],
   "source": [
    "t1 = (\"Shivman Labs\",)\n",
    "t2 = (10,)\n",
    "\n",
    "print(\"The Value of t1 is\", t1, \"The Data Type of t1 is\", type(t1))\n",
    "print(\"The Value of t2 is\", t2, \"The Data Type of t2 is\", type(t2))"
   ]
  },
  {
   "cell_type": "markdown",
   "metadata": {},
   "source": [
    "## 19.2. Tuple Concatenation\n",
    "\n",
    "The Addition operator(+) is used to join two or more Tuples into a single Tuple."
   ]
  },
  {
   "cell_type": "markdown",
   "metadata": {},
   "source": [
    "### Syntax\n",
    "\n",
    "t = t1 + t2 + .... tn"
   ]
  },
  {
   "cell_type": "markdown",
   "metadata": {},
   "source": [
    "### Example:\n",
    " \n",
    "Let's create two tuples. \n",
    "prog_tuple: A Tuple of programming languages used in Data Science. \n",
    "stats_tuple: A Tuple of Statistical tools used in Data Science. \n",
    "Let's concatenate the Items of prog_tuple and stats_tuple to Data Science Tuple(ds_tuple)."
   ]
  },
  {
   "cell_type": "code",
   "execution_count": 48,
   "metadata": {},
   "outputs": [
    {
     "name": "stdout",
     "output_type": "stream",
     "text": [
      "prog_tuple  : ('R', 'SAS', 'Python')\n",
      "stats_tuple : ('SPSS', 'Excel', 'Python', 'R')\n",
      "ds_tuple    : ('R', 'SAS', 'Python', 'SPSS', 'Excel', 'Python', 'R')\n"
     ]
    }
   ],
   "source": [
    "#Tuples\n",
    "prog_tuple = ('R', 'SAS', 'Python')\n",
    "stats_tuple = ('SPSS', 'Excel', 'Python', 'R')\n",
    "\n",
    "#Tuple Concatenation\n",
    "ds_tuple = prog_tuple + stats_tuple\n",
    "\n",
    "print('prog_tuple  :', prog_tuple)\n",
    "print('stats_tuple :', stats_tuple)\n",
    "print('ds_tuple    :', ds_tuple)\n"
   ]
  },
  {
   "cell_type": "markdown",
   "metadata": {},
   "source": [
    "## 19.3 Tuple Repetition (*)\n",
    "\n",
    "### Syntax: \n",
    "\n",
    "t * n\n",
    "\n",
    "It repeats the Items in the Tuple for 'n' number of times.\n",
    "\n",
    "### Example:\n",
    "Let's repeat the Item in the prog_tuple three times."
   ]
  },
  {
   "cell_type": "code",
   "execution_count": 49,
   "metadata": {},
   "outputs": [
    {
     "name": "stdout",
     "output_type": "stream",
     "text": [
      "    prog_tuple : ('R', 'SAS', 'Python')\n",
      "prog_tuple * 3 : ('R', 'SAS', 'Python', 'R', 'SAS', 'Python', 'R', 'SAS', 'Python')\n"
     ]
    }
   ],
   "source": [
    "print('    prog_tuple :', prog_tuple)\n",
    "print('prog_tuple * 3 :', prog_tuple * 3)"
   ]
  },
  {
   "cell_type": "markdown",
   "metadata": {},
   "source": [
    "## 19.4. Tuple Count\n",
    "\n",
    "### Syntax: \n",
    "\n",
    "t.count(I)\n",
    "\n",
    "It repeats the Number of times an Item repeats in the Tuple.\n",
    "\n",
    "### Example:\n",
    "Let's count the Number of times Python repeats in our ds_tuple. "
   ]
  },
  {
   "cell_type": "code",
   "execution_count": 50,
   "metadata": {},
   "outputs": [
    {
     "name": "stdout",
     "output_type": "stream",
     "text": [
      "ds_tuple: ('R', 'SAS', 'Python', 'SPSS', 'Excel', 'Python', 'R')\n",
      "ds_tuple.count('Python'): 2\n"
     ]
    }
   ],
   "source": [
    "print('ds_tuple:', ds_tuple)\n",
    "print(\"ds_tuple.count('Python'):\", ds_tuple.count('Python'))"
   ]
  },
  {
   "cell_type": "code",
   "execution_count": 51,
   "metadata": {},
   "outputs": [
    {
     "data": {
      "text/plain": [
       "2"
      ]
     },
     "execution_count": 51,
     "metadata": {},
     "output_type": "execute_result"
    }
   ],
   "source": [
    "ds_tuple.index('Python')"
   ]
  },
  {
   "cell_type": "markdown",
   "metadata": {},
   "source": [
    " It returns the Index of First Instance of Python in the Tuple. To find the Index of the Next Instance of Python in the Tuple, Pass the Start parameter. \n",
    "\n",
    "### Example:\n",
    "if, start = 3. It will start to search the First Instance of the Item in Tuple From Index 3."
   ]
  },
  {
   "cell_type": "code",
   "execution_count": 52,
   "metadata": {},
   "outputs": [
    {
     "data": {
      "text/plain": [
       "5"
      ]
     },
     "execution_count": 52,
     "metadata": {},
     "output_type": "execute_result"
    }
   ],
   "source": [
    "ds_tuple.index('Python',3)"
   ]
  },
  {
   "cell_type": "markdown",
   "metadata": {},
   "source": [
    "## 19.6. Tuple Membership\n",
    "\n",
    "#Syntax: \n",
    "\n",
    "I in t\n",
    "\n",
    "#or \n",
    "\n",
    "I not in t\n",
    "\n",
    "#Example:\n",
    "#Let's find whether Python is a member of ds_tuple."
   ]
  },
  {
   "cell_type": "code",
   "execution_count": 53,
   "metadata": {
    "scrolled": true
   },
   "outputs": [
    {
     "name": "stdout",
     "output_type": "stream",
     "text": [
      "Python in ds_tuple: True\n",
      "Python not in ds_tuple: False\n"
     ]
    }
   ],
   "source": [
    "print(\"Python in ds_tuple:\",'Python' in ds_tuple)\n",
    "print(\"Python not in ds_tuple:\",'Python' not in ds_tuple)"
   ]
  },
  {
   "cell_type": "markdown",
   "metadata": {},
   "source": [
    "## 19.6. Tuple Append\n",
    "\n",
    "There is no append function in the Tuple. But we can append an Item or the Tuple of Items by using the Addition Operation.\n",
    "\n",
    "### Example:\n",
    "Let's Append \"Julia\" to our ds_tuple."
   ]
  },
  {
   "cell_type": "code",
   "execution_count": 54,
   "metadata": {},
   "outputs": [
    {
     "name": "stdout",
     "output_type": "stream",
     "text": [
      "Before Updating: ('R', 'SAS', 'Python', 'SPSS', 'Excel', 'Python', 'R')\n",
      "Afeter Updating: ('R', 'SAS', 'Python', 'SPSS', 'Excel', 'Python', 'R', 'Julia')\n"
     ]
    }
   ],
   "source": [
    "print(\"Before Updating:\",ds_tuple)\n",
    "\n",
    "ds_tuple = ds_tuple + (\"Julia\",)\n",
    "\n",
    "print(\"Afeter Updating:\",ds_tuple)"
   ]
  },
  {
   "cell_type": "markdown",
   "metadata": {},
   "source": [
    "## 19.7. Deleting an Item in the Tuple"
   ]
  },
  {
   "cell_type": "markdown",
   "metadata": {},
   "source": [
    "19.7. Deleting an Item in the Tuple\n",
    "We cannot delete an Item in the Tuple directly like the List. But, we can achieve that by slicing the Tuple.\n",
    "\n",
    "### Example:\n",
    "\n",
    "\"Python\" is repeated twice in the ds_tuple. Let's Remove the first Instance of \"Python\" from the ds_tuple.\n",
    "\n",
    "Python Code:\n"
   ]
  },
  {
   "cell_type": "code",
   "execution_count": 55,
   "metadata": {},
   "outputs": [
    {
     "name": "stdout",
     "output_type": "stream",
     "text": [
      "Before deleting: ('R', 'SAS', 'Python', 'SPSS', 'Excel', 'Python', 'R', 'Julia')\n",
      "After deleting: ('R', 'SAS', 'SPSS', 'Excel', 'Python', 'R', 'Julia')\n"
     ]
    }
   ],
   "source": [
    "print(\"Before deleting:\",ds_tuple)\n",
    "\n",
    "#The Index of Python is 2. Let's slice it by (:2) and (3:)\n",
    "\n",
    "ds_tuple = ds_tuple[:2] + ds_tuple[3:]\n",
    "\n",
    "print(\"After deleting:\",ds_tuple)"
   ]
  },
  {
   "cell_type": "markdown",
   "metadata": {},
   "source": [
    "## 19.8. Deleting the Tuple.\n",
    "\n",
    "### Syntax:\n",
    "del t\n",
    "\n",
    "#t=tuple name\n",
    "\n",
    "### Example:\n",
    "Let's delete the ds_tuple.\n",
    "\n",
    "### Python Code:\n"
   ]
  },
  {
   "cell_type": "code",
   "execution_count": 56,
   "metadata": {},
   "outputs": [
    {
     "ename": "NameError",
     "evalue": "name 'ds_tuple' is not defined",
     "output_type": "error",
     "traceback": [
      "\u001b[1;31m---------------------------------------------------------------------------\u001b[0m",
      "\u001b[1;31mNameError\u001b[0m                                 Traceback (most recent call last)",
      "\u001b[1;32m<ipython-input-56-be46358515bd>\u001b[0m in \u001b[0;36m<module>\u001b[1;34m\u001b[0m\n\u001b[0;32m      1\u001b[0m \u001b[1;32mdel\u001b[0m \u001b[0mds_tuple\u001b[0m\u001b[1;33m\u001b[0m\u001b[1;33m\u001b[0m\u001b[0m\n\u001b[1;32m----> 2\u001b[1;33m \u001b[0mprint\u001b[0m\u001b[1;33m(\u001b[0m\u001b[0mds_tuple\u001b[0m\u001b[1;33m)\u001b[0m\u001b[1;33m\u001b[0m\u001b[1;33m\u001b[0m\u001b[0m\n\u001b[0m",
      "\u001b[1;31mNameError\u001b[0m: name 'ds_tuple' is not defined"
     ]
    }
   ],
   "source": [
    "del ds_tuple\n",
    "print(ds_tuple)"
   ]
  },
  {
   "cell_type": "markdown",
   "metadata": {},
   "source": [
    "## 19.9. Mathematical Functions in Tuple."
   ]
  },
  {
   "cell_type": "code",
   "execution_count": 57,
   "metadata": {},
   "outputs": [
    {
     "name": "stdout",
     "output_type": "stream",
     "text": [
      "Length : 7\n",
      "Minimum: 1\n",
      "Maximum: 6\n"
     ]
    }
   ],
   "source": [
    "#Tuple\n",
    "t = (1,3,4,6,2,5,3)\n",
    "print(\"Length :\", len(t))\n",
    "print(\"Minimum:\", min(t))\n",
    "print(\"Maximum:\", max(t))"
   ]
  }
 ],
 "metadata": {
  "kernelspec": {
   "display_name": "Python 3",
   "language": "python",
   "name": "python3"
  },
  "language_info": {
   "codemirror_mode": {
    "name": "ipython",
    "version": 3
   },
   "file_extension": ".py",
   "mimetype": "text/x-python",
   "name": "python",
   "nbconvert_exporter": "python",
   "pygments_lexer": "ipython3",
   "version": "3.8.5"
  }
 },
 "nbformat": 4,
 "nbformat_minor": 4
}
