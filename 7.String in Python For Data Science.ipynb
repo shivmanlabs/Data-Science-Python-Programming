{
 "cells": [
  {
   "cell_type": "markdown",
   "metadata": {},
   "source": [
    "# 7.String"
   ]
  },
  {
   "cell_type": "markdown",
   "metadata": {},
   "source": [
    "## 7.1 Introduction\n",
    "In python, the String variable can hold alphabetical letters, words, paragraph, or a document. The character should be enclosed within a single quote or double quote.\n"
   ]
  },
  {
   "cell_type": "code",
   "execution_count": 1,
   "metadata": {},
   "outputs": [
    {
     "name": "stdout",
     "output_type": "stream",
     "text": [
      "shivman labs\n",
      "shivman labs\n"
     ]
    }
   ],
   "source": [
    "#Example\n",
    "s = 'shivman labs'\n",
    "S = \"Shivman Labs\"\n",
    "print(s)\n",
    "print(S) #Python is case sensitive. s and S are different"
   ]
  },
  {
   "cell_type": "markdown",
   "metadata": {},
   "source": [
    "## 7.2. Creating a String using Single Quote"
   ]
  },
  {
   "cell_type": "code",
   "execution_count": 3,
   "metadata": {},
   "outputs": [
    {
     "name": "stdout",
     "output_type": "stream",
     "text": [
      "shivman labs\n"
     ]
    }
   ],
   "source": [
    "#Creating String using Single Quote\n",
    "s = 'shivman labs'\n",
    "print(s)"
   ]
  },
  {
   "cell_type": "markdown",
   "metadata": {},
   "source": [
    "## 7.3. Creating a String using Double Quote"
   ]
  },
  {
   "cell_type": "code",
   "execution_count": 5,
   "metadata": {},
   "outputs": [
    {
     "name": "stdout",
     "output_type": "stream",
     "text": [
      "Shivman Labs\n"
     ]
    }
   ],
   "source": [
    "#Creating String using Double Quote\n",
    "s = \"Shivman Labs\"\n",
    "print(s)"
   ]
  },
  {
   "cell_type": "markdown",
   "metadata": {},
   "source": [
    "# 7.4. Creating a String using a single Escape Quote"
   ]
  },
  {
   "cell_type": "code",
   "execution_count": 6,
   "metadata": {},
   "outputs": [],
   "source": [
    "#Create String using a single escape quote\n",
    "#Let's create a string, s = 'Shivman Lab's'"
   ]
  },
  {
   "cell_type": "code",
   "execution_count": 7,
   "metadata": {},
   "outputs": [
    {
     "ename": "SyntaxError",
     "evalue": "invalid syntax (<ipython-input-7-c1cb65b0554e>, line 1)",
     "output_type": "error",
     "traceback": [
      "\u001b[1;36m  File \u001b[1;32m\"<ipython-input-7-c1cb65b0554e>\"\u001b[1;36m, line \u001b[1;32m1\u001b[0m\n\u001b[1;33m    s = 'shivman lab's'\u001b[0m\n\u001b[1;37m                     ^\u001b[0m\n\u001b[1;31mSyntaxError\u001b[0m\u001b[1;31m:\u001b[0m invalid syntax\n"
     ]
    }
   ],
   "source": [
    "s = 'shivman lab's'"
   ]
  },
  {
   "cell_type": "markdown",
   "metadata": {},
   "source": [
    "# There was an error Because we cannot have a single quote inside a single quote.\n",
    "There are two methods to create this text. "
   ]
  },
  {
   "cell_type": "code",
   "execution_count": 9,
   "metadata": {},
   "outputs": [
    {
     "name": "stdout",
     "output_type": "stream",
     "text": [
      "Shivman lab's\n"
     ]
    }
   ],
   "source": [
    "#Method-1: String with single quote inside double quote\n",
    "s = \"Shivman lab's\"\n",
    "print(s)"
   ]
  },
  {
   "cell_type": "markdown",
   "metadata": {},
   "source": [
    "The Character or Symbol that follows a backslash(\\) is known as an escape character. It tells Python to include to consider it as a Character. In the above program. Quote followed after the backslash (\\') is Considered as a Character. Similarly, we can add a double quote inside a double quote and a double quote inside a single quote."
   ]
  },
  {
   "cell_type": "code",
   "execution_count": 12,
   "metadata": {},
   "outputs": [
    {
     "name": "stdout",
     "output_type": "stream",
     "text": [
      "shivman lab's\n"
     ]
    }
   ],
   "source": [
    "#Method-2: String using a single escape quote\n",
    "s = 'shivman lab\\'s'\n",
    "print(s)"
   ]
  },
  {
   "cell_type": "code",
   "execution_count": 11,
   "metadata": {},
   "outputs": [
    {
     "name": "stdout",
     "output_type": "stream",
     "text": [
      "s1: shivman lab\"s\n",
      "s2: Shivman lab\"s\n"
     ]
    }
   ],
   "source": [
    "#Double Quote inside Single Quote\n",
    "s1 = 'shivman lab\\\"s'\n",
    "print(\"s1:\", s1)\n",
    "\n",
    "#Double Quote inside Double Quote\n",
    "s2 = \"Shivman lab\\\"s\"\n",
    "print(\"s2:\", s2)"
   ]
  },
  {
   "cell_type": "markdown",
   "metadata": {},
   "source": [
    "#There are also some Special characters like \\n, \\t. "
   ]
  },
  {
   "cell_type": "code",
   "execution_count": 5,
   "metadata": {},
   "outputs": [
    {
     "name": "stdout",
     "output_type": "stream",
     "text": [
      "First line\n",
      "Second line\n"
     ]
    }
   ],
   "source": [
    "#\\n - New Line\n",
    "s = 'First line\\nSecond line'\n",
    "print(s)"
   ]
  },
  {
   "cell_type": "code",
   "execution_count": 6,
   "metadata": {},
   "outputs": [
    {
     "name": "stdout",
     "output_type": "stream",
     "text": [
      "First line\tSecond line\n"
     ]
    }
   ],
   "source": [
    "#\\t - Tab Space\n",
    "t = 'First line\\tSecond line'\n",
    "print(t)"
   ]
  },
  {
   "cell_type": "markdown",
   "metadata": {},
   "source": [
    "## 7.5. String with more than one line\n",
    "Triple single quotes or Triple double-quotes help to Create Multi-line String."
   ]
  },
  {
   "cell_type": "code",
   "execution_count": 12,
   "metadata": {},
   "outputs": [
    {
     "name": "stdout",
     "output_type": "stream",
     "text": [
      "First Line\n",
      "Second Line\n",
      "Third Line\n"
     ]
    }
   ],
   "source": [
    "#Multi-Line String using single Triple Quotes\n",
    "s = '''First Line\n",
    "Second Line\n",
    "Third Line'''\n",
    "print(s)"
   ]
  },
  {
   "cell_type": "code",
   "execution_count": 13,
   "metadata": {},
   "outputs": [
    {
     "name": "stdout",
     "output_type": "stream",
     "text": [
      "First Line\n",
      "Second Line\n",
      "Third Line\n"
     ]
    }
   ],
   "source": [
    "#Multi-Line String using single Triple Quotes\n",
    "s = \"\"\"First Line\n",
    "Second Line\n",
    "Third Line\"\"\"\n",
    "print(s)"
   ]
  },
  {
   "cell_type": "markdown",
   "metadata": {},
   "source": [
    "## NOTE: Two Texts with black space between them is considered as a single text.\n"
   ]
  },
  {
   "cell_type": "code",
   "execution_count": 14,
   "metadata": {},
   "outputs": [
    {
     "name": "stdout",
     "output_type": "stream",
     "text": [
      "ShivmanLabs\n"
     ]
    }
   ],
   "source": [
    "s = \"Shivman\" \"Labs\"\n",
    "print(s)"
   ]
  },
  {
   "cell_type": "code",
   "execution_count": null,
   "metadata": {},
   "outputs": [],
   "source": []
  }
 ],
 "metadata": {
  "kernelspec": {
   "display_name": "Python 3",
   "language": "python",
   "name": "python3"
  },
  "language_info": {
   "codemirror_mode": {
    "name": "ipython",
    "version": 3
   },
   "file_extension": ".py",
   "mimetype": "text/x-python",
   "name": "python",
   "nbconvert_exporter": "python",
   "pygments_lexer": "ipython3",
   "version": "3.8.5"
  }
 },
 "nbformat": 4,
 "nbformat_minor": 4
}
