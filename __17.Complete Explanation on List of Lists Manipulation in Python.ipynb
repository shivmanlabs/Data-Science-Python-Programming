{
 "cells": [
  {
   "cell_type": "markdown",
   "metadata": {},
   "source": [
    "# 17.Complete Explanation on List of Lists Manipulation in Python\n",
    "In this Complete Explanation on List of List Manipulation in Python blog post, We will learn the following concepts.\n"
   ]
  },
  {
   "cell_type": "markdown",
   "metadata": {},
   "source": [
    "## 17.1. How to Create a List of List in Python?\n",
    "Firstly, Let's Create a List of Tools Used in Data Science. Data Science is the Combination of Programming Languages, Statistics, Visualization techniques, etc. There are various tools used in each Category in Data Science. Therefore, Let's create a separate List of tools used in Each Category."
   ]
  },
  {
   "cell_type": "markdown",
   "metadata": {},
   "source": [
    "### Programming Languages List\n",
    "Let prog_list be the List of programming languages used in Data Science."
   ]
  },
  {
   "cell_type": "code",
   "execution_count": 1,
   "metadata": {},
   "outputs": [
    {
     "name": "stdout",
     "output_type": "stream",
     "text": [
      "['Python', 'SAS', 'R']\n"
     ]
    }
   ],
   "source": [
    "#Let prog_list be the List of Programming Languages Used for Data Science\n",
    "prog_list = ['Python','SAS','R']\n",
    "print(prog_list)"
   ]
  },
  {
   "cell_type": "markdown",
   "metadata": {},
   "source": [
    "### Statistics List\n",
    "Let stats_list be the List of statistical tools in Data Science."
   ]
  },
  {
   "cell_type": "code",
   "execution_count": 2,
   "metadata": {},
   "outputs": [
    {
     "name": "stdout",
     "output_type": "stream",
     "text": [
      "['SPSS', 'Excel', 'Python', 'R']\n"
     ]
    }
   ],
   "source": [
    "#Let Stats_list be the Statistical Tool used for Data Science\n",
    "stats_list = ['SPSS','Excel','Python','R']\n",
    "print(stats_list)"
   ]
  },
  {
   "cell_type": "markdown",
   "metadata": {},
   "source": [
    "### Visualization List\n",
    "Let viz_list be the List of Visualization tools in Data Science.\n"
   ]
  },
  {
   "cell_type": "code",
   "execution_count": 3,
   "metadata": {},
   "outputs": [
    {
     "data": {
      "text/plain": [
       "['Tableau', 'PowerBI', 'Python']"
      ]
     },
     "execution_count": 3,
     "metadata": {},
     "output_type": "execute_result"
    }
   ],
   "source": [
    "#Let Viz_list be the Visualization tools used for Data Science\n",
    "viz_list = ['Tableau','PowerBI','Python']\n",
    "viz_list"
   ]
  },
  {
   "cell_type": "markdown",
   "metadata": {},
   "source": [
    "### Data Science Tools List\n",
    "Let ds_tools be the List of all three Programming Languages List, Statistics List, and Visualization List. "
   ]
  },
  {
   "cell_type": "code",
   "execution_count": 4,
   "metadata": {},
   "outputs": [
    {
     "data": {
      "text/plain": [
       "[['Python', 'SAS', 'R'],\n",
       " ['SPSS', 'Excel', 'Python', 'R'],\n",
       " ['Tableau', 'PowerBI', 'Python']]"
      ]
     },
     "execution_count": 4,
     "metadata": {},
     "output_type": "execute_result"
    }
   ],
   "source": [
    "#DS Tools:\n",
    "ds_tools = [prog_list,stats_list,viz_list]\n",
    "ds_tools"
   ]
  },
  {
   "cell_type": "markdown",
   "metadata": {},
   "source": [
    "It is the way to Create a List of Lists. \n"
   ]
  },
  {
   "cell_type": "markdown",
   "metadata": {},
   "source": [
    "## 17.2. List of List Indexing\n",
    "It is the same as List Indexing. Since It contains a List itself as an Item,  It requires Multi-Level Indexing."
   ]
  },
  {
   "cell_type": "markdown",
   "metadata": {},
   "source": [
    "### Level-I Indexing: \n",
    "Level-I Indexing: \n",
    "In the Level-I Indexing, \n",
    "The Index position of the Programming Languages List is [0].\n",
    "The Index position of the Statistics List is [1]. \n",
    "The Index position of the Visualisation List is [2]."
   ]
  },
  {
   "cell_type": "code",
   "execution_count": 5,
   "metadata": {},
   "outputs": [
    {
     "name": "stdout",
     "output_type": "stream",
     "text": [
      " prog_list: ['Python', 'SAS', 'R']\n",
      "stats_list: ['SPSS', 'Excel', 'Python', 'R']\n",
      "  viz_list: ['SPSS', 'Excel', 'Python', 'R']\n"
     ]
    }
   ],
   "source": [
    "print(\" prog_list:\",ds_tools[0])\n",
    "print(\"stats_list:\",ds_tools[1])\n",
    "print(\"  viz_list:\",ds_tools[1])"
   ]
  },
  {
   "cell_type": "markdown",
   "metadata": {},
   "source": [
    "### Level-II Indexing:\n",
    "Level-II Indexing:\n",
    "In the Level-II Indexing,\n",
    "The Index position of the First Item of the Programming List is [0][0].\n",
    "The Index position of the Second Item of the Statistics List is [1][1].\n",
    "The Index position of the Third Item of the Statistics List is [2][2]."
   ]
  },
  {
   "cell_type": "code",
   "execution_count": 6,
   "metadata": {},
   "outputs": [
    {
     "name": "stdout",
     "output_type": "stream",
     "text": [
      "[['Python', 'SAS', 'R'], ['SPSS', 'Excel', 'Python', 'R'], ['Tableau', 'PowerBI', 'Python']]\n"
     ]
    }
   ],
   "source": [
    "print(ds_tools)"
   ]
  },
  {
   "cell_type": "code",
   "execution_count": 7,
   "metadata": {},
   "outputs": [
    {
     "name": "stdout",
     "output_type": "stream",
     "text": [
      "First Item in the First List   : Python\n",
      "Second Item in the First List  : SAS\n",
      "Third Item in the First List   : R\n",
      "First Item in the Second List  : SPSS\n",
      "Second Item in the Second List : Excel\n",
      "Third Item in the Second List  : Python\n",
      "Fourth Item in the Second List : R\n",
      "First Item in the Third List   : Tableau\n",
      "Second Item in the Third List  : PowerBI\n",
      "Third Item in the Third List   : Python\n"
     ]
    }
   ],
   "source": [
    "#Level-II Indexing\n",
    "print(\"First Item in the First List   :\",ds_tools[0][0])\n",
    "print(\"Second Item in the First List  :\",ds_tools[0][1])\n",
    "print(\"Third Item in the First List   :\",ds_tools[0][2])\n",
    "print(\"First Item in the Second List  :\",ds_tools[1][0])\n",
    "print(\"Second Item in the Second List :\",ds_tools[1][1])\n",
    "print(\"Third Item in the Second List  :\",ds_tools[1][2])\n",
    "print(\"Fourth Item in the Second List :\",ds_tools[1][3])\n",
    "print(\"First Item in the Third List   :\",ds_tools[2][0])\n",
    "print(\"Second Item in the Third List  :\",ds_tools[2][1])\n",
    "print(\"Third Item in the Third List   :\",ds_tools[2][2])"
   ]
  },
  {
   "cell_type": "markdown",
   "metadata": {},
   "source": [
    "## 17.3. List of List Slicing\n",
    "List of List Slicing:\n",
    "It is also the same as the List Slicing. Similar to List of List Indexing, It involves Multi-Level Slicing."
   ]
  },
  {
   "cell_type": "markdown",
   "metadata": {},
   "source": [
    "### Level-I Slicing\n",
    "#### Let's slice prog_list and stats_list from ds_tools. The Index position go prog_list is 0, and the Index position of stats_list is 1."
   ]
  },
  {
   "cell_type": "code",
   "execution_count": 8,
   "metadata": {},
   "outputs": [
    {
     "data": {
      "text/plain": [
       "[['Python', 'SAS', 'R'], ['SPSS', 'Excel', 'Python', 'R']]"
      ]
     },
     "execution_count": 8,
     "metadata": {},
     "output_type": "execute_result"
    }
   ],
   "source": [
    "ds_tools[0:2]"
   ]
  },
  {
   "cell_type": "markdown",
   "metadata": {},
   "source": [
    "#### Let's slice stats_list and viz_list from ds_tools. The Index position go stats_list is 1, and the Index position of viz_list is 2."
   ]
  },
  {
   "cell_type": "code",
   "execution_count": 9,
   "metadata": {},
   "outputs": [
    {
     "data": {
      "text/plain": [
       "[['SPSS', 'Excel', 'Python', 'R'], ['Tableau', 'PowerBI', 'Python']]"
      ]
     },
     "execution_count": 9,
     "metadata": {},
     "output_type": "execute_result"
    }
   ],
   "source": [
    "ds_tools[1:3]"
   ]
  },
  {
   "cell_type": "markdown",
   "metadata": {},
   "source": [
    "#### Let's slice prog_list and viz_list from ds_tools. The Index position go prog_list is 0, and the Index position of viz_list is 2."
   ]
  },
  {
   "cell_type": "code",
   "execution_count": 10,
   "metadata": {},
   "outputs": [
    {
     "data": {
      "text/plain": [
       "[['Python', 'SAS', 'R'], ['Tableau', 'PowerBI', 'Python']]"
      ]
     },
     "execution_count": 10,
     "metadata": {},
     "output_type": "execute_result"
    }
   ],
   "source": [
    "[ds_tools[0], ds_tools[2]]"
   ]
  },
  {
   "cell_type": "markdown",
   "metadata": {},
   "source": [
    "### Level-II Slicing: "
   ]
  },
  {
   "cell_type": "markdown",
   "metadata": {},
   "source": [
    "#### Let's slice the first two Items from the prog_list."
   ]
  },
  {
   "cell_type": "code",
   "execution_count": 11,
   "metadata": {},
   "outputs": [
    {
     "data": {
      "text/plain": [
       "['Python', 'SAS']"
      ]
     },
     "execution_count": 11,
     "metadata": {},
     "output_type": "execute_result"
    }
   ],
   "source": [
    "ds_tools[0][0:2]"
   ]
  },
  {
   "cell_type": "markdown",
   "metadata": {},
   "source": [
    "#### Let's slice the middle two Items from the stats_list."
   ]
  },
  {
   "cell_type": "code",
   "execution_count": 12,
   "metadata": {},
   "outputs": [
    {
     "data": {
      "text/plain": [
       "['Excel', 'Python']"
      ]
     },
     "execution_count": 12,
     "metadata": {},
     "output_type": "execute_result"
    }
   ],
   "source": [
    "ds_tools[1][1:3]"
   ]
  },
  {
   "cell_type": "markdown",
   "metadata": {},
   "source": [
    "#### Let's slice the last two Items from the viz_list."
   ]
  },
  {
   "cell_type": "code",
   "execution_count": 13,
   "metadata": {},
   "outputs": [
    {
     "data": {
      "text/plain": [
       "['PowerBI', 'Python']"
      ]
     },
     "execution_count": 13,
     "metadata": {},
     "output_type": "execute_result"
    }
   ],
   "source": [
    "ds_tools[2][1:3]"
   ]
  },
  {
   "cell_type": "markdown",
   "metadata": {},
   "source": [
    "#### Let's slice the First two Items from the prog_list, Two Middle Items from the stats_list, and the Last two Items from the viz_list."
   ]
  },
  {
   "cell_type": "code",
   "execution_count": 14,
   "metadata": {},
   "outputs": [
    {
     "data": {
      "text/plain": [
       "[['Python', 'SAS'], ['Excel', 'Python'], ['PowerBI', 'Python']]"
      ]
     },
     "execution_count": 14,
     "metadata": {},
     "output_type": "execute_result"
    }
   ],
   "source": [
    "[ds_tools[0][0:2],ds_tools[1][1:3],ds_tools[2][1:3]]"
   ]
  },
  {
   "cell_type": "markdown",
   "metadata": {},
   "source": [
    "## 17.4 Adding an Item to the List\n",
    "\n",
    "### Level-I:\n",
    "Big Data has become is the most important aspect of Data Science. Let's make a list of some of the tools in Big data for Data Science."
   ]
  },
  {
   "cell_type": "code",
   "execution_count": 15,
   "metadata": {},
   "outputs": [
    {
     "name": "stdout",
     "output_type": "stream",
     "text": [
      "['Hadoop', 'Hive', 'HPCC']\n"
     ]
    }
   ],
   "source": [
    "#Let bd_list be the list of tools in Big data for Data Science\n",
    "bd_list = ['Hadoop', 'Hive', 'HPCC']\n",
    "print(bd_list)"
   ]
  },
  {
   "cell_type": "code",
   "execution_count": 16,
   "metadata": {},
   "outputs": [
    {
     "name": "stdout",
     "output_type": "stream",
     "text": [
      "[['Python', 'SAS', 'R'], ['SPSS', 'Excel', 'Python', 'R'], ['Tableau', 'PowerBI', 'Python'], ['Hadoop', 'Hive', 'HPCC']]\n"
     ]
    }
   ],
   "source": [
    "#Let's append bd_list to ds_tools.\n",
    "ds_tools.append(bd_list)\n",
    "print(ds_tools)"
   ]
  },
  {
   "cell_type": "markdown",
   "metadata": {},
   "source": [
    "Similarly, we can also use the insert, extend function to add an item to the List."
   ]
  },
  {
   "cell_type": "markdown",
   "metadata": {},
   "source": [
    "### Level-II:\n",
    "\n",
    "Let's add Julia to the programming Languages List."
   ]
  },
  {
   "cell_type": "code",
   "execution_count": 17,
   "metadata": {},
   "outputs": [
    {
     "name": "stdout",
     "output_type": "stream",
     "text": [
      "[['Python', 'SAS', 'Julia', 'R'], ['SPSS', 'Excel', 'Python', 'R'], ['Tableau', 'PowerBI', 'Python'], ['Hadoop', 'Hive', 'HPCC']]\n"
     ]
    }
   ],
   "source": [
    "#Inserting Julia in the 2 index position of the programming Languge List.\n",
    "ds_tools[0].insert(2,\"Julia\")\n",
    "print(ds_tools)"
   ]
  },
  {
   "cell_type": "markdown",
   "metadata": {},
   "source": [
    "Similarly, we can use the append, extend function to add an item to the List."
   ]
  },
  {
   "cell_type": "code",
   "execution_count": 90,
   "metadata": {},
   "outputs": [
    {
     "data": {
      "text/plain": [
       "[['Python', 'SAS', 'Julia', 'Julia', 'Julia', 'R'],\n",
       " ['SPSS', 'Excel', 'Python', 'R'],\n",
       " ['Tableau', 'PowerBI', 'Python'],\n",
       " ['Hadoop', 'Hive', 'HPCC']]"
      ]
     },
     "execution_count": 90,
     "metadata": {},
     "output_type": "execute_result"
    }
   ],
   "source": [
    "ds_tools"
   ]
  },
  {
   "cell_type": "markdown",
   "metadata": {},
   "source": [
    "## 17.5. Modifying an Item in the List\n",
    "Let's change 'python' in viz_list to 'Matlab.'"
   ]
  },
  {
   "cell_type": "code",
   "execution_count": 93,
   "metadata": {},
   "outputs": [
    {
     "name": "stdout",
     "output_type": "stream",
     "text": [
      "Before Modifying ['Tableau', 'PowerBI', 'Python']\n",
      "After Modifying ['Tableau', 'PowerBI', 'Matlab']\n"
     ]
    }
   ],
   "source": [
    "#Before modifying\n",
    "print('Before Modifying',ds_tools[2])\n",
    "ds_tools[2][2] = \"Matlab\"\n",
    "print('After Modifying',ds_tools[2])"
   ]
  },
  {
   "cell_type": "markdown",
   "metadata": {},
   "source": [
    "## 17.6. Deleting an Item in the List.\n",
    "\n",
    "### Level-I\n",
    "Let's Delete bd_list from ds_tools"
   ]
  },
  {
   "cell_type": "code",
   "execution_count": 18,
   "metadata": {},
   "outputs": [
    {
     "name": "stdout",
     "output_type": "stream",
     "text": [
      "Before Deleting: [['Python', 'SAS', 'Julia', 'R'], ['SPSS', 'Excel', 'Python', 'R'], ['Tableau', 'PowerBI', 'Python'], ['Hadoop', 'Hive', 'HPCC']]\n",
      "After Deleting: [['Python', 'SAS', 'Julia', 'R'], ['SPSS', 'Excel', 'Python', 'R'], ['Tableau', 'PowerBI', 'Python']]\n"
     ]
    }
   ],
   "source": [
    "print('Before Deleting:', ds_tools)\n",
    "del ds_tools[3]\n",
    "print('After Deleting:', ds_tools)"
   ]
  },
  {
   "cell_type": "markdown",
   "metadata": {},
   "source": [
    "### Level-II\n",
    "Let's Delete 'Matlab' in the viz_list.\n"
   ]
  },
  {
   "cell_type": "code",
   "execution_count": 99,
   "metadata": {},
   "outputs": [
    {
     "name": "stdout",
     "output_type": "stream",
     "text": [
      "Before Modifying ['Tableau', 'PowerBI', 'Matlab']\n",
      "After Modifying ['Tableau', 'PowerBI']\n"
     ]
    }
   ],
   "source": [
    "#Before modifying\n",
    "print('Before Modifying',ds_tools[2])\n",
    "del ds_tools[2][2]\n",
    "print('After Modifying',ds_tools[2])"
   ]
  },
  {
   "cell_type": "code",
   "execution_count": null,
   "metadata": {},
   "outputs": [],
   "source": []
  }
 ],
 "metadata": {
  "kernelspec": {
   "display_name": "Python 3",
   "language": "python",
   "name": "python3"
  },
  "language_info": {
   "codemirror_mode": {
    "name": "ipython",
    "version": 3
   },
   "file_extension": ".py",
   "mimetype": "text/x-python",
   "name": "python",
   "nbconvert_exporter": "python",
   "pygments_lexer": "ipython3",
   "version": "3.8.5"
  }
 },
 "nbformat": 4,
 "nbformat_minor": 4
}
