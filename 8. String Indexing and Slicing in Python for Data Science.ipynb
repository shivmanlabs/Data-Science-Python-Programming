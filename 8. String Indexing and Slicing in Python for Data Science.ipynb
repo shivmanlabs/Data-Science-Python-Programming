{
 "cells": [
  {
   "cell_type": "markdown",
   "metadata": {},
   "source": [
    "# 8. String Indexing and Slicing in Python for Data Science"
   ]
  },
  {
   "cell_type": "markdown",
   "metadata": {},
   "source": [
    "## 8.1. String Indexing\n",
    "Python Indexes String in two ways.\n",
    "Forward Indexing\n",
    "Backward Indexing"
   ]
  },
  {
   "cell_type": "markdown",
   "metadata": {},
   "source": [
    "## Forward Indexing\n",
    "In Forward Indexing, Strings are indexed based on the Zero-Index Method. i.e., The Index of the First Character in the String is 0.\n"
   ]
  },
  {
   "cell_type": "markdown",
   "metadata": {},
   "source": [
    "### Example:  \n",
    "The Forward Indexing of the String, SHIVMAN LABS, is shown in the following image."
   ]
  },
  {
   "cell_type": "code",
   "execution_count": 11,
   "metadata": {},
   "outputs": [
    {
     "name": "stdout",
     "output_type": "stream",
     "text": [
      "Entire String: SHIVMAN LABS\n",
      "First Character: S\n",
      "Second Character: H\n",
      "Sixth Character: N\n",
      "Last Character: S\n"
     ]
    }
   ],
   "source": [
    "s = \"SHIVMAN LABS\"\n",
    "print(\"Entire String:\",s)\n",
    "print(\"First Character:\",s[0])\n",
    "print(\"Second Character:\",s[1])\n",
    "print(\"Sixth Character:\",s[6])\n",
    "print(\"Last Character:\",s[11])"
   ]
  },
  {
   "cell_type": "markdown",
   "metadata": {},
   "source": [
    "## 8.1.2. Backward Indexing:\n",
    "In Backward Indexing, The Characters are indexed backward from -1. i.e., The Last Character is indexed as -1."
   ]
  },
  {
   "cell_type": "code",
   "execution_count": 13,
   "metadata": {},
   "outputs": [
    {
     "name": "stdout",
     "output_type": "stream",
     "text": [
      "Entire String: SHIVMAN LABS\n",
      "Last Character: S\n",
      "Second Last Character: B\n",
      "Second Character: H\n",
      "First Character: S\n"
     ]
    }
   ],
   "source": [
    "s = \"SHIVMAN LABS\"\n",
    "print(\"Entire String:\",s)\n",
    "print(\"Last Character:\",s[-1])\n",
    "print(\"Second Last Character:\",s[-2])\n",
    "print(\"Second Character:\",s[-11])\n",
    "print(\"First Character:\",s[-12])"
   ]
  },
  {
   "cell_type": "markdown",
   "metadata": {},
   "source": [
    "## 8.2. String Slicing\n",
    "In Python, the String can be sliced in two ways. \n",
    "Forward Slicing\n",
    "Backward Slicing\n"
   ]
  },
  {
   "cell_type": "markdown",
   "metadata": {},
   "source": [
    "### 8.2.1.Forward Slicing\n",
    "Syntax\n",
    "\tString[i:j+1]\n",
    "i = Index of First Letter of the word to slice\n",
    "j = Index of Last Letter of the word to slice\n",
    "j + 1 = Add one to Index of the last Letter to Slice"
   ]
  },
  {
   "cell_type": "code",
   "execution_count": 16,
   "metadata": {},
   "outputs": [
    {
     "name": "stdout",
     "output_type": "stream",
     "text": [
      "Shivman\n"
     ]
    }
   ],
   "source": [
    "#Forward Slicing\n",
    "s = \"Shivman Labs\"\n",
    "#i = 0 iIndex of 'S' i.e., First Letter of SHIVMAN\n",
    "#j = 6 Index of 'N' i.e., Last Letter of SHIVMAN\n",
    "#j + 1 = 7\n",
    "print(s[0:7])"
   ]
  },
  {
   "cell_type": "markdown",
   "metadata": {},
   "source": [
    "### 8.2.3.Backward Slicing\n",
    "Syntax: String[i:j+1]"
   ]
  },
  {
   "cell_type": "code",
   "execution_count": 27,
   "metadata": {},
   "outputs": [
    {
     "name": "stdout",
     "output_type": "stream",
     "text": [
      "SHIVMAN\n"
     ]
    }
   ],
   "source": [
    "#Backward Slicing\n",
    "s = \"SHIVMAN LABS\"\n",
    "#i = -12 i.e., Backward Index of 'S' i.e., First Letter of SHIVMAN\n",
    "#j = -6 i.e., Backward Index of 'N' i.e., Last Letter of SHIVMAN\n",
    "#j + 1 = -6 + 1 = -5\n",
    "print(s[-12:-5])\n"
   ]
  },
  {
   "cell_type": "markdown",
   "metadata": {},
   "source": [
    "# 8.3. Other Slicing Methods\n",
    "\n",
    "8.3.1. Slicing the First word From the String"
   ]
  },
  {
   "cell_type": "code",
   "execution_count": 1,
   "metadata": {},
   "outputs": [
    {
     "name": "stdout",
     "output_type": "stream",
     "text": [
      "SHIVMAN\n"
     ]
    }
   ],
   "source": [
    "#Backward Slicing\n",
    "s = \"SHIVMAN LABS\"\n",
    "#i = -12 i.e., Backward Index of 'S' i.e., First Letter of SHIVMAN\n",
    "#j = -6 i.e., Backward Index of 'N' i.e., Last Letter of SHIVMAN\n",
    "#j + 1 = -6 + 1 = -5\n",
    "print(s[0:-5])"
   ]
  },
  {
   "cell_type": "code",
   "execution_count": 35,
   "metadata": {},
   "outputs": [
    {
     "name": "stdout",
     "output_type": "stream",
     "text": [
      "Labs\n"
     ]
    }
   ],
   "source": [
    "s = \"Shivman Labs\"\n",
    "#i = 8 i.e., Forward Index of 'L' i.e Last Word \n",
    "print(s[8:])"
   ]
  },
  {
   "cell_type": "code",
   "execution_count": 37,
   "metadata": {},
   "outputs": [
    {
     "name": "stdout",
     "output_type": "stream",
     "text": [
      "Shivman\n"
     ]
    }
   ],
   "source": [
    "s = \"Shivman Labs\"\n",
    "#i = 8 i.e., Forward Index of 'L' i.e.,First Letter of Last Word \n",
    "print(s[:7])"
   ]
  },
  {
   "cell_type": "code",
   "execution_count": 31,
   "metadata": {},
   "outputs": [
    {
     "name": "stdout",
     "output_type": "stream",
     "text": [
      "SHIVMAN LABS\n"
     ]
    }
   ],
   "source": [
    "s = \"SHIVMAN LABS\"\n",
    "print(s[:2]+s[2:])"
   ]
  },
  {
   "cell_type": "markdown",
   "metadata": {},
   "source": [
    "# 8.4. String is Immutable Object"
   ]
  },
  {
   "cell_type": "code",
   "execution_count": 39,
   "metadata": {},
   "outputs": [
    {
     "name": "stdout",
     "output_type": "stream",
     "text": [
      "S\n"
     ]
    },
    {
     "ename": "TypeError",
     "evalue": "'str' object does not support item assignment",
     "output_type": "error",
     "traceback": [
      "\u001b[1;31m---------------------------------------------------------------------------\u001b[0m",
      "\u001b[1;31mTypeError\u001b[0m                                 Traceback (most recent call last)",
      "\u001b[1;32m<ipython-input-39-e6d1ae5fc3c4>\u001b[0m in \u001b[0;36m<module>\u001b[1;34m\u001b[0m\n\u001b[0;32m      1\u001b[0m \u001b[0ms\u001b[0m \u001b[1;33m=\u001b[0m \u001b[1;34m\"Shivman Labs\"\u001b[0m\u001b[1;33m\u001b[0m\u001b[1;33m\u001b[0m\u001b[0m\n\u001b[0;32m      2\u001b[0m \u001b[0mprint\u001b[0m\u001b[1;33m(\u001b[0m\u001b[0ms\u001b[0m\u001b[1;33m[\u001b[0m\u001b[1;36m0\u001b[0m\u001b[1;33m]\u001b[0m\u001b[1;33m)\u001b[0m\u001b[1;33m\u001b[0m\u001b[1;33m\u001b[0m\u001b[0m\n\u001b[1;32m----> 3\u001b[1;33m \u001b[0ms\u001b[0m\u001b[1;33m[\u001b[0m\u001b[1;36m0\u001b[0m\u001b[1;33m]\u001b[0m \u001b[1;33m=\u001b[0m \u001b[1;34m's'\u001b[0m\u001b[1;33m\u001b[0m\u001b[1;33m\u001b[0m\u001b[0m\n\u001b[0m",
      "\u001b[1;31mTypeError\u001b[0m: 'str' object does not support item assignment"
     ]
    }
   ],
   "source": [
    "s = \"Shivman Labs\"\n",
    "print(s[0])\n",
    "s[0] = 's'"
   ]
  },
  {
   "cell_type": "code",
   "execution_count": null,
   "metadata": {},
   "outputs": [],
   "source": []
  }
 ],
 "metadata": {
  "kernelspec": {
   "display_name": "Python 3",
   "language": "python",
   "name": "python3"
  },
  "language_info": {
   "codemirror_mode": {
    "name": "ipython",
    "version": 3
   },
   "file_extension": ".py",
   "mimetype": "text/x-python",
   "name": "python",
   "nbconvert_exporter": "python",
   "pygments_lexer": "ipython3",
   "version": "3.8.5"
  }
 },
 "nbformat": 4,
 "nbformat_minor": 4
}
