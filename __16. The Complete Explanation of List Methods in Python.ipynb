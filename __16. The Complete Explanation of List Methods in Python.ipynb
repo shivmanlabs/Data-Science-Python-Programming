{
 "cells": [
  {
   "cell_type": "markdown",
   "metadata": {},
   "source": [
    "# 16. The Complete Explanation of List Methods in Python"
   ]
  },
  {
   "cell_type": "markdown",
   "metadata": {},
   "source": [
    "## 16.1. How to create a List?\n",
    "All Data Science Students should able to work with List Because It is an integral part of Python. In Python, Square Braces Represent the List. The Comma (,) Separates all the Items in the List enclosed by Square Braces."
   ]
  },
  {
   "cell_type": "markdown",
   "metadata": {},
   "source": [
    "### Syntax:\n",
    "L = [I1, I2, ...., In]\n",
    "#Where L is the List name, and I represents the Items in the List"
   ]
  },
  {
   "cell_type": "markdown",
   "metadata": {},
   "source": [
    "### Example:\n",
    "Let's create a list(prog_list) of programming languages used in Data Science."
   ]
  },
  {
   "cell_type": "code",
   "execution_count": 1,
   "metadata": {},
   "outputs": [
    {
     "name": "stdout",
     "output_type": "stream",
     "text": [
      "['Python', 'SAS', 'R']\n"
     ]
    }
   ],
   "source": [
    "#Let prog_list be the List of Programming Languages Used for Data Science\n",
    "prog_list = ['Python','SAS','R']\n",
    "print(prog_list)"
   ]
  },
  {
   "cell_type": "markdown",
   "metadata": {},
   "source": [
    "## 16.1. List Sort?\n",
    "List Sort Function sorts all the Items in the List in the Ascending Order."
   ]
  },
  {
   "cell_type": "markdown",
   "metadata": {},
   "source": [
    "### Syntax:\n",
    "L.sort()"
   ]
  },
  {
   "cell_type": "markdown",
   "metadata": {},
   "source": [
    "### Example-1:\n",
    "Let's Sort the items in the prog_list in the Ascending Order."
   ]
  },
  {
   "cell_type": "code",
   "execution_count": 2,
   "metadata": {},
   "outputs": [
    {
     "name": "stdout",
     "output_type": "stream",
     "text": [
      "Before Sorting: ['Python', 'SAS', 'R']\n",
      "After Sorting : ['Python', 'R', 'SAS']\n"
     ]
    }
   ],
   "source": [
    "#Before Sorting\n",
    "print(\"Before Sorting:\", prog_list)\n",
    "\n",
    "#List Sort\n",
    "prog_list.sort()\n",
    "\n",
    "#After Sorting\n",
    "print(\"After Sorting :\", prog_list)"
   ]
  },
  {
   "cell_type": "markdown",
   "metadata": {},
   "source": [
    "### Example-2:"
   ]
  },
  {
   "cell_type": "code",
   "execution_count": 3,
   "metadata": {},
   "outputs": [
    {
     "name": "stdout",
     "output_type": "stream",
     "text": [
      "Before Sorting: [10, 9, 7, 8, 2]\n",
      "After Sorting : [2, 7, 8, 9, 10]\n"
     ]
    }
   ],
   "source": [
    "#List With Numerical Numbers\n",
    "L1 = [10, 9 ,7, 8 , 2]\n",
    "#Before Sorting\n",
    "print(\"Before Sorting:\", L1)\n",
    "L1.sort()\n",
    "#After Sorting\n",
    "print(\"After Sorting :\", L1)"
   ]
  },
  {
   "cell_type": "markdown",
   "metadata": {},
   "source": [
    "### Example-3:\n",
    "\n"
   ]
  },
  {
   "cell_type": "code",
   "execution_count": 4,
   "metadata": {},
   "outputs": [
    {
     "name": "stdout",
     "output_type": "stream",
     "text": [
      "Before Sorting: [1, 2, 'a']\n"
     ]
    }
   ],
   "source": [
    "#List with Numerical and String Values.\n",
    "L2 = [1,2,'a']\n",
    "#Before Sorting\n",
    "print(\"Before Sorting:\", L2)\n",
    "#L2.sort()\n",
    "#After Sorting\n",
    "#print(\"After Sorting :\", L2)"
   ]
  },
  {
   "cell_type": "markdown",
   "metadata": {},
   "source": [
    "### Example-4:"
   ]
  },
  {
   "cell_type": "code",
   "execution_count": 5,
   "metadata": {},
   "outputs": [
    {
     "name": "stdout",
     "output_type": "stream",
     "text": [
      "Before Sorting: [True, False]\n",
      "After Sorting : [False, True]\n"
     ]
    }
   ],
   "source": [
    "#Sorting Boolean List\n",
    "L3 = [True,False]\n",
    "#Before Sorting\n",
    "print(\"Before Sorting:\", L3)\n",
    "L3.sort()\n",
    "#After Sorting\n",
    "print(\"After Sorting :\", L3)"
   ]
  },
  {
   "cell_type": "markdown",
   "metadata": {},
   "source": [
    "## 16.3. List Reverse\n",
    "\n",
    "### Syntax:\n",
    "\n",
    "L.reverse()\n",
    "\n",
    "It returns the Items in the List in the Reverse Order. List sort function sorts the List only in ascending order. After sorting the List, the List Reverse function helps to return the List in Descending Order."
   ]
  },
  {
   "cell_type": "markdown",
   "metadata": {},
   "source": [
    "### Example:\n",
    "\n",
    "Let's sort and reverse the items in the prog_list."
   ]
  },
  {
   "cell_type": "code",
   "execution_count": 6,
   "metadata": {},
   "outputs": [
    {
     "name": "stdout",
     "output_type": "stream",
     "text": [
      "Default List: ['Python', 'SAS', 'R']\n",
      "Sorted List : ['Python', 'R', 'SAS']\n",
      "Reverse List: ['SAS', 'R', 'Python']\n"
     ]
    }
   ],
   "source": [
    "#Default List\n",
    "prog_list = ['Python','SAS','R']\n",
    "print(\"Default List:\",prog_list)\n",
    "\n",
    "#Sorted List\n",
    "prog_list.sort()\n",
    "print(\"Sorted List :\",prog_list) #Ascending Order\n",
    "\n",
    "#Reverse List\n",
    "prog_list.reverse()\n",
    "print(\"Reverse List:\",prog_list) #Descending Order"
   ]
  },
  {
   "cell_type": "code",
   "execution_count": 7,
   "metadata": {},
   "outputs": [
    {
     "data": {
      "text/plain": [
       "['Python', 'R', 'SAS']"
      ]
     },
     "execution_count": 7,
     "metadata": {},
     "output_type": "execute_result"
    }
   ],
   "source": [
    "#reverse\n",
    "prog_list.reverse()\n",
    "prog_list"
   ]
  },
  {
   "cell_type": "markdown",
   "metadata": {},
   "source": [
    "## 16.4. List Repetition\n",
    "It repeats the List of Items for n number of times.\n",
    "\n",
    "### Syntax\n",
    "L * n\n",
    "\n",
    "### Example\n",
    "Let's Repeat the Items of the prog list twice."
   ]
  },
  {
   "cell_type": "code",
   "execution_count": 8,
   "metadata": {},
   "outputs": [
    {
     "data": {
      "text/plain": [
       "['Python', 'R', 'SAS', 'Python', 'R', 'SAS']"
      ]
     },
     "execution_count": 8,
     "metadata": {},
     "output_type": "execute_result"
    }
   ],
   "source": [
    "#List Repetition\n",
    "prog_list * 2"
   ]
  },
  {
   "cell_type": "markdown",
   "metadata": {},
   "source": [
    "## 16.5. List Join\n",
    "\n",
    "### Syntax:\n",
    "L = L1 + L2\n",
    "The Addition Operator + helps to join or concatenate two or more Lists together."
   ]
  },
  {
   "cell_type": "markdown",
   "metadata": {},
   "source": [
    "### Example:\n",
    "Let's Create another List(stats_list) based on the Statistics Tools used in Data Science"
   ]
  },
  {
   "cell_type": "code",
   "execution_count": 9,
   "metadata": {},
   "outputs": [
    {
     "name": "stdout",
     "output_type": "stream",
     "text": [
      "['SPSS', 'Excel', 'Python', 'R']\n"
     ]
    }
   ],
   "source": [
    "#Let Stats_list be the Statistical Tool used for Data Science\n",
    "stats_list = ['SPSS','Excel','Python','R']\n",
    "print(stats_list)"
   ]
  },
  {
   "cell_type": "markdown",
   "metadata": {},
   "source": [
    "Now Let's join both the Programming List(prog_list) and the Statistics List(stats_list) to form a new Data Science Tools (ds_tools) List."
   ]
  },
  {
   "cell_type": "code",
   "execution_count": 10,
   "metadata": {},
   "outputs": [
    {
     "name": "stdout",
     "output_type": "stream",
     "text": [
      "    prog_list: ['Python', 'R', 'SAS']\n",
      "   stats_list: ['SPSS', 'Excel', 'Python', 'R']\n",
      "ds_tools list: ['Python', 'R', 'SAS', 'SPSS', 'Excel', 'Python', 'R']\n"
     ]
    }
   ],
   "source": [
    "#List Join\n",
    "#Programming List\n",
    "print(\"    prog_list:\",prog_list)\n",
    "#Statistics List\n",
    "print(\"   stats_list:\",stats_list)\n",
    "#Data Science Tools List\n",
    "ds_tools = prog_list + stats_list\n",
    "print(\"ds_tools list:\",ds_tools)"
   ]
  },
  {
   "cell_type": "markdown",
   "metadata": {},
   "source": [
    "## 16.6. List Append\n",
    "\n",
    "### Syntax:\n",
    "L.append(I)\n",
    "\n",
    "It appends an item(I) to the bottom of the List(L)\n",
    "\n",
    "### Example:\n",
    "Let's add a new programming Language Julia to our Data Science Tools List.\n"
   ]
  },
  {
   "cell_type": "code",
   "execution_count": 11,
   "metadata": {},
   "outputs": [
    {
     "data": {
      "text/plain": [
       "['Python', 'R', 'SAS', 'SPSS', 'Excel', 'Python', 'R', 'Julia']"
      ]
     },
     "execution_count": 11,
     "metadata": {},
     "output_type": "execute_result"
    }
   ],
   "source": [
    "ds_tools.append('Julia')\n",
    "ds_tools"
   ]
  },
  {
   "cell_type": "markdown",
   "metadata": {},
   "source": [
    "Drawbacks:\n",
    "There are two main Drawbacks in List Append.\n",
    "We can Insert the Item only at the bottom of the List. We cannot Insert it in any order position.\n",
    "At a time, we can Only Append only a Single Item to the List.\n"
   ]
  },
  {
   "cell_type": "markdown",
   "metadata": {},
   "source": [
    "## 16.7. List Insert\n",
    "\n",
    "## Syntax:\n",
    "\n",
    "L.insert(i,I) #i = index position, I = Item\n",
    "\n",
    "List Insert is similar to List Append but can add an Item(I) at any Position on the List(L) using the index(i) position.\n",
    "\n",
    "## Example:\n",
    "SQL is a fundamental tool in Data Science. Let's add SQL first in the Data Science tools List.\n"
   ]
  },
  {
   "cell_type": "code",
   "execution_count": 12,
   "metadata": {},
   "outputs": [
    {
     "data": {
      "text/plain": [
       "['SQL', 'Python', 'R', 'SAS', 'SPSS', 'Excel', 'Python', 'R', 'Julia']"
      ]
     },
     "execution_count": 12,
     "metadata": {},
     "output_type": "execute_result"
    }
   ],
   "source": [
    "ds_tools.insert(0,'SQL') #index = 0, Item=\"SQL\"\n",
    "ds_tools"
   ]
  },
  {
   "cell_type": "markdown",
   "metadata": {},
   "source": [
    "Drawback:\n",
    "At a time, we can Only Insert only a Single Item to the List."
   ]
  },
  {
   "cell_type": "markdown",
   "metadata": {},
   "source": [
    "## 16.8. List Insert\n",
    "\n",
    "### Syntax:\n",
    "\n",
    "List Extend is similar to List Append. But, It can add multiple items from Iterables to the bottom of the List.\n",
    "\n",
    "### Example:\n",
    "Let's Create another List(viz_list) based on the Visualization Tools used in Data Science."
   ]
  },
  {
   "cell_type": "code",
   "execution_count": 13,
   "metadata": {},
   "outputs": [
    {
     "data": {
      "text/plain": [
       "['Tableau', 'PowerBI', 'Python']"
      ]
     },
     "execution_count": 13,
     "metadata": {},
     "output_type": "execute_result"
    }
   ],
   "source": [
    "#Let Viz_list be the Visualization tools used for Data Science\n",
    "viz_list = ['Tableau','PowerBI','Python']\n",
    "viz_list"
   ]
  },
  {
   "cell_type": "markdown",
   "metadata": {},
   "source": [
    "Now, Let's append the viz_list to ds_tools List using the List Extend function.\n"
   ]
  },
  {
   "cell_type": "code",
   "execution_count": 14,
   "metadata": {},
   "outputs": [
    {
     "data": {
      "text/plain": [
       "['SQL',\n",
       " 'Python',\n",
       " 'R',\n",
       " 'SAS',\n",
       " 'SPSS',\n",
       " 'Excel',\n",
       " 'Python',\n",
       " 'R',\n",
       " 'Julia',\n",
       " 'Tableau',\n",
       " 'PowerBI',\n",
       " 'Python']"
      ]
     },
     "execution_count": 14,
     "metadata": {},
     "output_type": "execute_result"
    }
   ],
   "source": [
    "ds_tools.extend(viz_list)\n",
    "ds_tools"
   ]
  },
  {
   "cell_type": "markdown",
   "metadata": {},
   "source": [
    "## 16.9. List Count\n",
    "\n",
    "### Syntax:\n",
    "\n",
    "It returns the total number of occurrences of an item(I) in the List.\n",
    "\n",
    "### Example:\n",
    "Let's count the number of times Python and R occurred in the Data Science Tools List."
   ]
  },
  {
   "cell_type": "code",
   "execution_count": 15,
   "metadata": {},
   "outputs": [
    {
     "name": "stdout",
     "output_type": "stream",
     "text": [
      "Python Count: 3\n",
      "R           : 2\n"
     ]
    }
   ],
   "source": [
    "#Count\n",
    "print(\"Python Count:\",ds_tools.count(\"Python\"))\n",
    "print(\"R           :\",ds_tools.count(\"R\"))"
   ]
  },
  {
   "cell_type": "code",
   "execution_count": null,
   "metadata": {},
   "outputs": [],
   "source": []
  },
  {
   "cell_type": "markdown",
   "metadata": {},
   "source": [
    "Python repeats three times in the List, and R repeats twice."
   ]
  },
  {
   "cell_type": "markdown",
   "metadata": {},
   "source": [
    "## 16.10. List Pop:\n",
    "\n",
    "### Syntax:\n",
    "L.pop(i) #i is index position and by default i = -1\n",
    "\n",
    "It removes and returns the Item on the Index(I) Position in the List.\n",
    "\n",
    "### Example:\n",
    "Let's pop the last Item from the ds_tools List."
   ]
  },
  {
   "cell_type": "code",
   "execution_count": 16,
   "metadata": {},
   "outputs": [
    {
     "name": "stdout",
     "output_type": "stream",
     "text": [
      "Before Pop out: ['SQL', 'Python', 'R', 'SAS', 'SPSS', 'Excel', 'Python', 'R', 'Julia', 'Tableau', 'PowerBI', 'Python']\n",
      "  Pop out Item: Python\n",
      " After Pop out: ['SQL', 'Python', 'R', 'SAS', 'SPSS', 'Excel', 'Python', 'R', 'Julia', 'Tableau', 'PowerBI']\n"
     ]
    }
   ],
   "source": [
    "#Pop\n",
    "print(\"Before Pop out:\",ds_tools)\n",
    "print(\"  Pop out Item:\",ds_tools.pop())\n",
    "print(\" After Pop out:\",ds_tools)"
   ]
  },
  {
   "cell_type": "markdown",
   "metadata": {},
   "source": [
    "The Last Item is removed and returned from the ds_tools List. Similarly, we can pop out any items using its Index position."
   ]
  },
  {
   "cell_type": "markdown",
   "metadata": {},
   "source": [
    "## 16.11. List Remove:\n",
    "\n",
    "### Syntax:\n",
    "L.remove(I)\n",
    "#I is an Item\n",
    "    \n",
    "It removes the first appearance of Item(I) in the List.\n",
    "\n",
    "### Example:\n",
    "Let's remove the first appearance of R and Python from the data science tools List."
   ]
  },
  {
   "cell_type": "code",
   "execution_count": 96,
   "metadata": {},
   "outputs": [
    {
     "name": "stdout",
     "output_type": "stream",
     "text": [
      "Before Removing: ['SQL', 'Python', 'R', 'SAS', 'SPSS', 'Excel', 'Python', 'R', 'Julia', 'Tableau', 'PowerBI']\n",
      "Before Removing: ['SQL', 'SAS', 'SPSS', 'Excel', 'Python', 'R', 'Julia', 'Tableau', 'PowerBI']\n"
     ]
    }
   ],
   "source": [
    "#Before Removing\n",
    "print(\"Before Removing:\",ds_tools)\n",
    "\n",
    "#List Remove\n",
    "ds_tools.remove(\"Python\")\n",
    "ds_tools.remove(\"R\")\n",
    "\n",
    "#After Removing\n",
    "print(\"After Removing:\",ds_tools)"
   ]
  },
  {
   "cell_type": "markdown",
   "metadata": {},
   "source": [
    "## 16.12. Deleting List Item:\n",
    "\n",
    "### Syntax:\n",
    "\n",
    "del L[i]\n",
    "i = Index Position\n",
    "\n",
    "It deletes the Item on the given Index(i) position.\n",
    "\n",
    "### Example:\n",
    "Let's delete Python from the ds_tools List. The Index position of Python is 4."
   ]
  },
  {
   "cell_type": "code",
   "execution_count": 100,
   "metadata": {},
   "outputs": [
    {
     "name": "stdout",
     "output_type": "stream",
     "text": [
      "Before Deleting: ['SQL', 'SAS', 'SPSS', 'Excel', 'Python', 'R', 'Julia', 'Tableau', 'PowerBI']\n",
      " After Deleting: ['SQL', 'SAS', 'SPSS', 'Excel', 'R', 'Julia', 'Tableau', 'PowerBI']\n"
     ]
    }
   ],
   "source": [
    "#Delete Items\n",
    "print(\"Before Deleting:\",ds_tools)\n",
    "del ds_tools[4] #Index position of Python is 4\n",
    "print(\" After Deleting:\",ds_tools)"
   ]
  },
  {
   "cell_type": "markdown",
   "metadata": {},
   "source": [
    "## 16.13. List Clear:\n",
    "\n",
    "### Syntax:\n",
    "L.clear()\n",
    "\n",
    "It clears all the Items on the List.\n",
    "\n",
    "### Example:\n",
    "Let's clear all the elements in the ds_tools List"
   ]
  },
  {
   "cell_type": "code",
   "execution_count": 15,
   "metadata": {},
   "outputs": [
    {
     "name": "stdout",
     "output_type": "stream",
     "text": [
      "[]\n"
     ]
    }
   ],
   "source": [
    "#Clear All the Items\n",
    "ds_tools.clear()\n",
    "print(ds_tools)"
   ]
  },
  {
   "cell_type": "markdown",
   "metadata": {},
   "source": [
    "## 16.14. List Delete\n",
    "\n",
    "### Syntax:\n",
    "del L\n",
    "\n",
    "It deletes an entire List.\n",
    "\n",
    "### Example:\n",
    "Let's delete the ds_tools List."
   ]
  },
  {
   "cell_type": "code",
   "execution_count": 16,
   "metadata": {},
   "outputs": [],
   "source": [
    "#Deleting the List\n",
    "del ds_tools"
   ]
  },
  {
   "cell_type": "code",
   "execution_count": 17,
   "metadata": {},
   "outputs": [
    {
     "ename": "NameError",
     "evalue": "name 'ds_tools' is not defined",
     "output_type": "error",
     "traceback": [
      "\u001b[1;31m---------------------------------------------------------------------------\u001b[0m",
      "\u001b[1;31mNameError\u001b[0m                                 Traceback (most recent call last)",
      "\u001b[1;32m<ipython-input-17-d519fbba5a6a>\u001b[0m in \u001b[0;36m<module>\u001b[1;34m\u001b[0m\n\u001b[1;32m----> 1\u001b[1;33m \u001b[0mds_tools\u001b[0m\u001b[1;33m\u001b[0m\u001b[1;33m\u001b[0m\u001b[0m\n\u001b[0m",
      "\u001b[1;31mNameError\u001b[0m: name 'ds_tools' is not defined"
     ]
    }
   ],
   "source": [
    "ds_tools"
   ]
  },
  {
   "cell_type": "code",
   "execution_count": null,
   "metadata": {},
   "outputs": [],
   "source": []
  }
 ],
 "metadata": {
  "kernelspec": {
   "display_name": "Python 3",
   "language": "python",
   "name": "python3"
  },
  "language_info": {
   "codemirror_mode": {
    "name": "ipython",
    "version": 3
   },
   "file_extension": ".py",
   "mimetype": "text/x-python",
   "name": "python",
   "nbconvert_exporter": "python",
   "pygments_lexer": "ipython3",
   "version": "3.8.5"
  }
 },
 "nbformat": 4,
 "nbformat_minor": 4
}
