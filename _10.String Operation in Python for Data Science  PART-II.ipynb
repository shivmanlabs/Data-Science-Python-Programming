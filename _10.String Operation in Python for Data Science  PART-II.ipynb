{
 "cells": [
  {
   "cell_type": "markdown",
   "metadata": {},
   "source": [
    "# 10.String Operation in Python for Data Science | PART-II"
   ]
  },
  {
   "cell_type": "markdown",
   "metadata": {},
   "source": [
    "# Working with Upper and Lower Case | String Operations"
   ]
  },
  {
   "cell_type": "markdown",
   "metadata": {},
   "source": [
    "## 10.1. Upper Case | s.upper()\n",
    "It returns all the Characters in the String in Upper Case."
   ]
  },
  {
   "cell_type": "code",
   "execution_count": 32,
   "metadata": {},
   "outputs": [
    {
     "name": "stdout",
     "output_type": "stream",
     "text": [
      "SHIVMAN LABS\n"
     ]
    }
   ],
   "source": [
    "#String\n",
    "s = \"Shivman Labs\"\n",
    "#Upper Case\n",
    "s_up = s.upper()\n",
    "print(s_up)"
   ]
  },
  {
   "cell_type": "markdown",
   "metadata": {},
   "source": [
    "## 10.2. Is Upper Case, s.isupper():\n",
    "It returns true if all the Characters in the String are in Upper Case.\n"
   ]
  },
  {
   "cell_type": "code",
   "execution_count": 17,
   "metadata": {},
   "outputs": [
    {
     "name": "stdout",
     "output_type": "stream",
     "text": [
      "Shivman Labs : False\n",
      "SHIVMAN LABS : True\n"
     ]
    }
   ],
   "source": [
    "#String\n",
    "s = \"Shivman Labs\"\n",
    "#Upper Case\n",
    "s_up = s.upper()\n",
    "#Is Upper?\n",
    "print(s,\":\",s.isupper())\n",
    "print(s_up,\":\",s_up.isupper())"
   ]
  },
  {
   "cell_type": "markdown",
   "metadata": {},
   "source": [
    "## 10.3. Lower Case, s.lower():\n",
    "It returns all the Characters in the String in the Lower Case."
   ]
  },
  {
   "cell_type": "code",
   "execution_count": 18,
   "metadata": {},
   "outputs": [
    {
     "name": "stdout",
     "output_type": "stream",
     "text": [
      "shivman labs\n"
     ]
    }
   ],
   "source": [
    "#String\n",
    "s = \"Shivman Labs\"\n",
    "s_low = s.lower()\n",
    "print(s_low)"
   ]
  },
  {
   "cell_type": "markdown",
   "metadata": {},
   "source": [
    "## 10.4. Is Lower Case, s.islower():\n",
    "It returns true if all the Characters in the String are in Lower Case."
   ]
  },
  {
   "cell_type": "code",
   "execution_count": 21,
   "metadata": {},
   "outputs": [
    {
     "name": "stdout",
     "output_type": "stream",
     "text": [
      "Shivman Labs : False\n",
      "shivman labs : True\n"
     ]
    }
   ],
   "source": [
    "#String\n",
    "s = \"Shivman Labs\"\n",
    "s_low = s.lower()\n",
    "#is Lower?\n",
    "print(s,\":\",s.islower())\n",
    "print(s_low,\":\",s_low.islower())"
   ]
  },
  {
   "cell_type": "markdown",
   "metadata": {},
   "source": [
    "### 10.5. Swap Case, s.swapcase():\n",
    "It returns all the Upper Case Characters in Lower Case and Vice Versa. "
   ]
  },
  {
   "cell_type": "code",
   "execution_count": 22,
   "metadata": {},
   "outputs": [
    {
     "data": {
      "text/plain": [
       "'sHIVMAN lABS'"
      ]
     },
     "execution_count": 22,
     "metadata": {},
     "output_type": "execute_result"
    }
   ],
   "source": [
    "#String\n",
    "s = \"Shivman Labs\"\n",
    "#Swap Case\n",
    "s.swapcase()"
   ]
  },
  {
   "cell_type": "markdown",
   "metadata": {},
   "source": [
    "### 10.6. String Title, s.title():\n",
    "It returns the First Character in each word of the String in Upper Case and other Characters in the Lower Case."
   ]
  },
  {
   "cell_type": "code",
   "execution_count": 26,
   "metadata": {},
   "outputs": [
    {
     "name": "stdout",
     "output_type": "stream",
     "text": [
      "Shivman Labs\n"
     ]
    }
   ],
   "source": [
    "#String\n",
    "s = \"shivman Labs\"\n",
    "#String Title\n",
    "s_title = s.title()\n",
    "print(s_title)"
   ]
  },
  {
   "cell_type": "markdown",
   "metadata": {},
   "source": [
    "### 10.7. Is Title, s.istitle():\n",
    "It returns True if the First Character in each word of the String is in the Upper Case and Rest are in the Lower Case. Else, It returns False."
   ]
  },
  {
   "cell_type": "code",
   "execution_count": 28,
   "metadata": {},
   "outputs": [
    {
     "name": "stdout",
     "output_type": "stream",
     "text": [
      "shivman Labs : False\n",
      "Shivman Labs : True\n"
     ]
    }
   ],
   "source": [
    "#String\n",
    "s = \"shivman Labs\"\n",
    "#String Title\n",
    "s_title = s.title()\n",
    "#Is Title?\n",
    "print(s,':',s.istitle())\n",
    "print(s_title,\":\",s_title.istitle())"
   ]
  },
  {
   "cell_type": "markdown",
   "metadata": {},
   "source": [
    "### 10.8. Case fold, s.casefold():\n",
    "It is the advanced version of lower(). It returns all the Characters in the String in the Lower Case."
   ]
  },
  {
   "cell_type": "code",
   "execution_count": 29,
   "metadata": {},
   "outputs": [
    {
     "name": "stdout",
     "output_type": "stream",
     "text": [
      "shivman labs\n"
     ]
    }
   ],
   "source": [
    "#String\n",
    "s = \"Shivman Labs\"\n",
    "#Case Fold\n",
    "s_casefold = s.casefold()\n",
    "print(s_casefold)"
   ]
  },
  {
   "cell_type": "markdown",
   "metadata": {},
   "source": [
    "### 10.9. Capitalize, s.capitalize():\n",
    "It returns the first Character in the String in Upper Case and Other Characters in the Lower Case"
   ]
  },
  {
   "cell_type": "code",
   "execution_count": 31,
   "metadata": {},
   "outputs": [
    {
     "name": "stdout",
     "output_type": "stream",
     "text": [
      "Shivman labs\n"
     ]
    }
   ],
   "source": [
    "#String\n",
    "s = \"ShivMan Labs\"\n",
    "#Capitalize\n",
    "s_cap = s.capitalize()\n",
    "print(s_cap)"
   ]
  },
  {
   "cell_type": "markdown",
   "metadata": {},
   "source": [
    "# Working With String Alignment | String Operation"
   ]
  },
  {
   "cell_type": "markdown",
   "metadata": {},
   "source": [
    "## 10.10. String Length, len(s):\n",
    "It returns the length of the String"
   ]
  },
  {
   "cell_type": "code",
   "execution_count": 33,
   "metadata": {},
   "outputs": [
    {
     "data": {
      "text/plain": [
       "12"
      ]
     },
     "execution_count": 33,
     "metadata": {},
     "output_type": "execute_result"
    }
   ],
   "source": [
    "s = \"Shivman Labs\"\n",
    "len(s)"
   ]
  },
  {
   "cell_type": "markdown",
   "metadata": {},
   "source": [
    "## 10.11. Right Justification, rjust(s):\n",
    "It returns the String in specified length in the Right Justification."
   ]
  },
  {
   "cell_type": "code",
   "execution_count": 34,
   "metadata": {},
   "outputs": [
    {
     "name": "stdout",
     "output_type": "stream",
     "text": [
      "s.rjust(12) Shivman Labs\n",
      "s.rjust(15)    Shivman Labs\n",
      "s.rjust(15,'x') ***Shivman Labs\n"
     ]
    }
   ],
   "source": [
    "#Right Justification\n",
    "print(\"s.rjust(12)\",s.rjust(12)) #The length we specified is 12. Hence, It will return the Same String.\n",
    "#The length we specified is 15. Hence, It will add three White spaces at the beginning of the String.\n",
    "print(\"s.rjust(15)\",s.rjust(15)) \n",
    "#The length we specified length is 15 & the Character = '*' Hence it will add three White '*' at the beginning of the String.\n",
    "print(\"s.rjust(15,'x')\",s.rjust(15,'*')) "
   ]
  },
  {
   "cell_type": "markdown",
   "metadata": {},
   "source": [
    "## 10.12. Left Justification, ljust(s):\n",
    "It returns the String in specified length in the Left Justification.`"
   ]
  },
  {
   "cell_type": "code",
   "execution_count": 38,
   "metadata": {},
   "outputs": [
    {
     "name": "stdout",
     "output_type": "stream",
     "text": [
      "s.ljust(12) Shivman Labs\n",
      "s.ljust(15) Shivman Labs   \n",
      "s.ljust(15,'*') Shivman Labs***\n"
     ]
    }
   ],
   "source": [
    "#Left Justification\n",
    "print(\"s.ljust(12)\",s.ljust(12)) #The length we specified is 12. Hence, It will return the Same String.\n",
    "#The length we specified is 15. Hence, It will add three White spaces at the end of the String.\n",
    "print(\"s.ljust(15)\",s.ljust(15)) \n",
    "#The length we specified length is 15 & the Character = '*' Hence it will add three White '*' at the end of the String.\n",
    "print(\"s.ljust(15,'*')\",s.ljust(15,'*')) "
   ]
  },
  {
   "cell_type": "markdown",
   "metadata": {},
   "source": [
    "## 0.13. Center Justification, center(s):\n",
    "It returns the String in specified length in the Center Justification.\n"
   ]
  },
  {
   "cell_type": "code",
   "execution_count": 37,
   "metadata": {},
   "outputs": [
    {
     "name": "stdout",
     "output_type": "stream",
     "text": [
      "s.center(12) Shivman Labs\n",
      "s.center(15)   Shivman Labs \n",
      "s.center(15,'*') **Shivman Labs*\n"
     ]
    }
   ],
   "source": [
    "#Center Justification\n",
    "print(\"s.center(12)\",s.center(12)) \n",
    "print(\"s.center(15)\",s.center(15))\n",
    "print(\"s.center(15,'*')\",s.center(15,'*')) "
   ]
  },
  {
   "cell_type": "code",
   "execution_count": null,
   "metadata": {},
   "outputs": [],
   "source": []
  }
 ],
 "metadata": {
  "kernelspec": {
   "display_name": "Python 3",
   "language": "python",
   "name": "python3"
  },
  "language_info": {
   "codemirror_mode": {
    "name": "ipython",
    "version": 3
   },
   "file_extension": ".py",
   "mimetype": "text/x-python",
   "name": "python",
   "nbconvert_exporter": "python",
   "pygments_lexer": "ipython3",
   "version": "3.8.5"
  }
 },
 "nbformat": 4,
 "nbformat_minor": 4
}
