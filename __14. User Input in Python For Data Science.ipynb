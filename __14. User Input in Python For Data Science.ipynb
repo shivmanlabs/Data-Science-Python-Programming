{
 "cells": [
  {
   "cell_type": "markdown",
   "metadata": {},
   "source": [
    "# 14.1. User Input in Python For Data Science\n"
   ]
  },
  {
   "cell_type": "markdown",
   "metadata": {},
   "source": [
    "## 14.1. Introduction:\n",
    "In Python, Input Function( input() ) reads Input input from the User in the String Format. "
   ]
  },
  {
   "cell_type": "code",
   "execution_count": 1,
   "metadata": {},
   "outputs": [
    {
     "name": "stdout",
     "output_type": "stream",
     "text": [
      "Shivman Labs\n"
     ]
    }
   ],
   "source": [
    "#Python code to read User Input\n",
    "a = input()"
   ]
  },
  {
   "cell_type": "code",
   "execution_count": 3,
   "metadata": {},
   "outputs": [
    {
     "name": "stdout",
     "output_type": "stream",
     "text": [
      "Shivman Labs\n"
     ]
    }
   ],
   "source": [
    "#Let's print the value of a.\n",
    "print(a)"
   ]
  },
  {
   "cell_type": "markdown",
   "metadata": {},
   "source": [
    "## 14.2. Getting a String Value From the User.\n",
    "The Input Function(input()) always stores Output as a String.\n",
    "\n",
    "For Example:\n",
    "In this Python Programming. Let's Create three Variables. i.e., a,b,c. Let the Use Input be, a = 10, b = 10.5, c = \"Text\". Let's find the data type for these Variables.\n"
   ]
  },
  {
   "cell_type": "markdown",
   "metadata": {},
   "source": [
    "Hence it is proved that, by default, python stores all the values from the User Input in the String DataType."
   ]
  },
  {
   "cell_type": "code",
   "execution_count": 10,
   "metadata": {},
   "outputs": [
    {
     "name": "stdout",
     "output_type": "stream",
     "text": [
      "10\n",
      "10.5\n",
      "Text\n"
     ]
    }
   ],
   "source": [
    "#Let's get the values of Variable a,b, and c.\n",
    "a = input()\n",
    "b = input()\n",
    "c = input()"
   ]
  },
  {
   "cell_type": "code",
   "execution_count": 13,
   "metadata": {},
   "outputs": [
    {
     "name": "stdout",
     "output_type": "stream",
     "text": [
      "The Value of a is 10 and its data type is <class 'str'>\n",
      "The Value of b is 10.5 and its data type is <class 'str'>\n",
      "The Value of c is Text and its data type is <class 'str'>\n"
     ]
    }
   ],
   "source": [
    "#Let's Print the Value of the Variables a,b,and c.\n",
    "print(\"The Value of a is %s and its data type is %s\" %(a,type(a)))\n",
    "print(\"The Value of b is %s and its data type is %s\" %(b,type(b)))\n",
    "print(\"The Value of c is %s and its data type is %s\" %(c,type(c)))"
   ]
  },
  {
   "cell_type": "markdown",
   "metadata": {},
   "source": [
    "## 14.2. Getting an Integer Value From the User.\n",
    "In Python, all the user input values are stores in String. We need to use Type Casting(int()) to convert those values to an Integer.\n"
   ]
  },
  {
   "cell_type": "code",
   "execution_count": 14,
   "metadata": {},
   "outputs": [
    {
     "name": "stdout",
     "output_type": "stream",
     "text": [
      "10\n",
      "The Value of a is 10 and its data type is <class 'str'>\n",
      "The Value of b is 10 and its data type is <class 'int'>\n"
     ]
    }
   ],
   "source": [
    "#User Input\n",
    "a = input()\n",
    "print(\"The Value of a is %s and its data type is %s\" %(a,type(a)))\n",
    "\n",
    "#Type Conversion from String to Integer.\n",
    "b = int(a)\n",
    "print(\"The Value of b is %d and its data type is %s\" %(b,type(b)))"
   ]
  },
  {
   "cell_type": "markdown",
   "metadata": {},
   "source": [
    "It is the Method to Convert the User Input Values from String to an Integer\n"
   ]
  },
  {
   "cell_type": "markdown",
   "metadata": {},
   "source": [
    "## 14.2. Getting a Float Value From the User.\n",
    "Type Casting (float()) Function Converts the Values from String to an Integer."
   ]
  },
  {
   "cell_type": "code",
   "execution_count": 1,
   "metadata": {},
   "outputs": [
    {
     "name": "stdout",
     "output_type": "stream",
     "text": [
      "10\n",
      "The Value of a is 10 and its data type is <class 'str'>\n",
      "The Value of b is 10 and its data type is <class 'int'>\n"
     ]
    }
   ],
   "source": [
    "#User Input\n",
    "a = input()\n",
    "print(\"The Value of a is %s and its data type is %s\" %(a,type(a)))\n",
    "\n",
    "#Type Conversion from String to Integer.\n",
    "b = int(a)\n",
    "print(\"The Value of b is %d and its data type is %s\" %(b,type(b)))"
   ]
  },
  {
   "cell_type": "markdown",
   "metadata": {},
   "source": [
    "## 14.2. Getting a Float Value From the User.\n",
    "Type Casting (float()) Function Converts the Values from String to Float.\n"
   ]
  },
  {
   "cell_type": "code",
   "execution_count": 2,
   "metadata": {},
   "outputs": [
    {
     "name": "stdout",
     "output_type": "stream",
     "text": [
      "10.5\n",
      "The Value of a is 10.5 and its data type is <class 'str'>\n",
      "The Value of b is 10.500000 and its data type is <class 'float'>\n"
     ]
    }
   ],
   "source": [
    "#User Input\n",
    "a = input()\n",
    "print(\"The Value of a is %s and its data type is %s\" %(a,type(a)))\n",
    "\n",
    "#Type Conversion from String to Float.\n",
    "b = float(a)\n",
    "print(\"The Value of b is %f and its data type is %s\" %(b,type(b)))"
   ]
  },
  {
   "cell_type": "markdown",
   "metadata": {},
   "source": [
    "## 14.3. Getting a Boolean Value From the User.\n",
    "Type Casting (bool()) Function Converts the Values from String to Boolean."
   ]
  },
  {
   "cell_type": "code",
   "execution_count": 3,
   "metadata": {},
   "outputs": [
    {
     "name": "stdout",
     "output_type": "stream",
     "text": [
      "True\n",
      "The Value of a is True and its data type is <class 'str'>\n",
      "The Value of b is 1.000000 and its data type is <class 'bool'>\n"
     ]
    }
   ],
   "source": [
    "#User Input\n",
    "a = input()\n",
    "print(\"The Value of a is %s and its data type is %s\" %(a,type(a)))\n",
    "\n",
    "#Type Conversion from String to Boolean.\n",
    "b = bool(a)\n",
    "print(\"The Value of b is %f and its data type is %s\" %(b,type(b)))"
   ]
  },
  {
   "cell_type": "markdown",
   "metadata": {},
   "source": [
    "## 14.5. Getting List items From the User"
   ]
  },
  {
   "cell_type": "markdown",
   "metadata": {},
   "source": [
    "## STEPS\n",
    "Get the List of Items From the User Input."
   ]
  },
  {
   "cell_type": "code",
   "execution_count": 7,
   "metadata": {},
   "outputs": [
    {
     "name": "stdout",
     "output_type": "stream",
     "text": [
      "Green, Blue, Black, Red\n"
     ]
    }
   ],
   "source": [
    "colours = input()"
   ]
  },
  {
   "cell_type": "markdown",
   "metadata": {},
   "source": [
    "Split the Items using a separator."
   ]
  },
  {
   "cell_type": "code",
   "execution_count": 10,
   "metadata": {},
   "outputs": [
    {
     "name": "stdout",
     "output_type": "stream",
     "text": [
      "['Green', ' Blue', ' Black', ' Red']\n"
     ]
    }
   ],
   "source": [
    "l = colours.split(',')\n",
    "print(l)"
   ]
  },
  {
   "cell_type": "markdown",
   "metadata": {},
   "source": [
    "Convert the Items into the List."
   ]
  },
  {
   "cell_type": "code",
   "execution_count": 15,
   "metadata": {},
   "outputs": [
    {
     "name": "stdout",
     "output_type": "stream",
     "text": [
      "The Value of a is Green, Blue, Black and its data type is <class 'str'>\n",
      "The Items in the colours_list are ['Red', ' Green', ' Blue'] and its data type is <class 'list'>\n"
     ]
    }
   ],
   "source": [
    "colours_list = list(l)\n",
    "print(\"The Value of a is %s and its data type is %s\" %(a,type(a)))\n",
    "print(\"The Items in the colours_list are %s and its data type is %s\" %(colours_list,type(colours_list)))"
   ]
  },
  {
   "cell_type": "markdown",
   "metadata": {},
   "source": [
    "## 14.5. Getting Tuple From the User\n",
    "It is similar to the List, but we use Type Casting(tuple()) to Store the List of Items in the Tuple.\n"
   ]
  },
  {
   "cell_type": "code",
   "execution_count": 18,
   "metadata": {},
   "outputs": [
    {
     "name": "stdout",
     "output_type": "stream",
     "text": [
      "Red, White, Green\n",
      "The Value of a is Green, Blue, Black and its data type is <class 'str'>\n",
      "The Items of colors_tuple are ('Red', ' White', ' Green') and its data type is <class 'tuple'>\n"
     ]
    }
   ],
   "source": [
    "#User Input\n",
    "colours = input()\n",
    "#Spliting the Items Using the Separator (,)\n",
    "l = colours.split(',')\n",
    "#Converting it to Tuple\n",
    "colours_tuple = tuple(l)\n",
    "print(\"The Value of a is %s and its data type is %s\" %(a,type(a)))\n",
    "print(\"The Items of colors_tuple are %s and its data type is %s\" %(colours_tuple,type(colours_tuple)))"
   ]
  },
  {
   "cell_type": "markdown",
   "metadata": {},
   "source": [
    "## 14.7. Getting Dictionary From the User\n",
    "\n",
    "Example:\n",
    "Let's create a Dictionary to Store the Height and Weight of Three people."
   ]
  },
  {
   "cell_type": "code",
   "execution_count": 32,
   "metadata": {},
   "outputs": [
    {
     "name": "stdout",
     "output_type": "stream",
     "text": [
      "p1,p2,p3\n",
      "5.7,5.8,5.9\n",
      "63,65,69\n"
     ]
    }
   ],
   "source": [
    "#Height in ft and Weight in kg\n",
    "p_name = input()\n",
    "p_height = input()\n",
    "p_weight = input()"
   ]
  },
  {
   "cell_type": "code",
   "execution_count": 33,
   "metadata": {},
   "outputs": [
    {
     "name": "stdout",
     "output_type": "stream",
     "text": [
      "p1,p2,p3\n",
      "5.7,5.8,5.9\n",
      "63,65,69\n"
     ]
    }
   ],
   "source": [
    "#Lets Print the Value\n",
    "print(p_name)\n",
    "print(p_height)\n",
    "print(p_weight)"
   ]
  },
  {
   "cell_type": "code",
   "execution_count": 34,
   "metadata": {},
   "outputs": [
    {
     "name": "stdout",
     "output_type": "stream",
     "text": [
      "['p1', 'p2', 'p3']\n",
      "['5.7', '5.8', '5.9']\n",
      "['63', '65', '69']\n"
     ]
    }
   ],
   "source": [
    "#Lets Split the Values using Separator\n",
    "person_name = p_name.split(',')\n",
    "height_in_ft = p_height.split(',')\n",
    "weight_in_kg = p_weight.split(',')\n",
    "print(person_name)\n",
    "print(height_in_ft)\n",
    "print(weight_in_kg)"
   ]
  },
  {
   "cell_type": "code",
   "execution_count": 38,
   "metadata": {},
   "outputs": [
    {
     "data": {
      "text/plain": [
       "{'Person_Name': ['p1', 'p2', 'p3'],\n",
       " 'Height_in_ft': ['5.7', '5.8', '5.9'],\n",
       " 'Weight_in_kg': ['63', '65', '69']}"
      ]
     },
     "execution_count": 38,
     "metadata": {},
     "output_type": "execute_result"
    }
   ],
   "source": [
    "dict_person = {'Person_Name':person_name,'Height_in_ft':height_in_ft,'Weight_in_kg':weight_in_kg}\n",
    "dict_person"
   ]
  },
  {
   "cell_type": "code",
   "execution_count": 37,
   "metadata": {},
   "outputs": [
    {
     "data": {
      "text/plain": [
       "{'Person_Name': ['p1', 'p2', 'p3'],\n",
       " 'Height_in_ft': ['5.7', '5.8', '5.9'],\n",
       " 'Weight_in_kg': ['63', '65', '69']}"
      ]
     },
     "execution_count": 37,
     "metadata": {},
     "output_type": "execute_result"
    }
   ],
   "source": [
    "dict_person"
   ]
  },
  {
   "cell_type": "code",
   "execution_count": null,
   "metadata": {},
   "outputs": [],
   "source": []
  }
 ],
 "metadata": {
  "kernelspec": {
   "display_name": "Python 3",
   "language": "python",
   "name": "python3"
  },
  "language_info": {
   "codemirror_mode": {
    "name": "ipython",
    "version": 3
   },
   "file_extension": ".py",
   "mimetype": "text/x-python",
   "name": "python",
   "nbconvert_exporter": "python",
   "pygments_lexer": "ipython3",
   "version": "3.8.5"
  }
 },
 "nbformat": 4,
 "nbformat_minor": 4
}
